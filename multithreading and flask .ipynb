{
 "cells": [
  {
   "cell_type": "code",
   "execution_count": 9,
   "id": "999218d6",
   "metadata": {},
   "outputs": [],
   "source": [
    "import time\n",
    "\n",
    "def hello():\n",
    "    for i in range(10):\n",
    "        print(\"hello\")\n",
    "        time.sleep(1)\n",
    "    \n",
    "def hi():\n",
    "    for i in range(10):\n",
    "        print(\"hi\")\n",
    "    "
   ]
  },
  {
   "cell_type": "code",
   "execution_count": 10,
   "id": "f7ca1407",
   "metadata": {},
   "outputs": [
    {
     "name": "stdout",
     "output_type": "stream",
     "text": [
      "hello\n",
      "hello\n",
      "hello\n",
      "hello\n",
      "hello\n",
      "hello\n",
      "hello\n",
      "hello\n",
      "hello\n",
      "hello\n",
      "hi\n",
      "hi\n",
      "hi\n",
      "hi\n",
      "hi\n",
      "hi\n",
      "hi\n",
      "hi\n",
      "hi\n",
      "hi\n"
     ]
    }
   ],
   "source": [
    "hello()\n",
    "hi()"
   ]
  },
  {
   "cell_type": "code",
   "execution_count": 2,
   "id": "0cb15a76",
   "metadata": {},
   "outputs": [],
   "source": [
    "from threading import *\n",
    "import time\n",
    "\n",
    "class hello(Thread):\n",
    "    def run(self):\n",
    "        for i in range(10):\n",
    "            print(\"hello\")\n",
    "            time.sleep(0.2)            \n",
    "class hi(Thread):\n",
    "    def run(self):\n",
    "        for i in range(10):\n",
    "            print(\"hi\")\n"
   ]
  },
  {
   "cell_type": "code",
   "execution_count": 3,
   "id": "cff4923b",
   "metadata": {},
   "outputs": [
    {
     "name": "stdout",
     "output_type": "stream",
     "text": [
      "hello\n",
      "hi\n",
      "hi\n",
      "hi\n",
      "hi\n",
      "hi\n",
      "hi\n",
      "hi\n",
      "hi\n",
      "hi\n",
      "hi\n",
      "hello\n",
      "hello\n",
      "hello\n",
      "hello\n",
      "hello\n",
      "hello\n",
      "hello\n",
      "hello\n",
      "hello\n"
     ]
    }
   ],
   "source": [
    "h1=hello()\n",
    "h2=hi()\n",
    "\n",
    "h1.start()\n",
    "h2.start()"
   ]
  },
  {
   "cell_type": "code",
   "execution_count": 4,
   "id": "d36e1af6",
   "metadata": {},
   "outputs": [
    {
     "name": "stdout",
     "output_type": "stream",
     "text": [
      "hellohi\n",
      "hi\n",
      "hi\n",
      "hi\n",
      "hi\n",
      "hi\n",
      "hi\n",
      "hi\n",
      "hi\n",
      "hi\n",
      "\n",
      "hello\n",
      "hello\n",
      "hello\n",
      "hello\n",
      "hello\n",
      "hello\n",
      "hello\n",
      "hello\n",
      "hello\n",
      "hello\n",
      "hello\n",
      "hello\n",
      "hello\n",
      "hello\n",
      "hello\n",
      "hello\n",
      "bye bye\n"
     ]
    }
   ],
   "source": [
    "#\n",
    "h1=hello()\n",
    "h2=hi()\n",
    "\n",
    "h1.start()\n",
    "h2.start()\n",
    "h1.join()\n",
    "h2.join()\n",
    "print(\"bye bye\")"
   ]
  },
  {
   "cell_type": "code",
   "execution_count": 10,
   "id": "9b75e0a4",
   "metadata": {},
   "outputs": [],
   "source": [
    "from threading import Thread \n",
    "import time\n",
    "\n",
    "h1=Thread(target=hello)\n",
    "h2=Thread(target=hi)"
   ]
  },
  {
   "cell_type": "code",
   "execution_count": 11,
   "id": "a41069d2",
   "metadata": {},
   "outputs": [
    {
     "name": "stdout",
     "output_type": "stream",
     "text": [
      "bye bye\n"
     ]
    }
   ],
   "source": [
    "h1.start()\n",
    "h2.start()\n",
    "\n",
    "h1.join()\n",
    "h2.join()\n",
    "\n",
    "print(\"bye bye\")"
   ]
  },
  {
   "cell_type": "code",
   "execution_count": 5,
   "id": "16bdc278",
   "metadata": {},
   "outputs": [
    {
     "name": "stdout",
     "output_type": "stream",
     "text": [
      "hi\n",
      "hello\n",
      "hello\n"
     ]
    }
   ],
   "source": [
    "from threading import *\n",
    "import time\n",
    "\n",
    "for i in range(1):\n",
    "    print(\"hi\")\n",
    "    time.sleep(1)\n",
    "    for i in range(2):\n",
    "        print(\"hello\")\n",
    "        time.sleep(0)"
   ]
  },
  {
   "cell_type": "code",
   "execution_count": null,
   "id": "c2fdf227",
   "metadata": {},
   "outputs": [],
   "source": []
  }
 ],
 "metadata": {
  "kernelspec": {
   "display_name": "Python 3 (ipykernel)",
   "language": "python",
   "name": "python3"
  },
  "language_info": {
   "codemirror_mode": {
    "name": "ipython",
    "version": 3
   },
   "file_extension": ".py",
   "mimetype": "text/x-python",
   "name": "python",
   "nbconvert_exporter": "python",
   "pygments_lexer": "ipython3",
   "version": "3.11.3"
  }
 },
 "nbformat": 4,
 "nbformat_minor": 5
}
