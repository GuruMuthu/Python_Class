{
 "cells": [
  {
   "cell_type": "code",
   "execution_count": 3,
   "id": "9b24b2f3",
   "metadata": {},
   "outputs": [
    {
     "ename": "SyntaxError",
     "evalue": "invalid syntax (583692978.py, line 1)",
     "output_type": "error",
     "traceback": [
      "\u001b[1;36m  Cell \u001b[1;32mIn[3], line 1\u001b[1;36m\u001b[0m\n\u001b[1;33m    Oops concept:-\u001b[0m\n\u001b[1;37m         ^\u001b[0m\n\u001b[1;31mSyntaxError\u001b[0m\u001b[1;31m:\u001b[0m invalid syntax\n"
     ]
    }
   ],
   "source": [
    "Oops concept:-\n",
    "    \n",
    "    --> Class\n",
    "    --> Object\n",
    "    --> Inheritance\n",
    "    --> Polymorphism\n",
    "    --> Encapsulation\n",
    "    --> Abstraction \n",
    "       \n",
    "    "
   ]
  },
  {
   "cell_type": "code",
   "execution_count": 4,
   "id": "071682dc",
   "metadata": {},
   "outputs": [
    {
     "name": "stdout",
     "output_type": "stream",
     "text": [
      "10\n"
     ]
    }
   ],
   "source": [
    "class myclass:\n",
    "    a=10\n",
    "    b=20\n",
    "    \n",
    "ob = myclass()\n",
    "print(ob.a)"
   ]
  },
  {
   "cell_type": "code",
   "execution_count": 26,
   "id": "ba95d2b3",
   "metadata": {},
   "outputs": [
    {
     "name": "stdout",
     "output_type": "stream",
     "text": [
      "init constructor\n"
     ]
    }
   ],
   "source": [
    "class my:\n",
    "    def __init__(self,name,age):\n",
    "        self.name = name\n",
    "        self.age = age\n",
    "        print(\"init constructor\")\n",
    "        \n",
    "        \n",
    "    \n",
    "    def function(self,college_name):\n",
    "        print(\"arul--method\", self.name  ,  self.age  ,  college_name )\n",
    "        \n",
    "        \n",
    "        \n",
    "    def function2(self):\n",
    "        print(\"muthu-method\")\n",
    "        \n",
    "        \n",
    "        \n",
    "ob = my(\"muthu\",24)\n",
    "        \n",
    "\n"
   ]
  },
  {
   "cell_type": "code",
   "execution_count": null,
   "id": "4fb2199d",
   "metadata": {},
   "outputs": [],
   "source": []
  }
 ],
 "metadata": {
  "kernelspec": {
   "display_name": "Python 3 (ipykernel)",
   "language": "python",
   "name": "python3"
  },
  "language_info": {
   "codemirror_mode": {
    "name": "ipython",
    "version": 3
   },
   "file_extension": ".py",
   "mimetype": "text/x-python",
   "name": "python",
   "nbconvert_exporter": "python",
   "pygments_lexer": "ipython3",
   "version": "3.11.3"
  }
 },
 "nbformat": 4,
 "nbformat_minor": 5
}
