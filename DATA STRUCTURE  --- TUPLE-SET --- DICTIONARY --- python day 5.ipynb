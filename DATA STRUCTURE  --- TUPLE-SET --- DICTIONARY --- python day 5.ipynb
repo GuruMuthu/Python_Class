{
 "cells": [
  {
   "cell_type": "code",
   "execution_count": 4,
   "id": "ae49d381",
   "metadata": {},
   "outputs": [
    {
     "name": "stdout",
     "output_type": "stream",
     "text": [
      "<class 'tuple'>\n",
      "5\n",
      "[10, 20, 40, 30, 1]\n",
      "(10, 20, 40, 30, 1)\n"
     ]
    }
   ],
   "source": [
    "#tuple:-\n",
    "\n",
    "a=(10,20,40,30,1)\n",
    "print(type(a))\n",
    "print(len(a))\n",
    "print(list(a))\n",
    "print(tuple(a))"
   ]
  },
  {
   "cell_type": "code",
   "execution_count": 8,
   "id": "8c9ba2a5",
   "metadata": {},
   "outputs": [
    {
     "name": "stdout",
     "output_type": "stream",
     "text": [
      "20\n",
      "(10, 20, 40)\n"
     ]
    }
   ],
   "source": [
    "#slicing:-\n",
    "a=(10,20,40,30,1)\n",
    "print(a[1])\n",
    "print(a[0:3])"
   ]
  },
  {
   "cell_type": "code",
   "execution_count": 12,
   "id": "7154624e",
   "metadata": {},
   "outputs": [
    {
     "ename": "NameError",
     "evalue": "name 'a' is not defined",
     "output_type": "error",
     "traceback": [
      "\u001b[1;31m---------------------------------------------------------------------------\u001b[0m",
      "\u001b[1;31mNameError\u001b[0m                                 Traceback (most recent call last)",
      "Cell \u001b[1;32mIn[12], line 3\u001b[0m\n\u001b[0;32m      1\u001b[0m a\u001b[38;5;241m=\u001b[39m(\u001b[38;5;241m10\u001b[39m,\u001b[38;5;241m20\u001b[39m,\u001b[38;5;241m40\u001b[39m,\u001b[38;5;241m30\u001b[39m,\u001b[38;5;241m1\u001b[39m)\n\u001b[0;32m      2\u001b[0m \u001b[38;5;28;01mdel\u001b[39;00m(a)\n\u001b[1;32m----> 3\u001b[0m \u001b[38;5;28mprint\u001b[39m(\u001b[43ma\u001b[49m)\n",
      "\u001b[1;31mNameError\u001b[0m: name 'a' is not defined"
     ]
    }
   ],
   "source": [
    "#delete:-\n",
    "a=(10,20,40,30,1)\n",
    "del(a)\n",
    "print(a)"
   ]
  },
  {
   "cell_type": "code",
   "execution_count": 3,
   "id": "e4587c0c",
   "metadata": {},
   "outputs": [
    {
     "name": "stdout",
     "output_type": "stream",
     "text": [
      "70\n",
      "(10, 20, 40, 30, 1, 10, 20, 30)\n"
     ]
    }
   ],
   "source": [
    "# adding two tables (example=\"c\") and  # adding values based on position (eample=\"d\"):-\n",
    "a=(10,20,40,30,1)\n",
    "b=(10,20,30)\n",
    "c=a+b\n",
    "d=(a[2]+b[2])\n",
    "print(d)\n",
    "print(c)"
   ]
  },
  {
   "cell_type": "code",
   "execution_count": 22,
   "id": "4a0aa3cc",
   "metadata": {},
   "outputs": [
    {
     "name": "stdout",
     "output_type": "stream",
     "text": [
      "10 20 30\n",
      "10\n",
      "20\n",
      "30\n",
      "{'muthu': 'mine', 'raj': 'brother'}\n",
      "muthu\n",
      "raj\n",
      "brother\n"
     ]
    }
   ],
   "source": [
    "#unpacking (note:- also we can use the unpacking in list,set,dictionary):-\n",
    "#unpacking using tuple:-\n",
    "a=(10,20,30)\n",
    "b,c,d=a\n",
    "print(b,c,d)\n",
    "print(b)\n",
    "print(c)\n",
    "print(d)\n",
    "#unpacking using dictionary:-\n",
    "d={\"muthu\":\"mine\",\n",
    "  \"raj\":\"brother\"\n",
    "  }\n",
    "g,h=d\n",
    "print(d)\n",
    "print(g)\n",
    "print(h)\n",
    "print(d[\"raj\"])"
   ]
  },
  {
   "cell_type": "code",
   "execution_count": 15,
   "id": "2130ae45",
   "metadata": {},
   "outputs": [
    {
     "name": "stdout",
     "output_type": "stream",
     "text": [
      "{1, 50, 20, 5, 7, 10, 11}\n"
     ]
    }
   ],
   "source": [
    "#set:- we can't acces\n",
    "#if we add some value in set,it'll be asign anywhere inside the flower brocket bcz it's unorder:-\n",
    "s={10,20,1,5,7,11}\n",
    "s.add(50)\n",
    "print(s)"
   ]
  },
  {
   "cell_type": "code",
   "execution_count": 15,
   "id": "1ca02324",
   "metadata": {},
   "outputs": [
    {
     "name": "stdout",
     "output_type": "stream",
     "text": [
      "{1, 67, 20, 5, 7, 10, 11}\n"
     ]
    }
   ],
   "source": [
    "s={10,20,1,5,7,11}\n",
    "s.add(67)\n",
    "print(s)"
   ]
  },
  {
   "cell_type": "code",
   "execution_count": 16,
   "id": "ed70ecf5",
   "metadata": {},
   "outputs": [
    {
     "name": "stdout",
     "output_type": "stream",
     "text": [
      "{1, 20, 5, 7, 73, 10, 11}\n"
     ]
    }
   ],
   "source": [
    "s={10,20,1,5,7,11}\n",
    "s.add(73)\n",
    "print(s)"
   ]
  },
  {
   "cell_type": "code",
   "execution_count": 17,
   "id": "1632100d",
   "metadata": {},
   "outputs": [
    {
     "name": "stdout",
     "output_type": "stream",
     "text": [
      "{80, 1, 20, 5, 7, 10, 11}\n"
     ]
    }
   ],
   "source": [
    "s={10,20,1,5,7,11}\n",
    "s.add(80)\n",
    "print(s)"
   ]
  },
  {
   "cell_type": "code",
   "execution_count": 20,
   "id": "a3d08d89",
   "metadata": {},
   "outputs": [
    {
     "name": "stdout",
     "output_type": "stream",
     "text": [
      "(1, 10, 55, 7)\n",
      "<class 'tuple'>\n",
      "4\n"
     ]
    }
   ],
   "source": [
    "a={10,1,1,55,7,10,10}\n",
    "a=tuple(a)   #data type conversion:-\n",
    "print(a)\n",
    "print(type(a))\n",
    "print(len(a))"
   ]
  },
  {
   "cell_type": "code",
   "execution_count": 20,
   "id": "ec429182",
   "metadata": {},
   "outputs": [
    {
     "name": "stdout",
     "output_type": "stream",
     "text": [
      "{1, 5, 6, 7, 10, 20}\n"
     ]
    }
   ],
   "source": [
    "#update:-\n",
    "#if we use update sydex it'll work like a union methon:-\n",
    "x={10,20,1,5}\n",
    "y={10,1,7,6,}\n",
    "x.update(y)\n",
    "print(x)"
   ]
  },
  {
   "cell_type": "code",
   "execution_count": 21,
   "id": "994c15d5",
   "metadata": {},
   "outputs": [
    {
     "name": "stdout",
     "output_type": "stream",
     "text": [
      "{1, 6, 7}\n",
      "[1, 2, 4]\n"
     ]
    }
   ],
   "source": [
    "#remove:- (it's common for all the data structures)\n",
    "#it'll remove the value based on name:-\n",
    "y={10,1,7,6,}\n",
    "y.remove(10)\n",
    "print(y)\n",
    "l=[1,2,3,4,]\n",
    "l.remove(3)\n",
    "print(l)"
   ]
  },
  {
   "cell_type": "code",
   "execution_count": 22,
   "id": "288ecc12",
   "metadata": {},
   "outputs": [
    {
     "name": "stdout",
     "output_type": "stream",
     "text": [
      "{1, 10, 7}\n"
     ]
    }
   ],
   "source": [
    "y={10,1,7,6,}\n",
    "y.remove(6)\n",
    "print(y)\n"
   ]
  },
  {
   "cell_type": "code",
   "execution_count": 23,
   "id": "551475ac",
   "metadata": {},
   "outputs": [
    {
     "ename": "KeyError",
     "evalue": "55",
     "output_type": "error",
     "traceback": [
      "\u001b[1;31m---------------------------------------------------------------------------\u001b[0m",
      "\u001b[1;31mKeyError\u001b[0m                                  Traceback (most recent call last)",
      "Cell \u001b[1;32mIn[23], line 2\u001b[0m\n\u001b[0;32m      1\u001b[0m y\u001b[38;5;241m=\u001b[39m{\u001b[38;5;241m10\u001b[39m,\u001b[38;5;241m1\u001b[39m,\u001b[38;5;241m7\u001b[39m,\u001b[38;5;241m6\u001b[39m,}\n\u001b[1;32m----> 2\u001b[0m \u001b[43my\u001b[49m\u001b[38;5;241;43m.\u001b[39;49m\u001b[43mremove\u001b[49m\u001b[43m(\u001b[49m\u001b[38;5;241;43m55\u001b[39;49m\u001b[43m)\u001b[49m\n\u001b[0;32m      3\u001b[0m \u001b[38;5;28mprint\u001b[39m(y)\n",
      "\u001b[1;31mKeyError\u001b[0m: 55"
     ]
    }
   ],
   "source": [
    "#remove:-\n",
    "# in remove syndex ,if the value doesn't exist then the output will be error:-\n",
    "y={10,1,7,6,}\n",
    "y.remove(55)\n",
    "print(y)"
   ]
  },
  {
   "cell_type": "code",
   "execution_count": 25,
   "id": "a10d50c2",
   "metadata": {},
   "outputs": [
    {
     "name": "stdout",
     "output_type": "stream",
     "text": [
      "{1, 10, 6, 7}\n"
     ]
    }
   ],
   "source": [
    "#discard (note: it's aslo a value removal syndex):-\n",
    "#if the value doesn't exist in the variable , it'll work or just passes . just value is exist it'll remove based on name:-\n",
    "y={10,1,7,6,}\n",
    "y.discard(55)\n",
    "print(y)"
   ]
  },
  {
   "cell_type": "code",
   "execution_count": 27,
   "id": "b5cf4dc6",
   "metadata": {},
   "outputs": [
    {
     "name": "stdout",
     "output_type": "stream",
     "text": [
      "{1, 10, 6, 7}\n"
     ]
    }
   ],
   "source": [
    "#discard:-\n",
    "y={10,1,7,6,}\n",
    "y.discard(100)\n",
    "print(y)"
   ]
  },
  {
   "cell_type": "code",
   "execution_count": 28,
   "id": "f69bc439",
   "metadata": {},
   "outputs": [
    {
     "name": "stdout",
     "output_type": "stream",
     "text": [
      "{10, 6, 7}\n"
     ]
    }
   ],
   "source": [
    "#pop:- (note:the values are removed randomly in  set bcz it's unorder):-\n",
    "#the values are romoved by positions:-\n",
    "y={10,1,7,6,}\n",
    "y.pop()\n",
    "print(y)"
   ]
  },
  {
   "cell_type": "code",
   "execution_count": 32,
   "id": "6aee6252",
   "metadata": {},
   "outputs": [
    {
     "name": "stdout",
     "output_type": "stream",
     "text": [
      "{6, 7}\n"
     ]
    }
   ],
   "source": [
    "#pop:-\n",
    "y={10,7,6}\n",
    "y.pop()\n",
    "print(y)"
   ]
  },
  {
   "cell_type": "code",
   "execution_count": 30,
   "id": "732dcb19",
   "metadata": {},
   "outputs": [
    {
     "name": "stdout",
     "output_type": "stream",
     "text": [
      "{10, 6, 7}\n"
     ]
    }
   ],
   "source": [
    "#pop:-\n",
    "y={10,1,7,6}\n",
    "y.pop()\n",
    "print(y)"
   ]
  },
  {
   "cell_type": "code",
   "execution_count": 33,
   "id": "6361a7d3",
   "metadata": {},
   "outputs": [
    {
     "name": "stdout",
     "output_type": "stream",
     "text": [
      "set()\n"
     ]
    }
   ],
   "source": [
    "#clear:- (the items only romoved by the syndex , emty brocket will be exist in output):-\n",
    "y={10,1,7,6}\n",
    "y.clear()\n",
    "print(y)"
   ]
  },
  {
   "cell_type": "code",
   "execution_count": 35,
   "id": "1b44d551",
   "metadata": {},
   "outputs": [
    {
     "ename": "NameError",
     "evalue": "name 'y' is not defined",
     "output_type": "error",
     "traceback": [
      "\u001b[1;31m---------------------------------------------------------------------------\u001b[0m",
      "\u001b[1;31mNameError\u001b[0m                                 Traceback (most recent call last)",
      "Cell \u001b[1;32mIn[35], line 3\u001b[0m\n\u001b[0;32m      1\u001b[0m y\u001b[38;5;241m=\u001b[39m{\u001b[38;5;241m10\u001b[39m}\n\u001b[0;32m      2\u001b[0m \u001b[38;5;28;01mdel\u001b[39;00m(y)\n\u001b[1;32m----> 3\u001b[0m \u001b[38;5;28mprint\u001b[39m(\u001b[43my\u001b[49m)\n",
      "\u001b[1;31mNameError\u001b[0m: name 'y' is not defined"
     ]
    }
   ],
   "source": [
    "#delete:-\n",
    "y={10}\n",
    "del(y)\n",
    "print(y)\n"
   ]
  },
  {
   "cell_type": "code",
   "execution_count": 40,
   "id": "6acf818f",
   "metadata": {},
   "outputs": [
    {
     "name": "stdout",
     "output_type": "stream",
     "text": [
      "{1, 33, 7, 40, 8, 10, 50, 30}\n",
      "{1, 33, 7, 40, 8, 10, 50, 30}\n"
     ]
    }
   ],
   "source": [
    "#union syndex:- (it's also work like update syndex):-\n",
    "A={10,40,1,7,8,50}  \n",
    "B={10,40,33,30,8}\n",
    "C=A.union(B)\n",
    "A.update(B)\n",
    "print(C)\n",
    "print(A)"
   ]
  },
  {
   "cell_type": "code",
   "execution_count": 41,
   "id": "5802f9b4",
   "metadata": {},
   "outputs": [
    {
     "name": "stdout",
     "output_type": "stream",
     "text": [
      "{40, 8, 10}\n",
      "{40, 8, 10}\n"
     ]
    }
   ],
   "source": [
    "#intersection:-\n",
    "A={10,40,1,7,8,50}  \n",
    "B={10,40,33,30,8}\n",
    "C=A.intersection(B)\n",
    "A.intersection_update(B)\n",
    "print(C)\n",
    "print(A)"
   ]
  },
  {
   "cell_type": "code",
   "execution_count": 43,
   "id": "9825c9ce",
   "metadata": {},
   "outputs": [
    {
     "name": "stdout",
     "output_type": "stream",
     "text": [
      "{'name': 'raj', 'age': 24, 'location': 'bangalore', 1: 'good number', 'cars': ['benz', 'shift', 'audi']}\n"
     ]
    }
   ],
   "source": [
    "#dictionary:-\n",
    "\n",
    "d={\"name\":\"raj\",\n",
    "   \"age\":24,\n",
    "   \"location\":\"bangalore\",\n",
    "   1:\"good number\",\n",
    "   \"cars\":[\"benz\",\"shift\",\"audi\"]\n",
    "   }\n",
    "print(d)"
   ]
  },
  {
   "cell_type": "code",
   "execution_count": 22,
   "id": "2d6e9ad0",
   "metadata": {},
   "outputs": [
    {
     "name": "stdout",
     "output_type": "stream",
     "text": [
      "raj\n",
      "good number\n",
      "5\n",
      "<class 'dict'>\n",
      "['benz', 'shift', 'audi']\n"
     ]
    }
   ],
   "source": [
    "#slicing using dictionary:-\n",
    "d={\"name\":\"raj\",\n",
    "   \"age\":24,\n",
    "   \"location\":\"bangalore\",\n",
    "   1:\"good number\",\n",
    "   \"cars\":[\"benz\",\"shift\",\"audi\"]\n",
    "   }\n",
    "print(d[\"name\"])\n",
    "print(d[1])\n",
    "print(len(d))\n",
    "print(type(d))\n",
    "print(d[\"cars\"])"
   ]
  },
  {
   "cell_type": "code",
   "execution_count": 63,
   "id": "150fe49f",
   "metadata": {},
   "outputs": [
    {
     "name": "stdout",
     "output_type": "stream",
     "text": [
      "{'name': 'ravi', 'age': 24, 'location': 'bangalore', 1: 'good number', 'cars': ['benz', 'shift', 'audi']}\n"
     ]
    }
   ],
   "source": [
    "#replacing using dictionary:-\n",
    "d={\"name\":\"raj\",\n",
    "   \"age\":24,\n",
    "   \"location\":\"bangalore\",\n",
    "   1:\"good number\",\n",
    "   \"cars\":[\"benz\",\"shift\",\"audi\"]\n",
    "   }\n",
    "d[\"name\"]=\"ravi\"\n",
    "print(d)"
   ]
  },
  {
   "cell_type": "code",
   "execution_count": 53,
   "id": "c833cb68",
   "metadata": {},
   "outputs": [
    {
     "name": "stdout",
     "output_type": "stream",
     "text": [
      "{'name': 'raj', 'age': 24, 'location': 'bangalore', 1: 'good number', 'cars': ['benz', 'shift', 'audi'], 'company': 'wipro', 'salaary': '20k'}\n"
     ]
    }
   ],
   "source": [
    "#updating syndex using dictionary :-\n",
    "d={\"name\":\"raj\",\n",
    "   \"age\":24,\n",
    "   \"location\":\"bangalore\",\n",
    "   1:\"good number\",\n",
    "   \"cars\":[\"benz\",\"shift\",\"audi\"]\n",
    "   }\n",
    "\n",
    "new_data={\"company\":\"wipro\",\n",
    "          \"salaary\":\"20k\"\n",
    "         }\n",
    "d.update(new_data)\n",
    "print(d)"
   ]
  },
  {
   "cell_type": "code",
   "execution_count": 24,
   "id": "c1b784b2",
   "metadata": {},
   "outputs": [
    {
     "name": "stdout",
     "output_type": "stream",
     "text": [
      "{'age': 24, 'location': 'bangalore', 1: 'good number', 'cars': ['benz', 'shift', 'audi']}\n"
     ]
    }
   ],
   "source": [
    "#pop:- (note:pop will remove the first value in dictionary data structure ):-\n",
    "d={\"name\":\"raj\",\n",
    "   \"age\":24,\n",
    "   \"location\":\"bangalore\",\n",
    "   1:\"good number\",\n",
    "   \"cars\":[\"benz\",\"shift\",\"audi\"]\n",
    "   }\n",
    "d.pop(\"name\")\n",
    "\n",
    "print(d)"
   ]
  },
  {
   "cell_type": "code",
   "execution_count": 27,
   "id": "2e6d9739",
   "metadata": {},
   "outputs": [
    {
     "name": "stdout",
     "output_type": "stream",
     "text": [
      "{'name': 'raj', 'age': 24, 'location': 'bangalore', 1: 'good number'}\n",
      "{'name': 'raj', 'age': 24, 'location': 'bangalore'}\n"
     ]
    }
   ],
   "source": [
    "#popitem:- (note:popitem will remove the last value in dictionary data structure ):-\n",
    "d={\"name\":\"raj\",\n",
    "   \"age\":24,\n",
    "   \"location\":\"bangalore\",\n",
    "   1:\"good number\",\n",
    "   \"cars\":[\"benz\",\"shift\",\"audi\"]\n",
    "   }\n",
    "d.popitem()\n",
    "print(d)\n",
    "d.popitem()\n",
    "print(d)\n"
   ]
  },
  {
   "cell_type": "code",
   "execution_count": 59,
   "id": "af671be5",
   "metadata": {},
   "outputs": [
    {
     "name": "stdout",
     "output_type": "stream",
     "text": [
      "{'name': 'raj', 'age': 24, 'location': 'bangalore', 1: 'good number'}\n"
     ]
    }
   ],
   "source": [
    "#popitem:- (note:popitem will remove the last value in dictionary data structure ):-\n",
    "d={\"name\":\"raj\",\n",
    "   \"age\":24,\n",
    "   \"location\":\"bangalore\",\n",
    "   1:\"good number\",\n",
    "   \"cars\":[\"benz\",\"shift\",\"audi\"]\n",
    "   }\n",
    "d.popitem()\n",
    "print(d)"
   ]
  },
  {
   "cell_type": "code",
   "execution_count": 60,
   "id": "3ea58fd1",
   "metadata": {},
   "outputs": [
    {
     "name": "stdout",
     "output_type": "stream",
     "text": [
      "{}\n"
     ]
    }
   ],
   "source": [
    "#clear:-\n",
    "d={\"name\":\"raj\",\n",
    "   \"age\":24,\n",
    "   \"location\":\"bangalore\",\n",
    "   1:\"good number\",\n",
    "   \"cars\":[\"benz\",\"shift\",\"audi\"]\n",
    "   }\n",
    "d.clear()\n",
    "print(d)"
   ]
  },
  {
   "cell_type": "code",
   "execution_count": 61,
   "id": "e40d8394",
   "metadata": {},
   "outputs": [
    {
     "ename": "NameError",
     "evalue": "name 'd' is not defined",
     "output_type": "error",
     "traceback": [
      "\u001b[1;31m---------------------------------------------------------------------------\u001b[0m",
      "\u001b[1;31mNameError\u001b[0m                                 Traceback (most recent call last)",
      "Cell \u001b[1;32mIn[61], line 8\u001b[0m\n\u001b[0;32m      1\u001b[0m d\u001b[38;5;241m=\u001b[39m{\u001b[38;5;124m\"\u001b[39m\u001b[38;5;124mname\u001b[39m\u001b[38;5;124m\"\u001b[39m:\u001b[38;5;124m\"\u001b[39m\u001b[38;5;124mraj\u001b[39m\u001b[38;5;124m\"\u001b[39m,\n\u001b[0;32m      2\u001b[0m    \u001b[38;5;124m\"\u001b[39m\u001b[38;5;124mage\u001b[39m\u001b[38;5;124m\"\u001b[39m:\u001b[38;5;241m24\u001b[39m,\n\u001b[0;32m      3\u001b[0m    \u001b[38;5;124m\"\u001b[39m\u001b[38;5;124mlocation\u001b[39m\u001b[38;5;124m\"\u001b[39m:\u001b[38;5;124m\"\u001b[39m\u001b[38;5;124mbangalore\u001b[39m\u001b[38;5;124m\"\u001b[39m,\n\u001b[0;32m      4\u001b[0m    \u001b[38;5;241m1\u001b[39m:\u001b[38;5;124m\"\u001b[39m\u001b[38;5;124mgood number\u001b[39m\u001b[38;5;124m\"\u001b[39m,\n\u001b[0;32m      5\u001b[0m    \u001b[38;5;124m\"\u001b[39m\u001b[38;5;124mcars\u001b[39m\u001b[38;5;124m\"\u001b[39m:[\u001b[38;5;124m\"\u001b[39m\u001b[38;5;124mbenz\u001b[39m\u001b[38;5;124m\"\u001b[39m,\u001b[38;5;124m\"\u001b[39m\u001b[38;5;124mshift\u001b[39m\u001b[38;5;124m\"\u001b[39m,\u001b[38;5;124m\"\u001b[39m\u001b[38;5;124maudi\u001b[39m\u001b[38;5;124m\"\u001b[39m]\n\u001b[0;32m      6\u001b[0m    }\n\u001b[0;32m      7\u001b[0m \u001b[38;5;28;01mdel\u001b[39;00m(d)\n\u001b[1;32m----> 8\u001b[0m \u001b[38;5;28mprint\u001b[39m(\u001b[43md\u001b[49m)\n",
      "\u001b[1;31mNameError\u001b[0m: name 'd' is not defined"
     ]
    }
   ],
   "source": [
    "#delete:-\n",
    "d={\"name\":\"raj\",\n",
    "   \"age\":24,\n",
    "   \"location\":\"bangalore\",\n",
    "   1:\"good number\",\n",
    "   \"cars\":[\"benz\",\"shift\",\"audi\"]\n",
    "   }\n",
    "del(d)\n",
    "print(d)"
   ]
  },
  {
   "cell_type": "code",
   "execution_count": 66,
   "id": "240de734",
   "metadata": {},
   "outputs": [
    {
     "name": "stdout",
     "output_type": "stream",
     "text": [
      "{'name': 'Emil', 'year': 2004}\n"
     ]
    }
   ],
   "source": [
    "#nested dictionary:-\n",
    "#slicing method using dictionary:-\n",
    "myfamily={\n",
    "    \"child1\" :{\n",
    "    \"name\":\"Emil\",\n",
    "     \n",
    "    \"year\":2004},\n",
    "    \n",
    "    \"child2\":{\n",
    "        \"name\":\"tobias\",\n",
    "        \"year\":2007},\n",
    "    \n",
    "    \"child3\":{\n",
    "        \"name\":\"linus\",\n",
    "        \"year\":2011}\n",
    "    }\n",
    "print(myfamily[\"child1\"])\n",
    "\n"
   ]
  },
  {
   "cell_type": "code",
   "execution_count": 67,
   "id": "684c1012",
   "metadata": {},
   "outputs": [
    {
     "name": "stdout",
     "output_type": "stream",
     "text": [
      "Emil\n"
     ]
    }
   ],
   "source": [
    "print(myfamily[\"child1\"][\"name\"])"
   ]
  },
  {
   "cell_type": "code",
   "execution_count": 69,
   "id": "930525cb",
   "metadata": {},
   "outputs": [
    {
     "name": "stdout",
     "output_type": "stream",
     "text": [
      "{'child1': {'name': 'raju', 'year': 2004}, 'child2': {'name': 'tobias', 'year': 2007}, 'child3': {'name': 'linus', 'year': 2011}}\n"
     ]
    }
   ],
   "source": [
    "#replacing in dictionary:-\n",
    "myfamily[\"child1\"][\"name\"]=\"raju\"\n",
    "print(myfamily)"
   ]
  },
  {
   "cell_type": "code",
   "execution_count": 70,
   "id": "55643ebb",
   "metadata": {},
   "outputs": [
    {
     "name": "stdout",
     "output_type": "stream",
     "text": [
      "{'child1': {'name': 'raju', 'year': 2004}, 'child2': {'name': 'tobias', 'year': 2007}, 'child3': {'name': 'linus', 'year': 2023}}\n"
     ]
    }
   ],
   "source": [
    "#replacing in dictionary:-\n",
    "myfamily[\"child3\"][\"year\"]=2023\n",
    "print(myfamily)"
   ]
  },
  {
   "cell_type": "code",
   "execution_count": null,
   "id": "a02bbd66",
   "metadata": {},
   "outputs": [],
   "source": []
  }
 ],
 "metadata": {
  "kernelspec": {
   "display_name": "Python 3 (ipykernel)",
   "language": "python",
   "name": "python3"
  },
  "language_info": {
   "codemirror_mode": {
    "name": "ipython",
    "version": 3
   },
   "file_extension": ".py",
   "mimetype": "text/x-python",
   "name": "python",
   "nbconvert_exporter": "python",
   "pygments_lexer": "ipython3",
   "version": "3.11.3"
  }
 },
 "nbformat": 4,
 "nbformat_minor": 5
}
