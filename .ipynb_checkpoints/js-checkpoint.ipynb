{
 "cells": [
  {
   "cell_type": "code",
   "execution_count": null,
   "id": "4b12c1da",
   "metadata": {},
   "outputs": [],
   "source": [
    "obj = { \n",
    "   \n",
    "    \"male\":0\n",
    "    \"female\":0\n",
    "    \"age\":[]\n",
    "}\n",
    "male=0\n",
    "female=0\n",
    "age=[]\n",
    "\n",
    "a=['m2010a','f2000a','m2016c','m1996d','f1990e','m2015d']\n",
    "for(i in a):\n",
    "    if(i[0]==\"m\"):\n",
    "        male+= 1\n",
    "    elif(i[0]==\"f\"):\n",
    "        female+=1\n",
    "        \n",
    "        \n",
    "print(male)\n",
    "print(female)"
   ]
  }
 ],
 "metadata": {
  "kernelspec": {
   "display_name": "Python 3 (ipykernel)",
   "language": "python",
   "name": "python3"
  },
  "language_info": {
   "codemirror_mode": {
    "name": "ipython",
    "version": 3
   },
   "file_extension": ".py",
   "mimetype": "text/x-python",
   "name": "python",
   "nbconvert_exporter": "python",
   "pygments_lexer": "ipython3",
   "version": "3.11.3"
  }
 },
 "nbformat": 4,
 "nbformat_minor": 5
}
