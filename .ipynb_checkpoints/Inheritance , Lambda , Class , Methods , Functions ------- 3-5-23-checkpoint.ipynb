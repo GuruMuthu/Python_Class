{
 "cells": [
  {
   "cell_type": "code",
   "execution_count": 66,
   "id": "6cd22842",
   "metadata": {},
   "outputs": [
    {
     "name": "stdout",
     "output_type": "stream",
     "text": [
      "5\n",
      "6\n",
      "15\n"
     ]
    }
   ],
   "source": [
    "#lambda functions:-\n",
    "\n",
    "x=lambda a,b:a+b \n",
    "print(x(2,3))\n",
    "\n",
    "l=lambda a,s,d,f,g:a+g\n",
    "print(l(1,2,3,4,5))\n",
    "\n",
    "l=lambda a,s,d,f,g:g*d\n",
    "print(l(1,2,3,4,5))"
   ]
  },
  {
   "cell_type": "code",
   "execution_count": 2,
   "id": "45cd8528",
   "metadata": {},
   "outputs": [],
   "source": [
    "def calc(a,b):\n",
    "    print(a)\n",
    "    print(b)\n",
    "    "
   ]
  },
  {
   "cell_type": "code",
   "execution_count": 3,
   "id": "142ee9d8",
   "metadata": {},
   "outputs": [
    {
     "name": "stdout",
     "output_type": "stream",
     "text": [
      "2\n",
      "3\n",
      "6\n",
      "7\n"
     ]
    }
   ],
   "source": [
    "calc(2,3)\n",
    "calc(6,7)\n"
   ]
  },
  {
   "cell_type": "code",
   "execution_count": 9,
   "id": "3d4ab110",
   "metadata": {},
   "outputs": [
    {
     "name": "stdout",
     "output_type": "stream",
     "text": [
      "5\n",
      "20\n",
      "5 20\n"
     ]
    }
   ],
   "source": [
    "#class and objects:-\n",
    "\n",
    "class person:\n",
    "    x=5\n",
    "    y=20\n",
    "obj1=person()\n",
    "obj2=person()\n",
    "print(obj1.x)\n",
    "print(obj2.y)\n",
    "print(obj1.x,obj2.y)"
   ]
  },
  {
   "cell_type": "code",
   "execution_count": 12,
   "id": "c63de2f5",
   "metadata": {},
   "outputs": [
    {
     "name": "stdout",
     "output_type": "stream",
     "text": [
      "5 20 5 20\n"
     ]
    }
   ],
   "source": [
    "obj3=person()\n",
    "print(obj1.x,obj2.y,obj3.x,obj3.y)\n"
   ]
  },
  {
   "cell_type": "code",
   "execution_count": 2,
   "id": "d33537d9",
   "metadata": {},
   "outputs": [
    {
     "name": "stdout",
     "output_type": "stream",
     "text": [
      "25\n",
      "hi\n"
     ]
    }
   ],
   "source": [
    "class person:\n",
    "    x=5\n",
    "    y=20\n",
    "    def total(self):\n",
    "        print(self.x+self.y)\n",
    "        return \"hi\"\n",
    "obj1=person()\n",
    "print(obj1.total())"
   ]
  },
  {
   "cell_type": "code",
   "execution_count": 5,
   "id": "fc887eb3",
   "metadata": {},
   "outputs": [
    {
     "name": "stdout",
     "output_type": "stream",
     "text": [
      "30 40\n",
      "70\n",
      "yeah your output is\n"
     ]
    }
   ],
   "source": [
    "class person:\n",
    "    def __init__(self,x,y):\n",
    "        self.xx=x\n",
    "        self.yy=y\n",
    "    \n",
    "    def total(self):\n",
    "        return \"yeah your output is\"\n",
    "        print(self.xx+self.yy)\n",
    "        \n",
    "\n",
    "        \n",
    "p1=person(30,40)\n",
    "print(p1.xx,p1.yy)\n",
    "print(p1.total())      "
   ]
  },
  {
   "cell_type": "code",
   "execution_count": 2,
   "id": "918fa8f3",
   "metadata": {},
   "outputs": [
    {
     "name": "stdout",
     "output_type": "stream",
     "text": [
      "30 40 86\n",
      "70\n",
      "pass\n"
     ]
    }
   ],
   "source": [
    "class person:\n",
    "    def __init__(self,x,y,mark):\n",
    "        self.xx=x\n",
    "        self.yy=y\n",
    "        self.mark1=mark\n",
    "    \n",
    "    def total(self):\n",
    "        print(self.xx+self.yy)\n",
    "    \n",
    "    def result(self):\n",
    "        if (self.mark1>85):\n",
    "            print(\"pass\")\n",
    "        else:\n",
    "            print(\"fail\")\n",
    "            \n",
    "p1=person(30,40,86)\n",
    "print(p1.xx,p1.yy,p1.mark1)\n",
    "p1.total()\n",
    "p1.result()"
   ]
  },
  {
   "cell_type": "code",
   "execution_count": 6,
   "id": "e202e71b",
   "metadata": {},
   "outputs": [
    {
     "name": "stdout",
     "output_type": "stream",
     "text": [
      "30 40 98\n",
      "70\n",
      "pass\n",
      "25 25 90\n",
      "50\n"
     ]
    },
    {
     "data": {
      "text/plain": [
       "'pass'"
      ]
     },
     "execution_count": 6,
     "metadata": {},
     "output_type": "execute_result"
    }
   ],
   "source": [
    "class person:\n",
    "    def __init__(self,x,y,mark):\n",
    "        self.xx=x\n",
    "        self.yy=y\n",
    "        self.mark1=mark\n",
    "    \n",
    "    def total(self):\n",
    "        print(self.xx+self.yy)\n",
    "    \n",
    "    def result(self):\n",
    "        if (self.mark1>85):\n",
    "             return \"pass\"\n",
    "        else:\n",
    "            print(\"fail\")\n",
    "            \n",
    "p1=person(30,40,98)\n",
    "p2=person(25,25,90)\n",
    "print(p1.xx,p1.yy,p1.mark1)\n",
    "p1.total()\n",
    "val=p1.result()\n",
    "\n",
    "print(val)\n",
    "print(p2.xx,p2.yy,p2.mark1)\n",
    "p2.total()\n",
    "p2.result()\n"
   ]
  },
  {
   "cell_type": "code",
   "execution_count": 16,
   "id": "07034530",
   "metadata": {},
   "outputs": [
    {
     "name": "stdout",
     "output_type": "stream",
     "text": [
      "30 40 98\n",
      "70\n",
      "muthu result\n",
      "successfully pass\n"
     ]
    }
   ],
   "source": [
    "class person:\n",
    "    def __init__(self,x,y,mark):\n",
    "        self.xx=x\n",
    "        self.yy=y\n",
    "        self.mark1=mark\n",
    "    \n",
    "    def total(self):\n",
    "        print(self.xx+self.yy)\n",
    "        \n",
    "    def car(self):\n",
    "        print(\"hyundai\")\n",
    "    \n",
    "    def result(self,name):\n",
    "        if (self.mark1>85):\n",
    "            print(name,\"result\")\n",
    "            return \"successfully pass\"\n",
    "        else:\n",
    "            print(name,\"result\")\n",
    "            print(\"fail\")\n",
    "            \n",
    "p1=person(30,40,98)\n",
    "print(p1.xx,p1.yy,p1.mark1)\n",
    "p1.total()\n",
    "val=p1.result(\"muthu\")\n",
    "print(val)"
   ]
  },
  {
   "cell_type": "code",
   "execution_count": 18,
   "id": "eb680a60",
   "metadata": {},
   "outputs": [
    {
     "name": "stdout",
     "output_type": "stream",
     "text": [
      "dhoni\n"
     ]
    }
   ],
   "source": [
    "class per:\n",
    "    def __init__(self,name,age,team):\n",
    "        self.name1=name\n",
    "        self.age1=age\n",
    "        self.team=team\n",
    "        \n",
    "p1=per(\"dhoni\",42,\"csk\")\n",
    "print(p1.name1)\n",
    "    "
   ]
  },
  {
   "cell_type": "code",
   "execution_count": 14,
   "id": "4d8d2d0f",
   "metadata": {},
   "outputs": [],
   "source": [
    "def rain():\n",
    "    pass"
   ]
  },
  {
   "cell_type": "code",
   "execution_count": 29,
   "id": "e5f2eec5",
   "metadata": {},
   "outputs": [
    {
     "name": "stdout",
     "output_type": "stream",
     "text": [
      "1\n",
      "2\n",
      "3\n"
     ]
    }
   ],
   "source": [
    "for i in range(1,10):\n",
    "     print(i)\n",
    "     if (i==3):\n",
    "        break\n",
    "            \n",
    "     \n",
    "      \n",
    "       \n",
    "    \n",
    "\n",
    "   "
   ]
  },
  {
   "cell_type": "code",
   "execution_count": 27,
   "id": "78cc7b27",
   "metadata": {},
   "outputs": [
    {
     "name": "stdout",
     "output_type": "stream",
     "text": [
      "30\n"
     ]
    }
   ],
   "source": [
    "# Inheritance :- (Importing parenst or base class into the child or derived class)\n",
    "\n",
    "class person1(person):\n",
    "    p1=person1(10,20,86)\n",
    "    p1.total()\n",
    "    "
   ]
  },
  {
   "cell_type": "code",
   "execution_count": 28,
   "id": "e528cda1",
   "metadata": {},
   "outputs": [
    {
     "name": "stdout",
     "output_type": "stream",
     "text": [
      "my location is chennai\n"
     ]
    }
   ],
   "source": [
    "class student(person):\n",
    "    def __init__(self,x,y,mark,loc):\n",
    "        super().__init__(x,y,mark)\n",
    "        self.place=loc\n",
    "        \n",
    "    def location(self):\n",
    "        print(\"my location is {}\".format(self.place))\n",
    "        \n",
    "p1=student(10,20,90,\"chennai\")\n",
    "p1.location()"
   ]
  },
  {
   "cell_type": "code",
   "execution_count": 39,
   "id": "f39507af",
   "metadata": {},
   "outputs": [
    {
     "name": "stdout",
     "output_type": "stream",
     "text": [
      "i'm 20.2\n",
      "FORD\n",
      "my location is chennai\n"
     ]
    },
    {
     "data": {
      "text/plain": [
       "20"
      ]
     },
     "execution_count": 39,
     "metadata": {},
     "output_type": "execute_result"
    }
   ],
   "source": [
    "class student(person):\n",
    "    def __init__(self,x,y,mark,loc,age):\n",
    "        super().__init__(x,y,mark)\n",
    "        self.place=loc\n",
    "        self.ageof=age\n",
    "        \n",
    "    def location(self):\n",
    "        print(\"my location is {}\".format(self.place))\n",
    "        \n",
    "    def age(self):\n",
    "        print(\"i'm {}\".format(self.ageof))\n",
    "        \n",
    "    def car(self):\n",
    "        print(\"FORD\")\n",
    "        \n",
    "s1=student(10,20,89,\"chennai\",20.2) \n",
    "s1.age()\n",
    "s1.car()\n",
    "s1.location()\n",
    "s1.yy\n"
   ]
  },
  {
   "cell_type": "code",
   "execution_count": 43,
   "id": "622253c3",
   "metadata": {},
   "outputs": [
    {
     "name": "stdout",
     "output_type": "stream",
     "text": [
      "dhoni\n",
      "i am from chennai\n"
     ]
    }
   ],
   "source": [
    "class per:\n",
    "    def __init__(self,name,age,team):\n",
    "        self.name1=name\n",
    "        self.age1=age\n",
    "        self.team=team\n",
    "        \n",
    "p1=per(\"dhoni\",42,\"csk\")\n",
    "\n",
    "\n",
    "class stu(per):\n",
    "    def __init__(self,name,age,team,loc):\n",
    "        super().__init__(name,age,team)\n",
    "        self.place=loc\n",
    "        \n",
    "    def location(self):\n",
    "        print(\"i am from {}\".format(self.place))\n",
    "\n",
    "        \n",
    "p1=stu(\"dhoni\",42,\"csk\",\"chennai\")\n",
    "print(p1.name1)\n",
    "p1.location()\n",
    "    "
   ]
  },
  {
   "cell_type": "code",
   "execution_count": 55,
   "id": "97638922",
   "metadata": {},
   "outputs": [
    {
     "name": "stdout",
     "output_type": "stream",
     "text": [
      "20 - kilometers\n",
      "Renganayagi Varatharaj College Of Engineering\n",
      "supramaniyapuram\n"
     ]
    }
   ],
   "source": [
    "class college:\n",
    "    def __init__(self,loc,name,dis):\n",
    "        self.loc1=loc\n",
    "        self.coname=name\n",
    "        self.dis1=dis\n",
    "        \n",
    "co1=college(\"supramaniyapuram\",\"Renganayagi Varatharaj College Of Engineering\",\"20 - kilometers\")\n",
    "print(co1.dis1)\n",
    "print(co1.coname)\n",
    "print(co1.loc1)"
   ]
  },
  {
   "cell_type": "code",
   "execution_count": null,
   "id": "fadaacfb",
   "metadata": {},
   "outputs": [],
   "source": []
  },
  {
   "cell_type": "code",
   "execution_count": null,
   "id": "33609bca",
   "metadata": {},
   "outputs": [],
   "source": []
  }
 ],
 "metadata": {
  "kernelspec": {
   "display_name": "Python 3 (ipykernel)",
   "language": "python",
   "name": "python3"
  },
  "language_info": {
   "codemirror_mode": {
    "name": "ipython",
    "version": 3
   },
   "file_extension": ".py",
   "mimetype": "text/x-python",
   "name": "python",
   "nbconvert_exporter": "python",
   "pygments_lexer": "ipython3",
   "version": "3.11.3"
  }
 },
 "nbformat": 4,
 "nbformat_minor": 5
}
