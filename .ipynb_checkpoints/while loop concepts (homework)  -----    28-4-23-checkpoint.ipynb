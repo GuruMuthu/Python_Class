{
 "cells": [
  {
   "cell_type": "code",
   "execution_count": 24,
   "id": "f4132f5e",
   "metadata": {},
   "outputs": [
    {
     "name": "stdout",
     "output_type": "stream",
     "text": [
      "2\n",
      "4\n",
      "6\n",
      "8\n",
      "10\n",
      "12\n",
      "14\n",
      "16\n",
      "18\n",
      "20\n"
     ]
    }
   ],
   "source": [
    "#first 10 0dd numbers\n",
    "num=2\n",
    "while (num<=20):\n",
    "    print(num)\n",
    "    num=num+2\n",
    "   "
   ]
  },
  {
   "cell_type": "code",
   "execution_count": 26,
   "id": "cf5baaee",
   "metadata": {},
   "outputs": [
    {
     "name": "stdout",
     "output_type": "stream",
     "text": [
      "1\n",
      "3\n",
      "5\n",
      "7\n",
      "9\n",
      "11\n",
      "13\n",
      "15\n",
      "17\n",
      "19\n"
     ]
    }
   ],
   "source": [
    "#first 10 even numbers\n",
    "num=1\n",
    "while (num<20):\n",
    "    print(num)\n",
    "    num=num+2"
   ]
  },
  {
   "cell_type": "code",
   "execution_count": 28,
   "id": "50cb00b5",
   "metadata": {},
   "outputs": [
    {
     "name": "stdout",
     "output_type": "stream",
     "text": [
      "1\n",
      "2\n",
      "3\n",
      "4\n",
      "5\n",
      "6\n",
      "7\n",
      "8\n",
      "9\n",
      "10\n"
     ]
    }
   ],
   "source": [
    "#first 10 natural numbers\n",
    "num=1\n",
    "while (num<=10):\n",
    "    print(num)\n",
    "    num=num+1"
   ]
  },
  {
   "cell_type": "code",
   "execution_count": 30,
   "id": "fdc16f04",
   "metadata": {},
   "outputs": [
    {
     "name": "stdout",
     "output_type": "stream",
     "text": [
      "0\n",
      "1\n",
      "2\n",
      "3\n",
      "4\n",
      "5\n",
      "6\n",
      "7\n",
      "8\n",
      "9\n"
     ]
    }
   ],
   "source": [
    "#first 10 whole numbers\n",
    "num=0\n",
    "while (num<10):\n",
    "    print(num)\n",
    "    num=num+1\n",
    "    "
   ]
  },
  {
   "cell_type": "code",
   "execution_count": 31,
   "id": "8199d8cb",
   "metadata": {},
   "outputs": [
    {
     "name": "stdout",
     "output_type": "stream",
     "text": [
      "1 it's square is 1\n",
      "2 it's square is 4\n",
      "3 it's square is 9\n",
      "4 it's square is 16\n",
      "5 it's square is 25\n",
      "6 it's square is 36\n",
      "7 it's square is 49\n",
      "8 it's square is 64\n",
      "9 it's square is 81\n",
      "10 it's square is 100\n"
     ]
    }
   ],
   "source": [
    "num=1\n",
    "while (num<=10):\n",
    "    print(num,\"it's square is\",num**2)\n",
    "    num=num+1"
   ]
  },
  {
   "cell_type": "code",
   "execution_count": 40,
   "id": "e391a41f",
   "metadata": {},
   "outputs": [
    {
     "name": "stdout",
     "output_type": "stream",
     "text": [
      "10,20,30,40,50,60,70,80,90,100,110,120,130,140,150,160,170,180,190,200,210,220,230,240,250,260,270,280,290,300,"
     ]
    }
   ],
   "source": [
    "num=10\n",
    "while (num<=300):\n",
    "    print(num,end=\",\")\n",
    "    num=num+10\n",
    "    "
   ]
  },
  {
   "cell_type": "code",
   "execution_count": 42,
   "id": "297d7c84",
   "metadata": {},
   "outputs": [
    {
     "name": "stdout",
     "output_type": "stream",
     "text": [
      "105,98,91,84,77,70,63,56,49,42,35,28,21,14,7,"
     ]
    }
   ],
   "source": [
    "num=105\n",
    "while(num>=7):\n",
    "    print(num,end=\",\")\n",
    "    num=num-7"
   ]
  },
  {
   "cell_type": "markdown",
   "id": "c11537a9",
   "metadata": {},
   "source": [
    "num=10\n",
    "while "
   ]
  },
  {
   "cell_type": "code",
   "execution_count": 44,
   "id": "c829e950",
   "metadata": {},
   "outputs": [
    {
     "name": "stdout",
     "output_type": "stream",
     "text": [
      "10,9,8,7,6,5,4,3,2,1,"
     ]
    }
   ],
   "source": [
    "num=10\n",
    "while (num>=1):\n",
    "    print(num,end=\",\")\n",
    "    num=num-1"
   ]
  },
  {
   "cell_type": "code",
   "execution_count": 52,
   "id": "920ed5ee",
   "metadata": {},
   "outputs": [
    {
     "name": "stdout",
     "output_type": "stream",
     "text": [
      "10,19,27,34,40,45,49,52,54,55,"
     ]
    }
   ],
   "source": [
    "num=10\n",
    "sum1=0\n",
    "while (num>=1):\n",
    "    sum1=sum1+num\n",
    "    num=num-1\n",
    "    print(sum1,end=\",\")\n"
   ]
  },
  {
   "cell_type": "code",
   "execution_count": 53,
   "id": "b05cd8b3",
   "metadata": {},
   "outputs": [
    {
     "name": "stdout",
     "output_type": "stream",
     "text": [
      "1,3,6,10,15,21,28,36,45,55,"
     ]
    }
   ],
   "source": [
    "num=1\n",
    "sum1=0\n",
    "while(num<=10):\n",
    "    sum1=sum1+num\n",
    "    num=num+1\n",
    "    print(sum1,end=\",\")"
   ]
  },
  {
   "cell_type": "code",
   "execution_count": 61,
   "id": "da6d4253",
   "metadata": {},
   "outputs": [
    {
     "name": "stdout",
     "output_type": "stream",
     "text": [
      "3,7,13,21,31,43,57,73,91,111,"
     ]
    }
   ],
   "source": [
    "num=2\n",
    "sum1=1\n",
    "while(num<=20):\n",
    "    sum1=sum1+num\n",
    "    num=num+2\n",
    "    print(sum1,end=\",\")"
   ]
  },
  {
   "cell_type": "code",
   "execution_count": 66,
   "id": "d9e06a88",
   "metadata": {},
   "outputs": [
    {
     "name": "stdout",
     "output_type": "stream",
     "text": [
      "Enter the table no :7\n",
      "7 * 1 = 7\n",
      "7 * 2 = 14\n",
      "7 * 3 = 21\n",
      "7 * 4 = 28\n",
      "7 * 5 = 35\n",
      "7 * 6 = 42\n",
      "7 * 7 = 49\n",
      "7 * 8 = 56\n",
      "7 * 9 = 63\n",
      "7 * 10 = 70\n",
      "7 * 11 = 77\n",
      "7 * 12 = 84\n",
      "7 * 13 = 91\n",
      "7 * 14 = 98\n",
      "7 * 15 = 105\n",
      "7 * 16 = 112\n",
      "7 * 17 = 119\n",
      "7 * 18 = 126\n",
      "7 * 19 = 133\n",
      "7 * 20 = 140\n"
     ]
    }
   ],
   "source": [
    "num=int(input(\"Enter the table no :\"))\n",
    "sum2=1\n",
    "while (sum2<=20):\n",
    "    print(num,\"*\",sum2,\"=\",sum2*num)\n",
    "    sum2=sum2+1\n",
    "    \n",
    "     \n",
    "        "
   ]
  },
  {
   "cell_type": "code",
   "execution_count": 70,
   "id": "266eec99",
   "metadata": {},
   "outputs": [
    {
     "name": "stdout",
     "output_type": "stream",
     "text": [
      "Enter no1 : 12\n",
      "Enter no2 : 45\n",
      "12\n",
      "14\n",
      "16\n",
      "18\n",
      "20\n",
      "22\n",
      "24\n",
      "26\n",
      "28\n",
      "30\n",
      "32\n",
      "34\n",
      "36\n",
      "38\n",
      "40\n",
      "42\n",
      "44\n"
     ]
    }
   ],
   "source": [
    "in1=int(input(\"Enter no1 : \"))\n",
    "in2=int(input(\"Enter no2 : \"))\n",
    "if (in1>in2):\n",
    "    while(in1>in2):\n",
    "        if(in2%2==0):\n",
    "            print(in2)\n",
    "        in2=in2+1\n",
    "else:\n",
    "    while(in1<in2):\n",
    "        if(in1%2==0):\n",
    "            print(in1)\n",
    "        in1=in1+1"
   ]
  },
  {
   "cell_type": "code",
   "execution_count": null,
   "id": "f94584d4",
   "metadata": {},
   "outputs": [],
   "source": []
  },
  {
   "cell_type": "code",
   "execution_count": null,
   "id": "4cae183b",
   "metadata": {},
   "outputs": [],
   "source": []
  }
 ],
 "metadata": {
  "kernelspec": {
   "display_name": "Python 3 (ipykernel)",
   "language": "python",
   "name": "python3"
  },
  "language_info": {
   "codemirror_mode": {
    "name": "ipython",
    "version": 3
   },
   "file_extension": ".py",
   "mimetype": "text/x-python",
   "name": "python",
   "nbconvert_exporter": "python",
   "pygments_lexer": "ipython3",
   "version": "3.11.3"
  }
 },
 "nbformat": 4,
 "nbformat_minor": 5
}
