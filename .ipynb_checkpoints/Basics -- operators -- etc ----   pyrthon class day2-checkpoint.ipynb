{
 "cells": [
  {
   "cell_type": "code",
   "execution_count": 4,
   "id": "a6a7c3ac",
   "metadata": {},
   "outputs": [
    {
     "name": "stdout",
     "output_type": "stream",
     "text": [
      "enter the value 100\n"
     ]
    }
   ],
   "source": [
    "a=10\n",
    "b=20\n",
    "a=input(\"enter the value \")\n"
   ]
  },
  {
   "cell_type": "code",
   "execution_count": 10,
   "id": "83700a1d",
   "metadata": {},
   "outputs": [
    {
     "data": {
      "text/plain": [
       "'100'"
      ]
     },
     "execution_count": 10,
     "metadata": {},
     "output_type": "execute_result"
    }
   ],
   "source": [
    "print(a)\n"
   ]
  },
  {
   "cell_type": "code",
   "execution_count": 9,
   "id": "ca20acaa",
   "metadata": {},
   "outputs": [
    {
     "data": {
      "text/plain": [
       "\"<class 'str'>\""
      ]
     },
     "execution_count": 9,
     "metadata": {},
     "output_type": "execute_result"
    }
   ],
   "source": [
    "print(type(a))"
   ]
  },
  {
   "cell_type": "code",
   "execution_count": 6,
   "id": "f122ff83",
   "metadata": {},
   "outputs": [
    {
     "name": "stdout",
     "output_type": "stream",
     "text": [
      "enter the value of no1 :20\n",
      "enter the value of no2 :25\n"
     ]
    }
   ],
   "source": [
    "a=input(\"enter the value of no1 :\")\n",
    "\n",
    "b=input(\"enter the value of no2 :\")\n"
   ]
  },
  {
   "cell_type": "code",
   "execution_count": 7,
   "id": "615c649c",
   "metadata": {},
   "outputs": [
    {
     "name": "stdout",
     "output_type": "stream",
     "text": [
      "45\n"
     ]
    }
   ],
   "source": [
    "print(int(a)+int(b))"
   ]
  },
  {
   "cell_type": "code",
   "execution_count": 5,
   "id": "bc81b9c7",
   "metadata": {},
   "outputs": [
    {
     "name": "stdout",
     "output_type": "stream",
     "text": [
      "enter the namemuthu\n",
      "enter the placebangalore\n"
     ]
    }
   ],
   "source": [
    "name=input(\"enter the name\")\n",
    "place=input(\"enter the place\")"
   ]
  },
  {
   "cell_type": "code",
   "execution_count": 9,
   "id": "11fc649e",
   "metadata": {},
   "outputs": [
    {
     "name": "stdout",
     "output_type": "stream",
     "text": [
      "muthu bangalore\n"
     ]
    }
   ],
   "source": [
    "print(name,place)"
   ]
  },
  {
   "cell_type": "code",
   "execution_count": 7,
   "id": "e8f2d251",
   "metadata": {},
   "outputs": [
    {
     "name": "stdout",
     "output_type": "stream",
     "text": [
      "im ram learning python\n"
     ]
    }
   ],
   "source": [
    "print(\"im {} learning {}\".format(\"ram\",\"python\"))"
   ]
  },
  {
   "cell_type": "code",
   "execution_count": 13,
   "id": "26830048",
   "metadata": {},
   "outputs": [
    {
     "name": "stdout",
     "output_type": "stream",
     "text": [
      "im python learning ram\n"
     ]
    }
   ],
   "source": [
    "print(\"im {} learning {}\".format(\"python\",\"ram\"))"
   ]
  },
  {
   "cell_type": "code",
   "execution_count": 14,
   "id": "e16dbcf7",
   "metadata": {},
   "outputs": [
    {
     "name": "stdout",
     "output_type": "stream",
     "text": [
      "20\n"
     ]
    }
   ],
   "source": [
    "#operaters\n",
    "\n",
    "print(10+10)"
   ]
  },
  {
   "cell_type": "code",
   "execution_count": 15,
   "id": "e6b3ac1c",
   "metadata": {},
   "outputs": [
    {
     "name": "stdout",
     "output_type": "stream",
     "text": [
      "1\n"
     ]
    }
   ],
   "source": [
    "#bitwise operater\n",
    "print(5%2)"
   ]
  },
  {
   "cell_type": "code",
   "execution_count": 16,
   "id": "7caf107f",
   "metadata": {},
   "outputs": [
    {
     "name": "stdout",
     "output_type": "stream",
     "text": [
      "0\n"
     ]
    }
   ],
   "source": [
    "print(10%2)"
   ]
  },
  {
   "cell_type": "code",
   "execution_count": 17,
   "id": "4b7ec820",
   "metadata": {},
   "outputs": [
    {
     "name": "stdout",
     "output_type": "stream",
     "text": [
      "0\n"
     ]
    }
   ],
   "source": [
    "print(1000%10)"
   ]
  },
  {
   "cell_type": "code",
   "execution_count": 18,
   "id": "95a6dd55",
   "metadata": {},
   "outputs": [
    {
     "name": "stdout",
     "output_type": "stream",
     "text": [
      "1\n"
     ]
    }
   ],
   "source": [
    "print(1%2)"
   ]
  },
  {
   "cell_type": "code",
   "execution_count": 19,
   "id": "ad302038",
   "metadata": {},
   "outputs": [
    {
     "name": "stdout",
     "output_type": "stream",
     "text": [
      "4\n"
     ]
    }
   ],
   "source": [
    "#power \n",
    "print(2**2)"
   ]
  },
  {
   "cell_type": "code",
   "execution_count": 20,
   "id": "6ee5296e",
   "metadata": {},
   "outputs": [
    {
     "name": "stdout",
     "output_type": "stream",
     "text": [
      "9\n"
     ]
    }
   ],
   "source": [
    "print(3**2)"
   ]
  },
  {
   "cell_type": "code",
   "execution_count": 21,
   "id": "6c3bdbeb",
   "metadata": {},
   "outputs": [
    {
     "name": "stdout",
     "output_type": "stream",
     "text": [
      "125\n"
     ]
    }
   ],
   "source": [
    "print(5**3)"
   ]
  },
  {
   "cell_type": "code",
   "execution_count": 22,
   "id": "4909092f",
   "metadata": {},
   "outputs": [
    {
     "name": "stdout",
     "output_type": "stream",
     "text": [
      "False\n"
     ]
    }
   ],
   "source": [
    "#assignment operater\n",
    "a=10\n",
    "\n",
    "\n",
    "#comparission operator\n",
    "#to find equal to\n",
    "a=10\n",
    "b=20\n",
    "c=10\n",
    "print(a==b)\n"
   ]
  },
  {
   "cell_type": "code",
   "execution_count": 24,
   "id": "5698ff32",
   "metadata": {},
   "outputs": [
    {
     "name": "stdout",
     "output_type": "stream",
     "text": [
      "True\n"
     ]
    }
   ],
   "source": [
    "print(a==c)"
   ]
  },
  {
   "cell_type": "code",
   "execution_count": 25,
   "id": "f4981d92",
   "metadata": {},
   "outputs": [
    {
     "name": "stdout",
     "output_type": "stream",
     "text": [
      "True\n"
     ]
    }
   ],
   "source": [
    "#comparission operator\n",
    "#to find not equalto\n",
    "\n",
    "print(a!=b)\n"
   ]
  },
  {
   "cell_type": "code",
   "execution_count": 26,
   "id": "4d6805da",
   "metadata": {
    "scrolled": true
   },
   "outputs": [
    {
     "name": "stdout",
     "output_type": "stream",
     "text": [
      "False\n"
     ]
    }
   ],
   "source": [
    "#to find not equal to\n",
    "print(a!=c)"
   ]
  },
  {
   "cell_type": "code",
   "execution_count": 15,
   "id": "e83e2729",
   "metadata": {},
   "outputs": [
    {
     "data": {
      "text/plain": [
       "'2'"
      ]
     },
     "execution_count": 15,
     "metadata": {},
     "output_type": "execute_result"
    }
   ],
   "source": [
    "#comparission operator\n",
    "#to find ( > or < or >= or <= )\n",
    "\n",
    "\n",
    "#logical operators\n",
    "#!) and\n",
    "#!!) or\n",
    "#!!!) not\n",
    "\n",
    "\n",
    "#bitwise operator\n",
    "\n",
    "\n",
    "#bitwise &,| operator \n",
    "\n",
    "print(10&6)\n",
    "\n",
    "\n",
    "\n",
    "\n"
   ]
  },
  {
   "cell_type": "code",
   "execution_count": 16,
   "id": "b27aa724",
   "metadata": {},
   "outputs": [
    {
     "data": {
      "text/plain": [
       "'14'"
      ]
     },
     "execution_count": 16,
     "metadata": {},
     "output_type": "execute_result"
    }
   ],
   "source": [
    "print(10|6)"
   ]
  },
  {
   "cell_type": "code",
   "execution_count": null,
   "id": "7b29c889",
   "metadata": {},
   "outputs": [],
   "source": []
  },
  {
   "cell_type": "code",
   "execution_count": null,
   "id": "77023c61",
   "metadata": {},
   "outputs": [],
   "source": []
  }
 ],
 "metadata": {
  "kernelspec": {
   "display_name": "Python 3 (ipykernel)",
   "language": "python",
   "name": "python3"
  },
  "language_info": {
   "codemirror_mode": {
    "name": "ipython",
    "version": 3
   },
   "file_extension": ".py",
   "mimetype": "text/x-python",
   "name": "python",
   "nbconvert_exporter": "python",
   "pygments_lexer": "ipython3",
   "version": "3.11.3"
  }
 },
 "nbformat": 4,
 "nbformat_minor": 5
}
