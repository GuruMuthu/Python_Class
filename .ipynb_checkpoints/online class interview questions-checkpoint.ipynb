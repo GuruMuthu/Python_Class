{
 "cells": [
  {
   "cell_type": "code",
   "execution_count": 1,
   "id": "e7574263",
   "metadata": {},
   "outputs": [
    {
     "name": "stdout",
     "output_type": "stream",
     "text": [
      "Enter the name here : muthu\n",
      " \n",
      "Name is exist.....!\n"
     ]
    }
   ],
   "source": [
    "# To find the name is exist or not :-\n",
    "\n",
    "a=[\"muthu\",\"raj\",\"guru\",\"jay\",\"k muthu\"]\n",
    "b=input(\"Enter the name here : \")\n",
    "print(\" \")\n",
    "for i in a:\n",
    "    if(b in a):\n",
    "        print(\"Name is exist.....!\")\n",
    "        break\n",
    "    else:\n",
    "        print(\"Name not exist......!\")\n",
    "        break"
   ]
  },
  {
   "cell_type": "code",
   "execution_count": null,
   "id": "7b6c30b8",
   "metadata": {},
   "outputs": [],
   "source": [
    "st = input(\"string\")\n",
    " \n",
    "freq = {}\n",
    "for i in st:\n",
    "    if i in freq:\n",
    "        print(\"true\",freq)\n",
    "        freq[i] += 1\n",
    "    else:\n",
    "        print(\"false\",freq)\n",
    "        freq[i] = 1\n",
    "result = max(freq , key = freq.get)\n",
    "print(result)"
   ]
  },
  {
   "cell_type": "code",
   "execution_count": null,
   "id": "5b4c9947",
   "metadata": {},
   "outputs": [],
   "source": [
    "# finding second largest :- \n",
    "num=[1,2,9,1,3,4,5,6,7,8]\n",
    "num.remove(max(num))\n",
    "sl=max(num)\n",
    "print(sl)\n",
    "num.sort()\n",
    "print(num)"
   ]
  },
  {
   "cell_type": "code",
   "execution_count": null,
   "id": "0822cbeb",
   "metadata": {},
   "outputs": [],
   "source": [
    "num=[1,43,2,9,1,3,4,5,33,21,54,6,7,8]\n",
    "maxi=a[0]\n",
    "for i in num:\n",
    "    if (maxi<i):\n",
    "        maxi=i\n",
    "num.remove(maxi)\n",
    "print(maxi)\n",
    "print(num)"
   ]
  },
  {
   "cell_type": "code",
   "execution_count": null,
   "id": "b57f1ff2",
   "metadata": {},
   "outputs": [],
   "source": [
    "num=[1,43,2,9,1,3,4,5,33,21,54,6,7,8]\n",
    "num.sort()\n",
    "first_largest_number = num.pop()\n",
    "print(first_largest_number)\n",
    "print(num)"
   ]
  },
  {
   "cell_type": "code",
   "execution_count": null,
   "id": "02e7e69e",
   "metadata": {},
   "outputs": [],
   "source": [
    "num=[43,2,9,1,3,4,5,33,21,54,6,7,8]\n",
    "num.sort()\n",
    "for i in range(len(num)):\n",
    "    f=num.pop()\n",
    "    if(i==0):\n",
    "        print(i+1,\"'st biggest number\",f)\n",
    "    elif(i==1):\n",
    "        print(i+1,\"'nd biggest number\",f)\n",
    "    elif(i==2):\n",
    "        print(i+1,\"'rd biggest number\",f)\n",
    "    else:\n",
    "        print(i+1,\"'th biggest number\",f)"
   ]
  },
  {
   "cell_type": "code",
   "execution_count": null,
   "id": "4cd0daaf",
   "metadata": {},
   "outputs": [],
   "source": [
    "no=int(input(\"which one biggest number do you want : \"))\n",
    "num=[1,43,2,9,1,3,4,5,33,21,54,6,7,8]\n",
    "num.sort()\n",
    "for i in range(no):\n",
    "    f=num.pop()\n",
    "print(f)"
   ]
  },
  {
   "cell_type": "code",
   "execution_count": null,
   "id": "b7235cdc",
   "metadata": {},
   "outputs": [],
   "source": [
    "no=int(input(\"which one smalest number do you want : \"))\n",
    "num=[1,43,2,9,3,4,5,33,21,54,6,7,8]\n",
    "num.sort()\n",
    "print(num[no-1])"
   ]
  },
  {
   "cell_type": "code",
   "execution_count": 5,
   "id": "f772466e",
   "metadata": {},
   "outputs": [
    {
     "name": "stdout",
     "output_type": "stream",
     "text": [
      "name\n"
     ]
    }
   ],
   "source": [
    "# key accessing in dictionary :-\n",
    "a={\n",
    "    \"name\":1,\n",
    "    \"age\":2,\n",
    "    \"native\":3\n",
    "}\n",
    "r =min(a,key = a.get)\n",
    "print(r)"
   ]
  },
  {
   "cell_type": "code",
   "execution_count": 6,
   "id": "5bca5668",
   "metadata": {},
   "outputs": [
    {
     "name": "stdout",
     "output_type": "stream",
     "text": [
      "*****\n",
      "****\n",
      "***\n",
      "**\n",
      "*\n"
     ]
    }
   ],
   "source": [
    "for i in range(5,0,-1):\n",
    "    print(i*\"*\")"
   ]
  },
  {
   "cell_type": "code",
   "execution_count": 10,
   "id": "a17a4e36",
   "metadata": {},
   "outputs": [
    {
     "name": "stdout",
     "output_type": "stream",
     "text": [
      "*\n",
      "**\n",
      "***\n",
      "****\n",
      "*****\n"
     ]
    }
   ],
   "source": [
    "for i in range(1,6):\n",
    "    print(i*\"*\")"
   ]
  },
  {
   "cell_type": "code",
   "execution_count": 12,
   "id": "0ceb72cc",
   "metadata": {},
   "outputs": [
    {
     "name": "stdout",
     "output_type": "stream",
     "text": [
      "*****\n",
      "*****\n",
      "*****\n",
      "*****\n",
      "*****\n"
     ]
    }
   ],
   "source": [
    "for i in range(5):\n",
    "    print(50*\"*\")"
   ]
  },
  {
   "cell_type": "code",
   "execution_count": null,
   "id": "64122027",
   "metadata": {},
   "outputs": [],
   "source": []
  }
 ],
 "metadata": {
  "kernelspec": {
   "display_name": "Python 3 (ipykernel)",
   "language": "python",
   "name": "python3"
  },
  "language_info": {
   "codemirror_mode": {
    "name": "ipython",
    "version": 3
   },
   "file_extension": ".py",
   "mimetype": "text/x-python",
   "name": "python",
   "nbconvert_exporter": "python",
   "pygments_lexer": "ipython3",
   "version": "3.11.3"
  }
 },
 "nbformat": 4,
 "nbformat_minor": 5
}
