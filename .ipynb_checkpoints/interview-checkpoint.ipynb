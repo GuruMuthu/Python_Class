{
 "cells": [
  {
   "cell_type": "code",
   "execution_count": 2,
   "id": "34dccb59",
   "metadata": {},
   "outputs": [
    {
     "name": "stdout",
     "output_type": "stream",
     "text": [
      "20\n",
      "20\n"
     ]
    }
   ],
   "source": [
    "# inteview questions:-\n",
    "\n",
    "a=10\n",
    "def total():\n",
    "    global a\n",
    "    print(a+10)\n",
    "    a=a+10\n",
    "total()\n",
    "print(a)"
   ]
  },
  {
   "cell_type": "code",
   "execution_count": 7,
   "id": "09174f2e",
   "metadata": {},
   "outputs": [
    {
     "ename": "IndentationError",
     "evalue": "unindent does not match any outer indentation level (<tokenize>, line 9)",
     "output_type": "error",
     "traceback": [
      "\u001b[1;36m  File \u001b[1;32m<tokenize>:9\u001b[1;36m\u001b[0m\n\u001b[1;33m    print(\"yes\") if 10>5 print(\"no\") else\u001b[0m\n\u001b[1;37m    ^\u001b[0m\n\u001b[1;31mIndentationError\u001b[0m\u001b[1;31m:\u001b[0m unindent does not match any outer indentation level\n"
     ]
    }
   ],
   "source": [
    "#normal conditions:-\n",
    "\n",
    "if 10>5 :\n",
    "    print(\"yes\")\n",
    "else:\n",
    "    print(\"no\")\n",
    "    "
   ]
  },
  {
   "cell_type": "code",
   "execution_count": 10,
   "id": "7a88fc03",
   "metadata": {},
   "outputs": [
    {
     "name": "stdout",
     "output_type": "stream",
     "text": [
      "yes\n"
     ]
    }
   ],
   "source": [
    "# ternary:-\n",
    "\n",
    "print(\"yes\") if 10>5 else print(\"no\")"
   ]
  },
  {
   "cell_type": "code",
   "execution_count": 14,
   "id": "7fabd8de",
   "metadata": {},
   "outputs": [
    {
     "name": "stdout",
     "output_type": "stream",
     "text": [
      "[1, 2, [3, 4], 5, 6]\n",
      "[1, 2, [3, 4], 5, 6]\n",
      "[1, 2, [7, 4], 5, 6]\n",
      "[1, 2, [7, 4], 5, 6]\n"
     ]
    }
   ],
   "source": [
    "# shallow copy:-\n",
    "import copy\n",
    "\n",
    "li1=[1,2,[3,4],5,6]\n",
    "print(li1)\n",
    "\n",
    "li2=copy.copy(li1)\n",
    "print(li2)\n",
    "\n",
    "li2[2][0]=7\n",
    "print(li1)\n",
    "print(li2)"
   ]
  },
  {
   "cell_type": "code",
   "execution_count": 15,
   "id": "3f76967a",
   "metadata": {},
   "outputs": [
    {
     "name": "stdout",
     "output_type": "stream",
     "text": [
      "[1, 2, [3, 4], 5, 6]\n",
      "[1, 2, [3, 4], 5, 6]\n",
      "[1, 2, [3, 4], 5, 6]\n",
      "[1, 2, [7, 4], 5, 6]\n"
     ]
    }
   ],
   "source": [
    "# deep copy:-\n",
    "import copy\n",
    "\n",
    "li1=[1,2,[3,4],5,6]\n",
    "print(li1)\n",
    "\n",
    "li2=copy.deepcopy(li1)\n",
    "print(li2)\n",
    "\n",
    "li2[2][0]=7\n",
    "print(li1)\n",
    "print(li2)"
   ]
  },
  {
   "cell_type": "code",
   "execution_count": 16,
   "id": "a2c8a28d",
   "metadata": {},
   "outputs": [],
   "source": [
    "# fibonacci series(0,1,1,2,3,5,8,13,21):-\n"
   ]
  },
  {
   "cell_type": "code",
   "execution_count": null,
   "id": "c8d19160",
   "metadata": {},
   "outputs": [],
   "source": [
    "# palindrom (mom)-----(ex:- 323 and 434 etc....):-"
   ]
  }
 ],
 "metadata": {
  "kernelspec": {
   "display_name": "Python 3 (ipykernel)",
   "language": "python",
   "name": "python3"
  },
  "language_info": {
   "codemirror_mode": {
    "name": "ipython",
    "version": 3
   },
   "file_extension": ".py",
   "mimetype": "text/x-python",
   "name": "python",
   "nbconvert_exporter": "python",
   "pygments_lexer": "ipython3",
   "version": "3.11.3"
  }
 },
 "nbformat": 4,
 "nbformat_minor": 5
}
