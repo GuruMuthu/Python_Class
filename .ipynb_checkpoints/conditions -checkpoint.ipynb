{
 "cells": [
  {
   "cell_type": "code",
   "execution_count": 4,
   "id": "e66f894c",
   "metadata": {},
   "outputs": [
    {
     "name": "stdout",
     "output_type": "stream",
     "text": [
      "enter heree\n",
      "yes\n"
     ]
    }
   ],
   "source": [
    "vowels=[\"a\",\"e\",\"i\",\"o\",\"u\"]\n",
    "in_put=input(\"enter here\")\n",
    "if (in_put in vowels):\n",
    "    print(\"yes\")\n",
    "else:\n",
    "    print(\"No\")"
   ]
  },
  {
   "cell_type": "code",
   "execution_count": 3,
   "id": "35a64163",
   "metadata": {},
   "outputs": [
    {
     "name": "stdout",
     "output_type": "stream",
     "text": [
      "enter herew\n",
      "No\n"
     ]
    }
   ],
   "source": [
    "vowels=[\"a\",\"e\",\"i\",\"o\",\"u\"]\n",
    "in_put=input(\"enter here\")\n",
    "if (in_put in vowels):\n",
    "    print(\"yes\")\n",
    "else:\n",
    "    print(\"No\")"
   ]
  },
  {
   "cell_type": "code",
   "execution_count": 6,
   "id": "eee43f4c",
   "metadata": {},
   "outputs": [
    {
     "name": "stdout",
     "output_type": "stream",
     "text": [
      "enter no 16\n",
      "enter no 24\n",
      "enter the operater%\n",
      "6 4 %\n",
      "2\n"
     ]
    }
   ],
   "source": [
    "# Calculator :-\n",
    "\n",
    "no_1=int(input(\"enter no 1\"))\n",
    "no_2=int(input(\"enter no 2\"))\n",
    "operater=input(\"enter the operater\")\n",
    "print(no_1,no_2,operater)\n",
    "if (operater==\"+\"):\n",
    "    print(no_1+ no_2)\n",
    "elif (operater==\"-\"):\n",
    "    print(no_1- no_2)\n",
    "elif (operater==\"*\"):\n",
    "    print(no_1* no_2) \n",
    "elif (operater==\"%\"):\n",
    "    print(no_1% no_2) \n",
    "else:\n",
    "    print(\"invalid operater\")\n",
    "\n",
    "\n",
    "\n"
   ]
  },
  {
   "cell_type": "code",
   "execution_count": 3,
   "id": "c445d77e",
   "metadata": {},
   "outputs": [
    {
     "name": "stdout",
     "output_type": "stream",
     "text": [
      "enter herei\n",
      "yes\n"
     ]
    }
   ],
   "source": [
    "ch=input(\"enter here\")\n",
    "if (ch==\"a\" or ch==\"e\" or ch==\"i\" or ch==\"e\" or ch==\"o\"):\n",
    "    print(\"yes\")\n",
    "else:\n",
    "    print(\"no\")"
   ]
  },
  {
   "cell_type": "code",
   "execution_count": 2,
   "id": "aa25ee93",
   "metadata": {},
   "outputs": [
    {
     "name": "stdout",
     "output_type": "stream",
     "text": [
      "a is not greater\n"
     ]
    }
   ],
   "source": [
    "a=10\n",
    "b=20\n",
    "c=30\n",
    "if (a>b and a>c):\n",
    "    print(\"a is greater\")\n",
    "else:\n",
    "    print(\"a is not greater\")"
   ]
  },
  {
   "cell_type": "code",
   "execution_count": 9,
   "id": "a7df66df",
   "metadata": {},
   "outputs": [
    {
     "name": "stdout",
     "output_type": "stream",
     "text": [
      "a is greater\n"
     ]
    }
   ],
   "source": [
    "a=100\n",
    "b=20\n",
    "c=30\n",
    "if (a>b and a>c):\n",
    "    print(\"a is greater\")\n",
    "else:\n",
    "    print(\"a is not greater\")"
   ]
  },
  {
   "cell_type": "code",
   "execution_count": 10,
   "id": "d0d038b4",
   "metadata": {},
   "outputs": [
    {
     "name": "stdout",
     "output_type": "stream",
     "text": [
      "a is not greater\n"
     ]
    }
   ],
   "source": [
    "a=10\n",
    "b=20\n",
    "c=30\n",
    "if (a>b and a>=c):\n",
    "    print(\"a is greater\")\n",
    "else:\n",
    "    print(\"a is not greater\")"
   ]
  },
  {
   "cell_type": "code",
   "execution_count": null,
   "id": "2db413b6",
   "metadata": {},
   "outputs": [],
   "source": []
  }
 ],
 "metadata": {
  "kernelspec": {
   "display_name": "Python 3 (ipykernel)",
   "language": "python",
   "name": "python3"
  },
  "language_info": {
   "codemirror_mode": {
    "name": "ipython",
    "version": 3
   },
   "file_extension": ".py",
   "mimetype": "text/x-python",
   "name": "python",
   "nbconvert_exporter": "python",
   "pygments_lexer": "ipython3",
   "version": "3.11.3"
  }
 },
 "nbformat": 4,
 "nbformat_minor": 5
}
