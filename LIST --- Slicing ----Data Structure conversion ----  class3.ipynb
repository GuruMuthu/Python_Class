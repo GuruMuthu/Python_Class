{
 "cells": [
  {
   "cell_type": "code",
   "execution_count": 2,
   "id": "f2341e86",
   "metadata": {},
   "outputs": [
    {
     "name": "stdout",
     "output_type": "stream",
     "text": [
      "[1, 2, 3, 4, 5]\n"
     ]
    }
   ],
   "source": [
    "#data structure or primitive data type:-\n",
    "#list,\n",
    "a=[1,2,3,4,5]\n",
    "print(a)\n"
   ]
  },
  {
   "cell_type": "code",
   "execution_count": 3,
   "id": "a83b658d",
   "metadata": {},
   "outputs": [
    {
     "name": "stdout",
     "output_type": "stream",
     "text": [
      "<class 'list'>\n"
     ]
    }
   ],
   "source": [
    "#to find the type:-\n",
    "print(type(a))"
   ]
  },
  {
   "cell_type": "code",
   "execution_count": 4,
   "id": "05c6d1eb",
   "metadata": {},
   "outputs": [
    {
     "name": "stdout",
     "output_type": "stream",
     "text": [
      "5\n"
     ]
    }
   ],
   "source": [
    "#to find the length:-\n",
    "print(len(a))"
   ]
  },
  {
   "cell_type": "code",
   "execution_count": 6,
   "id": "2d3f4c91",
   "metadata": {},
   "outputs": [
    {
     "name": "stdout",
     "output_type": "stream",
     "text": [
      "[True, 'cell', 40, 1.1]\n",
      "(1, 2, 3, 4)\n"
     ]
    }
   ],
   "source": [
    "#homogeneous:-\n",
    "b=[True,\"cell\",40,1.1]\n",
    "print(b)\n",
    "\n",
    "#homogeniuos\n",
    "h=(1,2,3,4)\n",
    "print(h)"
   ]
  },
  {
   "cell_type": "code",
   "execution_count": 6,
   "id": "e67bba73",
   "metadata": {},
   "outputs": [
    {
     "name": "stdout",
     "output_type": "stream",
     "text": [
      "<class 'set'>\n"
     ]
    }
   ],
   "source": [
    "#to find the type in set:-\n",
    "c={1,2,3,4,5}\n",
    "print(type(c))"
   ]
  },
  {
   "cell_type": "code",
   "execution_count": 7,
   "id": "3338f422",
   "metadata": {},
   "outputs": [
    {
     "name": "stdout",
     "output_type": "stream",
     "text": [
      "<class 'tuple'>\n"
     ]
    }
   ],
   "source": [
    "#to find the type in tuple:-\n",
    "d=(1,2,3,4)\n",
    "print(d)\n",
    "print(type(d))"
   ]
  },
  {
   "cell_type": "code",
   "execution_count": 8,
   "id": "2311a898",
   "metadata": {},
   "outputs": [
    {
     "name": "stdout",
     "output_type": "stream",
     "text": [
      "(1, 2, 3, 4)\n",
      "{1, 2, 3, 4}\n"
     ]
    }
   ],
   "source": [
    "#type casting or data conversion:-\n",
    "e=[1,2,3,4]\n",
    "f=tuple(e)\n",
    "g=set(e)\n",
    "print(f)\n",
    "print(g)\n"
   ]
  },
  {
   "cell_type": "code",
   "execution_count": 10,
   "id": "17a67de7",
   "metadata": {},
   "outputs": [
    {
     "name": "stdout",
     "output_type": "stream",
     "text": [
      "[1, 2, 3, 4, 5]\n"
     ]
    }
   ],
   "source": [
    "c={1,2,3,4,5}\n",
    "C=list(c)\n",
    "print(C)"
   ]
  },
  {
   "cell_type": "code",
   "execution_count": 15,
   "id": "d521a98d",
   "metadata": {},
   "outputs": [
    {
     "name": "stdout",
     "output_type": "stream",
     "text": [
      "[10, 30, 40, 50]\n",
      "10\n",
      "30\n",
      "50\n",
      "40\n"
     ]
    }
   ],
   "source": [
    "#slicing\n",
    "h=[10,30,40,50]\n",
    "print(h)\n",
    "print(h[0])\n",
    "print(h[1])\n",
    "print(h[-1])\n",
    "print(h[-2])"
   ]
  },
  {
   "cell_type": "code",
   "execution_count": 16,
   "id": "d9293a4b",
   "metadata": {},
   "outputs": [
    {
     "ename": "SyntaxError",
     "evalue": "invalid syntax (1851190762.py, line 2)",
     "output_type": "error",
     "traceback": [
      "\u001b[1;36m  Cell \u001b[1;32mIn[16], line 2\u001b[1;36m\u001b[0m\n\u001b[1;33m    name is=10\u001b[0m\n\u001b[1;37m           ^\u001b[0m\n\u001b[1;31mSyntaxError\u001b[0m\u001b[1;31m:\u001b[0m invalid syntax\n"
     ]
    }
   ],
   "source": [
    "name_is=10\n",
    "name is=10\n",
    "print(name_is)\n",
    "print(name is)\n"
   ]
  },
  {
   "cell_type": "code",
   "execution_count": 20,
   "id": "bacb10df",
   "metadata": {},
   "outputs": [
    {
     "name": "stdout",
     "output_type": "stream",
     "text": [
      "['B', 'a', 'n', 'g', 'a', 'l', 'o', 'r', 'e']\n",
      "('B', 'a', 'n', 'g', 'a', 'l', 'o', 'r', 'e')\n",
      "{'a', 'g', 'r', 'l', 'e', 'n', 'B', 'o'}\n"
     ]
    }
   ],
   "source": [
    "#to check order and unorder:-\n",
    "txt=\"Bangalore\"\n",
    "print(list(txt))\n",
    "print(tuple(txt))\n",
    "print(set(txt))"
   ]
  },
  {
   "cell_type": "code",
   "execution_count": 7,
   "id": "2bb5b615",
   "metadata": {},
   "outputs": [
    {
     "name": "stdout",
     "output_type": "stream",
     "text": [
      "[20, 30]\n",
      "[30, 4, 50]\n",
      "[30, 4]\n"
     ]
    }
   ],
   "source": [
    "#slicing\n",
    "\n",
    "a=[10,20,30,4,50]\n",
    "print(a[1:3])\n",
    "print(a[2:5])\n",
    "print(a[2:4])\n",
    "\n",
    "\n"
   ]
  },
  {
   "cell_type": "code",
   "execution_count": 25,
   "id": "7eb76ada",
   "metadata": {},
   "outputs": [
    {
     "name": "stdout",
     "output_type": "stream",
     "text": [
      "30\n"
     ]
    }
   ],
   "source": [
    "a=[10,20,30,4,50]\n",
    "print(a[0]+a[1])\n",
    "print"
   ]
  },
  {
   "cell_type": "code",
   "execution_count": 27,
   "id": "c3a2e2c7",
   "metadata": {},
   "outputs": [
    {
     "name": "stdout",
     "output_type": "stream",
     "text": [
      "g\n",
      "e\n"
     ]
    }
   ],
   "source": [
    "a=\"bangalore\"\n",
    "print(a[3])\n",
    "print(a[-1])"
   ]
  },
  {
   "cell_type": "code",
   "execution_count": 29,
   "id": "015518be",
   "metadata": {},
   "outputs": [
    {
     "name": "stdout",
     "output_type": "stream",
     "text": [
      "iammuthu\n",
      "i am muthu\n"
     ]
    }
   ],
   "source": [
    "#stringconcatination\n",
    "x=\"i\"\n",
    "y=\"am\"\n",
    "z=\"muthu\"\n",
    "\n",
    "txt=x+y+z\n",
    "print(txt)\n",
    "txt=x+\" \"+y+ \" \"+z\n",
    "print(txt)"
   ]
  },
  {
   "cell_type": "code",
   "execution_count": null,
   "id": "07f53bb5",
   "metadata": {},
   "outputs": [],
   "source": []
  },
  {
   "cell_type": "code",
   "execution_count": 3,
   "id": "bb2fb8e2",
   "metadata": {},
   "outputs": [
    {
     "name": "stdout",
     "output_type": "stream",
     "text": [
      "[20]\n",
      "[30, 50]\n",
      "[30]\n"
     ]
    }
   ],
   "source": [
    "#slicing\n",
    "a=[10,20,30,4,50,70,43,87,46]\n",
    "print(a[1:3:2])\n",
    "print(a[2:5:2])\n",
    "print(a[2:4:3])"
   ]
  },
  {
   "cell_type": "code",
   "execution_count": null,
   "id": "95d2614e",
   "metadata": {},
   "outputs": [],
   "source": []
  },
  {
   "cell_type": "code",
   "execution_count": null,
   "id": "09ea7139",
   "metadata": {},
   "outputs": [],
   "source": []
  }
 ],
 "metadata": {
  "kernelspec": {
   "display_name": "Python 3 (ipykernel)",
   "language": "python",
   "name": "python3"
  },
  "language_info": {
   "codemirror_mode": {
    "name": "ipython",
    "version": 3
   },
   "file_extension": ".py",
   "mimetype": "text/x-python",
   "name": "python",
   "nbconvert_exporter": "python",
   "pygments_lexer": "ipython3",
   "version": "3.11.3"
  }
 },
 "nbformat": 4,
 "nbformat_minor": 5
}
