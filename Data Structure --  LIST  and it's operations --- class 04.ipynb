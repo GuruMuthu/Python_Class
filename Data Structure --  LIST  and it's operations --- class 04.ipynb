{
 "cells": [
  {
   "cell_type": "code",
   "execution_count": 1,
   "id": "c3866098",
   "metadata": {},
   "outputs": [
    {
     "name": "stdout",
     "output_type": "stream",
     "text": [
      "1\n"
     ]
    }
   ],
   "source": [
    "#slicing in nested list type:-\n",
    "a=[1,44,[\"car\",'b',100]]\n",
    "print(a[0])"
   ]
  },
  {
   "cell_type": "code",
   "execution_count": 3,
   "id": "1d024eba",
   "metadata": {},
   "outputs": [
    {
     "name": "stdout",
     "output_type": "stream",
     "text": [
      "car\n",
      "100\n"
     ]
    }
   ],
   "source": [
    "#slicing in nested list type:-\n",
    "a=[1,44,[\"car\",'b',100]]\n",
    "print(a[2][0])\n",
    "print(a[2][-1])"
   ]
  },
  {
   "cell_type": "code",
   "execution_count": 15,
   "id": "934bd6d1",
   "metadata": {},
   "outputs": [
    {
     "name": "stdout",
     "output_type": "stream",
     "text": [
      "bus\n",
      "u\n",
      "60\n",
      "a\n",
      "[40, 60]\n"
     ]
    }
   ],
   "source": [
    "#slicing in nested list type:-\n",
    "a=[40,\"bus\",[21,[40,60,\"bat\"]]]\n",
    "print(a[1])\n",
    "print(a[1][1])\n",
    "print(a[2][1][1])\n",
    "print(a[2][1][2][1])\n",
    "print(a[2][1][0:2])\n"
   ]
  },
  {
   "cell_type": "code",
   "execution_count": 8,
   "id": "ea4eea34",
   "metadata": {},
   "outputs": [
    {
     "name": "stdout",
     "output_type": "stream",
     "text": [
      "60\n",
      "6\n"
     ]
    }
   ],
   "source": [
    "#slicing in nested list type:-\n",
    "a=[40,\"bus\",[21,[40,\"60\",\"bat\"]]]\n",
    "print(a[2][1][1])\n",
    "print(a[2][1][1][0])\n",
    "\n"
   ]
  },
  {
   "cell_type": "code",
   "execution_count": 17,
   "id": "5b96c49d",
   "metadata": {},
   "outputs": [
    {
     "name": "stdout",
     "output_type": "stream",
     "text": [
      "[100, 20, 1, 5, 8]\n",
      "[100, 20, 1, 5, 30]\n",
      "[100, 20, 111, 5, 30]\n"
     ]
    }
   ],
   "source": [
    "#replace\n",
    "a=[10,20,1,5,8]\n",
    "\n",
    "a[0]=100\n",
    "print(a)\n",
    "\n",
    "a[4]=30\n",
    "print(a)\n",
    "\n",
    "a[2]=111\n",
    "print(a)\n"
   ]
  },
  {
   "cell_type": "code",
   "execution_count": 32,
   "id": "2d37db44",
   "metadata": {},
   "outputs": [
    {
     "name": "stdout",
     "output_type": "stream",
     "text": [
      "[100, 'bus', 20, 111, 5, 30]\n"
     ]
    }
   ],
   "source": [
    "a.insert(1,\"bus\")\n",
    "print(a)"
   ]
  },
  {
   "cell_type": "code",
   "execution_count": 35,
   "id": "356c8684",
   "metadata": {},
   "outputs": [
    {
     "name": "stdout",
     "output_type": "stream",
     "text": [
      "[100, 'bus', 20, 111, 5, 30, 5, 5, 4]\n"
     ]
    }
   ],
   "source": [
    "a.insert(1000,4)\n",
    "print(a)"
   ]
  },
  {
   "cell_type": "code",
   "execution_count": 36,
   "id": "8149cd8c",
   "metadata": {},
   "outputs": [
    {
     "name": "stdout",
     "output_type": "stream",
     "text": [
      "[100, 'bus', 20, 111, 5, 30, 5, 5, 4, 50]\n"
     ]
    }
   ],
   "source": [
    "a.append(50)\n",
    "print(a)\n"
   ]
  },
  {
   "cell_type": "code",
   "execution_count": 37,
   "id": "d7857c9c",
   "metadata": {},
   "outputs": [
    {
     "name": "stdout",
     "output_type": "stream",
     "text": [
      "[100, 'bus', 20, 111, 5, 30, 5, 5, 4, 50, 'muthu']\n"
     ]
    }
   ],
   "source": [
    "a.append(\"muthu\")\n",
    "print(a)"
   ]
  },
  {
   "cell_type": "code",
   "execution_count": 38,
   "id": "09fd5563",
   "metadata": {},
   "outputs": [
    {
     "name": "stdout",
     "output_type": "stream",
     "text": [
      "[100, 'bus', 20, 111, 5, 30, 5, 5, 4, 50, 'muthu', 1.1]\n"
     ]
    }
   ],
   "source": [
    "a.append(1.1)\n",
    "print(a)"
   ]
  },
  {
   "cell_type": "code",
   "execution_count": 40,
   "id": "6822e3d6",
   "metadata": {},
   "outputs": [
    {
     "name": "stdout",
     "output_type": "stream",
     "text": [
      "[10, 20, 30]\n"
     ]
    }
   ],
   "source": [
    "a=[10,20,30,48]\n",
    "a.remove(48)\n",
    "print(a)"
   ]
  },
  {
   "cell_type": "code",
   "execution_count": 41,
   "id": "d7946f1f",
   "metadata": {},
   "outputs": [
    {
     "name": "stdout",
     "output_type": "stream",
     "text": [
      "[20, 30]\n"
     ]
    }
   ],
   "source": [
    "a.remove(10)\n",
    "print(a)"
   ]
  },
  {
   "cell_type": "code",
   "execution_count": 43,
   "id": "317b36c1",
   "metadata": {},
   "outputs": [
    {
     "ename": "TypeError",
     "evalue": "list.remove() takes exactly one argument (0 given)",
     "output_type": "error",
     "traceback": [
      "\u001b[1;31m---------------------------------------------------------------------------\u001b[0m",
      "\u001b[1;31mTypeError\u001b[0m                                 Traceback (most recent call last)",
      "Cell \u001b[1;32mIn[43], line 1\u001b[0m\n\u001b[1;32m----> 1\u001b[0m \u001b[43ma\u001b[49m\u001b[38;5;241;43m.\u001b[39;49m\u001b[43mremove\u001b[49m\u001b[43m(\u001b[49m\u001b[43m)\u001b[49m\n\u001b[0;32m      2\u001b[0m \u001b[38;5;28mprint\u001b[39m(a)\n",
      "\u001b[1;31mTypeError\u001b[0m: list.remove() takes exactly one argument (0 given)"
     ]
    }
   ],
   "source": [
    "a.remove()\n",
    "print(a)"
   ]
  },
  {
   "cell_type": "code",
   "execution_count": 45,
   "id": "be64dde5",
   "metadata": {},
   "outputs": [
    {
     "name": "stdout",
     "output_type": "stream",
     "text": [
      "[20, 1, 5, 8]\n"
     ]
    }
   ],
   "source": [
    "a=[10,20,1,5,8]\n",
    "a.pop(0)\n",
    "print(a)"
   ]
  },
  {
   "cell_type": "code",
   "execution_count": 46,
   "id": "3487e3e4",
   "metadata": {},
   "outputs": [
    {
     "name": "stdout",
     "output_type": "stream",
     "text": [
      "[20, 1, 5]\n"
     ]
    }
   ],
   "source": [
    "a.pop()\n",
    "print(a)"
   ]
  },
  {
   "cell_type": "code",
   "execution_count": null,
   "id": "9dac6609",
   "metadata": {},
   "outputs": [],
   "source": []
  },
  {
   "cell_type": "code",
   "execution_count": 18,
   "id": "fd0c0a1a",
   "metadata": {},
   "outputs": [
    {
     "name": "stdout",
     "output_type": "stream",
     "text": [
      "<class 'list'>\n"
     ]
    }
   ],
   "source": [
    "print(type(a))"
   ]
  },
  {
   "cell_type": "code",
   "execution_count": 49,
   "id": "07b8c19c",
   "metadata": {},
   "outputs": [
    {
     "name": "stdout",
     "output_type": "stream",
     "text": [
      "[]\n"
     ]
    }
   ],
   "source": [
    "a.clear()\n",
    "print(a)"
   ]
  },
  {
   "cell_type": "code",
   "execution_count": 44,
   "id": "f8521cea",
   "metadata": {},
   "outputs": [
    {
     "ename": "NameError",
     "evalue": "name 'd' is not defined",
     "output_type": "error",
     "traceback": [
      "\u001b[1;31m---------------------------------------------------------------------------\u001b[0m",
      "\u001b[1;31mNameError\u001b[0m                                 Traceback (most recent call last)",
      "Cell \u001b[1;32mIn[44], line 3\u001b[0m\n\u001b[0;32m      1\u001b[0m d\u001b[38;5;241m=\u001b[39m[\u001b[38;5;241m2\u001b[39m,\u001b[38;5;241m6\u001b[39m,\u001b[38;5;241m0\u001b[39m]\n\u001b[0;32m      2\u001b[0m \u001b[38;5;28;01mdel\u001b[39;00m(d)\n\u001b[1;32m----> 3\u001b[0m \u001b[38;5;28mprint\u001b[39m(\u001b[43md\u001b[49m)\n",
      "\u001b[1;31mNameError\u001b[0m: name 'd' is not defined"
     ]
    }
   ],
   "source": [
    "d=[2,6,0]\n",
    "del(d)\n",
    "print(d)"
   ]
  },
  {
   "cell_type": "code",
   "execution_count": 52,
   "id": "bf9a11f7",
   "metadata": {},
   "outputs": [
    {
     "name": "stdout",
     "output_type": "stream",
     "text": [
      "[]\n"
     ]
    }
   ],
   "source": [
    "a=[]\n",
    "print(a)"
   ]
  },
  {
   "cell_type": "code",
   "execution_count": 54,
   "id": "cf11cc7a",
   "metadata": {},
   "outputs": [
    {
     "name": "stdout",
     "output_type": "stream",
     "text": [
      "[]\n"
     ]
    }
   ],
   "source": [
    "a=list()\n",
    "print(a)"
   ]
  },
  {
   "cell_type": "code",
   "execution_count": 2,
   "id": "87cc959e",
   "metadata": {
    "scrolled": true
   },
   "outputs": [
    {
     "name": "stdout",
     "output_type": "stream",
     "text": [
      "{1, 5, 8, 10, 20}\n",
      "(10, 20, 1, 5, 8)\n"
     ]
    }
   ],
   "source": [
    "\n",
    "c=[10,20,1,5,8]\n",
    "print(set(c))\n",
    "print(tuple(c))"
   ]
  },
  {
   "cell_type": "code",
   "execution_count": 24,
   "id": "30498a3e",
   "metadata": {},
   "outputs": [
    {
     "name": "stdout",
     "output_type": "stream",
     "text": [
      "()\n"
     ]
    }
   ],
   "source": [
    "b=()\n",
    "print(b)"
   ]
  },
  {
   "cell_type": "code",
   "execution_count": 48,
   "id": "d96e5e3b",
   "metadata": {},
   "outputs": [
    {
     "name": "stdout",
     "output_type": "stream",
     "text": [
      "{}\n"
     ]
    }
   ],
   "source": [
    "c=()\n",
    "print(dict(c))"
   ]
  },
  {
   "cell_type": "code",
   "execution_count": 61,
   "id": "dee645da",
   "metadata": {},
   "outputs": [
    {
     "name": "stdout",
     "output_type": "stream",
     "text": [
      "[10, 20, 1, 5, 8, 10, 40, 60]\n"
     ]
    }
   ],
   "source": [
    "a=[10,20,1,5,8]\n",
    "b=[10,40,60]\n",
    "\n",
    "c=a+b\n",
    "print(c)"
   ]
  },
  {
   "cell_type": "code",
   "execution_count": 62,
   "id": "043eb4a5",
   "metadata": {},
   "outputs": [
    {
     "name": "stdout",
     "output_type": "stream",
     "text": [
      "[10, 20, 1, 5, 8, 10, 40, 60]\n"
     ]
    }
   ],
   "source": [
    "a.extend(b)\n",
    "print(a)"
   ]
  },
  {
   "cell_type": "code",
   "execution_count": 63,
   "id": "38376871",
   "metadata": {},
   "outputs": [
    {
     "name": "stdout",
     "output_type": "stream",
     "text": [
      "[10, 20, 1, 5, 8, 10, 40, 60, [10, 40, 60]]\n"
     ]
    }
   ],
   "source": [
    "a.append(b)\n",
    "print(a)"
   ]
  },
  {
   "cell_type": "code",
   "execution_count": 10,
   "id": "23b60562",
   "metadata": {},
   "outputs": [
    {
     "name": "stdout",
     "output_type": "stream",
     "text": [
      "[1, 'l', 'list', 1.0]\n"
     ]
    }
   ],
   "source": [
    "l=[1,'l',\"list\",1.0]\n",
    "print(l)"
   ]
  },
  {
   "cell_type": "code",
   "execution_count": 11,
   "id": "36417630",
   "metadata": {},
   "outputs": [
    {
     "name": "stdout",
     "output_type": "stream",
     "text": [
      "(1, 'l', 'list', 1.0)\n"
     ]
    }
   ],
   "source": [
    "t=(1,'l',\"list\",1.0)\n",
    "print(t)"
   ]
  },
  {
   "cell_type": "code",
   "execution_count": 12,
   "id": "1377dfb6",
   "metadata": {},
   "outputs": [
    {
     "name": "stdout",
     "output_type": "stream",
     "text": [
      "{1, 'l', 'list'}\n"
     ]
    }
   ],
   "source": [
    "s={1,'l',\"list\",1.0}\n",
    "print(s)"
   ]
  },
  {
   "cell_type": "code",
   "execution_count": 14,
   "id": "d2877cd3",
   "metadata": {},
   "outputs": [
    {
     "name": "stdout",
     "output_type": "stream",
     "text": [
      "{'name': 'muthu', 'age': '24', 'city': 'bangalore'}\n"
     ]
    }
   ],
   "source": [
    "dic={\"name\":\"muthu\",\"age\":\"24\",\"city\":\"bangalore\"}\n",
    "print(dic)"
   ]
  },
  {
   "cell_type": "code",
   "execution_count": 19,
   "id": "1c2fd219",
   "metadata": {},
   "outputs": [
    {
     "name": "stdout",
     "output_type": "stream",
     "text": [
      "['cycle', 'bike', 'car', 'bus', 'van', 'flight']\n"
     ]
    }
   ],
   "source": [
    "# replacing\n",
    "task=[\"cycle\",\"bike\",\"car\",\"bus\",\"train\",\"flight\"]\n",
    "task[4]=\"van\"\n",
    "print(task)"
   ]
  },
  {
   "cell_type": "code",
   "execution_count": 22,
   "id": "2472955c",
   "metadata": {},
   "outputs": [
    {
     "name": "stdout",
     "output_type": "stream",
     "text": [
      "['cycle', 'bike', 'car', 'bus', 'van', 'flight', 'van']\n"
     ]
    }
   ],
   "source": [
    "# append\n",
    "task.append(\"van\")\n",
    "print(task)"
   ]
  },
  {
   "cell_type": "code",
   "execution_count": 27,
   "id": "0e89155b",
   "metadata": {},
   "outputs": [
    {
     "name": "stdout",
     "output_type": "stream",
     "text": [
      "['cycle', 'bike', 'benz', 'car', 'bus', 'van', 'flight', 'van']\n"
     ]
    }
   ],
   "source": [
    "task.insert(2,\"benz\")\n",
    "print(task)"
   ]
  },
  {
   "cell_type": "code",
   "execution_count": 28,
   "id": "7a87c858",
   "metadata": {},
   "outputs": [
    {
     "name": "stdout",
     "output_type": "stream",
     "text": [
      "['cycle', 'bike', 'benz', 'car', 'van', 'flight', 'van']\n"
     ]
    }
   ],
   "source": [
    "task.remove(\"bus\")\n",
    "print(task)"
   ]
  },
  {
   "cell_type": "code",
   "execution_count": 29,
   "id": "3980661c",
   "metadata": {},
   "outputs": [
    {
     "name": "stdout",
     "output_type": "stream",
     "text": [
      "['cycle', 'bike', 'benz', 'car', 'van', 'van']\n"
     ]
    }
   ],
   "source": [
    "task.pop(5)\n",
    "print(task)"
   ]
  },
  {
   "cell_type": "code",
   "execution_count": 30,
   "id": "c70eea07",
   "metadata": {},
   "outputs": [
    {
     "name": "stdout",
     "output_type": "stream",
     "text": [
      "e\n"
     ]
    }
   ],
   "source": [
    "print(task[2][1])"
   ]
  },
  {
   "cell_type": "code",
   "execution_count": 31,
   "id": "c0423c99",
   "metadata": {},
   "outputs": [
    {
     "name": "stdout",
     "output_type": "stream",
     "text": [
      "['cycle', 'bike', 'benz', 'car', 'van', 'van']\n"
     ]
    }
   ],
   "source": [
    "print(task)"
   ]
  },
  {
   "cell_type": "code",
   "execution_count": 37,
   "id": "9da9d6e0",
   "metadata": {},
   "outputs": [
    {
     "ename": "SyntaxError",
     "evalue": "'(' was never closed (3371728426.py, line 1)",
     "output_type": "error",
     "traceback": [
      "\u001b[1;36m  Cell \u001b[1;32mIn[37], line 1\u001b[1;36m\u001b[0m\n\u001b[1;33m    print(set(task)\u001b[0m\n\u001b[1;37m         ^\u001b[0m\n\u001b[1;31mSyntaxError\u001b[0m\u001b[1;31m:\u001b[0m '(' was never closed\n"
     ]
    }
   ],
   "source": []
  },
  {
   "cell_type": "code",
   "execution_count": 38,
   "id": "49c20d19",
   "metadata": {},
   "outputs": [
    {
     "name": "stdout",
     "output_type": "stream",
     "text": [
      "[]\n"
     ]
    }
   ],
   "source": [
    "task.clear()\n",
    "print(task)"
   ]
  },
  {
   "cell_type": "code",
   "execution_count": 5,
   "id": "26afe28b",
   "metadata": {},
   "outputs": [
    {
     "name": "stdout",
     "output_type": "stream",
     "text": [
      "CSKRCB\n"
     ]
    }
   ],
   "source": [
    "#string concatenation:-\n",
    "a=\"CSK\"\n",
    "b=\"RCB\"\n",
    "print(a+b)"
   ]
  },
  {
   "cell_type": "code",
   "execution_count": null,
   "id": "cd397a59",
   "metadata": {},
   "outputs": [],
   "source": []
  }
 ],
 "metadata": {
  "kernelspec": {
   "display_name": "Python 3 (ipykernel)",
   "language": "python",
   "name": "python3"
  },
  "language_info": {
   "codemirror_mode": {
    "name": "ipython",
    "version": 3
   },
   "file_extension": ".py",
   "mimetype": "text/x-python",
   "name": "python",
   "nbconvert_exporter": "python",
   "pygments_lexer": "ipython3",
   "version": "3.11.3"
  }
 },
 "nbformat": 4,
 "nbformat_minor": 5
}
