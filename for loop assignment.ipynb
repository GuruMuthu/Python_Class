{
 "cells": [
  {
   "cell_type": "code",
   "execution_count": 16,
   "id": "7983bc3f",
   "metadata": {},
   "outputs": [
    {
     "name": "stdout",
     "output_type": "stream",
     "text": [
      "[10, 2, 3, 4, 5, 6, 7, 8, 9, 1]\n"
     ]
    }
   ],
   "source": [
    "# interchanging firt and last element;-\n",
    "a=[1,2,3,4,5,6,7,8,9,10]\n",
    "b=a[0]\n",
    "for i in range(1):\n",
    "    a[0]=a[-1]\n",
    "    a[-1]=b\n",
    "    print(a)  "
   ]
  },
  {
   "cell_type": "code",
   "execution_count": 24,
   "id": "d85604e4",
   "metadata": {},
   "outputs": [
    {
     "name": "stdout",
     "output_type": "stream",
     "text": [
      "['orange', 'mango', 'apple']\n"
     ]
    }
   ],
   "source": [
    "# interchanging firt and last element;-\n",
    "f=[\"apple\",\"mango\",\"orange\"]\n",
    "b=f[0]\n",
    "for i in range(1):\n",
    "    f[0]=f[-1]\n",
    "    f[-1]=b\n",
    "    print(f)"
   ]
  },
  {
   "cell_type": "code",
   "execution_count": 34,
   "id": "b97bf37e",
   "metadata": {},
   "outputs": [
    {
     "name": "stdout",
     "output_type": "stream",
     "text": [
      "10\n"
     ]
    }
   ],
   "source": [
    "# length of list\n",
    "a=[1,2,3,4,5,6,7,8,9,0]\n",
    "c=0\n",
    "for i in a:\n",
    "    c=c+1\n",
    "print(c)"
   ]
  },
  {
   "cell_type": "code",
   "execution_count": 9,
   "id": "194a956a",
   "metadata": {},
   "outputs": [
    {
     "name": "stdout",
     "output_type": "stream",
     "text": [
      "10\n"
     ]
    }
   ],
   "source": [
    "# another way to find length of the list\n",
    "a=[1,2,3,4,5,6,7,8,9,0]\n",
    "print(len(a))\n",
    "    \n"
   ]
  },
  {
   "cell_type": "code",
   "execution_count": 1,
   "id": "b1542d8b",
   "metadata": {},
   "outputs": [
    {
     "name": "stdout",
     "output_type": "stream",
     "text": [
      "enter the num :8\n",
      "8 is exist\n"
     ]
    }
   ],
   "source": [
    "# checking  that input item is exist or not exist\n",
    "a=[1,2,3,4,5,6,7,8,9,0]\n",
    "b=int(input(\"enter the num :\"))\n",
    "for i in range(1):\n",
    "    if(b in a):\n",
    "        print(b,\"is exist\")\n",
    "    else:\n",
    "        print(b,\"is not exist\")"
   ]
  },
  {
   "cell_type": "code",
   "execution_count": 76,
   "id": "d609fb80",
   "metadata": {},
   "outputs": [
    {
     "name": "stdout",
     "output_type": "stream",
     "text": [
      "[]\n"
     ]
    }
   ],
   "source": [
    "#clear the list\n",
    "a=[1,2,3,4,5,6,7,8,9,0]\n",
    "for i in range(1):\n",
    "    a.clear()\n",
    "    print(a)"
   ]
  },
  {
   "cell_type": "code",
   "execution_count": 77,
   "id": "09fd4b22",
   "metadata": {},
   "outputs": [
    {
     "name": "stdout",
     "output_type": "stream",
     "text": [
      "[1, 2, 3, 4, 6, 7, 8, 9, 0]\n"
     ]
    }
   ],
   "source": [
    "a=[1,2,3,4,5,6,7,8,9,0]\n",
    "a.remove(5)\n",
    "print(a)"
   ]
  },
  {
   "cell_type": "code",
   "execution_count": 78,
   "id": "15b25d07",
   "metadata": {},
   "outputs": [
    {
     "name": "stdout",
     "output_type": "stream",
     "text": [
      "[1, 2, 3, 5, 6, 7, 8, 9, 0]\n"
     ]
    }
   ],
   "source": [
    "a=[1,2,3,4,5,6,7,8,9,0]\n",
    "a.pop(3)\n",
    "print(a)"
   ]
  },
  {
   "cell_type": "code",
   "execution_count": 1,
   "id": "0829ac83",
   "metadata": {},
   "outputs": [
    {
     "name": "stdout",
     "output_type": "stream",
     "text": [
      "['u', 'h', 't', 'u', 'm']\n"
     ]
    }
   ],
   "source": [
    "# print the list in reverse order\n",
    "a=[\"m\",\"u\",\"t\",\"h\",\"u\"]\n",
    "for i in range(1):\n",
    "    a.reverse()\n",
    "    print(a)"
   ]
  },
  {
   "cell_type": "code",
   "execution_count": 3,
   "id": "de6ec996",
   "metadata": {},
   "outputs": [
    {
     "name": "stdout",
     "output_type": "stream",
     "text": [
      "45\n"
     ]
    }
   ],
   "source": [
    "# sum of the elements in the list\n",
    "a=[1,2,3,4,5,6,7,8,9,0]\n",
    "sum=0\n",
    "for i in a:\n",
    "    sum=sum+i\n",
    "print(sum)\n",
    "    "
   ]
  },
  {
   "cell_type": "code",
   "execution_count": 6,
   "id": "be1897ee",
   "metadata": {},
   "outputs": [
    {
     "name": "stdout",
     "output_type": "stream",
     "text": [
      "362880\n"
     ]
    }
   ],
   "source": [
    "# multiplication\n",
    "a=[1,2,3,4,5,6,7,8,9]\n",
    "multiply=1\n",
    "for i in a:\n",
    "    multiply=multiply*i\n",
    "print(multiply)\n"
   ]
  },
  {
   "cell_type": "code",
   "execution_count": 13,
   "id": "cd24379a",
   "metadata": {},
   "outputs": [
    {
     "name": "stdout",
     "output_type": "stream",
     "text": [
      "0\n"
     ]
    }
   ],
   "source": [
    "# find minimum value in a list\n",
    "a=[4,2,7,0,2,1,6,8,5]\n",
    "small=a[0]\n",
    "for i in a:\n",
    "    if(small>i):\n",
    "        small=i\n",
    "print(small)"
   ]
  },
  {
   "cell_type": "code",
   "execution_count": 14,
   "id": "a4456bb0",
   "metadata": {},
   "outputs": [
    {
     "name": "stdout",
     "output_type": "stream",
     "text": [
      "8\n"
     ]
    }
   ],
   "source": [
    "# find maximum value in a list\n",
    "a=[4,2,7,0,2,1,6,8,5]\n",
    "big=a[0]\n",
    "for i in a:\n",
    "    if(big<i):\n",
    "        big=i\n",
    "print(big)"
   ]
  },
  {
   "cell_type": "code",
   "execution_count": 56,
   "id": "1c0df4b2",
   "metadata": {},
   "outputs": [
    {
     "name": "stdout",
     "output_type": "stream",
     "text": [
      "6734436\n",
      "4322353\n"
     ]
    }
   ],
   "source": [
    "# find the first & second largest number:-\n",
    "a=[42,4,1,3,5,6433,6734436,4322353,3,2,6,34634,4389]\n",
    "b=a[0]\n",
    "larandsecondlar=[]\n",
    "for i in a:\n",
    "    if(b<i or b>i):\n",
    "        b=i\n",
    "        larandsecondlar.append(b)\n",
    "        larandsecondlar.sort()\n",
    "print(larandsecondlar[-1])\n",
    "print(larandsecondlar[-2])"
   ]
  },
  {
   "cell_type": "code",
   "execution_count": 53,
   "id": "18d40802",
   "metadata": {},
   "outputs": [
    {
     "name": "stdout",
     "output_type": "stream",
     "text": [
      "4322353\n"
     ]
    }
   ],
   "source": [
    "# find the second largest number:-\n",
    "a=[42,4,1,3,5,6433,6734436,4322353,3,2,6,34634,4389]\n",
    "for i in range(1):\n",
    "    a.sort()\n",
    "print(a[-2])\n"
   ]
  },
  {
   "cell_type": "code",
   "execution_count": 134,
   "id": "dfd5c46f",
   "metadata": {},
   "outputs": [
    {
     "name": "stdout",
     "output_type": "stream",
     "text": [
      "42\n",
      "4\n",
      "6734436\n",
      "2\n",
      "6\n",
      "34634\n",
      "[2, 4, 6, 42, 34634, 6734436]\n"
     ]
    }
   ],
   "source": [
    "# find even numbers in a list:-\n",
    "a=[42,4,1,3,5,6433,6734436,4322353,3,2,6,34634,4389]\n",
    "b=[]\n",
    "for i in a:\n",
    "    if(i%2==0):\n",
    "        print(i)\n",
    "        b.append(i)\n",
    "        b.sort()\n",
    "print(b)"
   ]
  },
  {
   "cell_type": "code",
   "execution_count": 135,
   "id": "465ceee7",
   "metadata": {},
   "outputs": [
    {
     "name": "stdout",
     "output_type": "stream",
     "text": [
      "1\n",
      "3\n",
      "5\n",
      "6433\n",
      "4322353\n",
      "3\n",
      "4389\n",
      "[1, 3, 3, 5, 4389, 6433, 4322353]\n"
     ]
    }
   ],
   "source": [
    "# find the odd numbers:-\n",
    "a=[42,4,1,3,5,6433,6734436,4322353,3,2,6,34634,4389]\n",
    "b=[]\n",
    "for i in a:\n",
    "    if(i%2!=0):\n",
    "        print(i)\n",
    "        b.append(i)\n",
    "        b.sort()\n",
    "print(b)\n",
    "    "
   ]
  },
  {
   "cell_type": "code",
   "execution_count": 58,
   "id": "79be7ad1",
   "metadata": {},
   "outputs": [
    {
     "name": "stdout",
     "output_type": "stream",
     "text": [
      "enter the number1\n",
      "enter the number20\n",
      "2 is even numbar\n",
      "4 is even numbar\n",
      "6 is even numbar\n",
      "8 is even numbar\n",
      "10 is even numbar\n",
      "12 is even numbar\n",
      "14 is even numbar\n",
      "16 is even numbar\n",
      "18 is even numbar\n",
      "20 is even numbar\n"
     ]
    }
   ],
   "source": [
    "# find the even numbers:-\n",
    "a=int(input(\"enter the number\"))\n",
    "b=int(input(\"enter the number\"))\n",
    "for i in range(a,b+1):\n",
    "    if(i%2==0):\n",
    "        print(i,\"is even numbar\")"
   ]
  },
  {
   "cell_type": "code",
   "execution_count": 122,
   "id": "311b8213",
   "metadata": {},
   "outputs": [
    {
     "name": "stdout",
     "output_type": "stream",
     "text": [
      "enter the number1\n",
      "enter the number20\n",
      "1 is odd numbar\n",
      "3 is odd numbar\n",
      "5 is odd numbar\n",
      "7 is odd numbar\n",
      "9 is odd numbar\n",
      "11 is odd numbar\n",
      "13 is odd numbar\n",
      "15 is odd numbar\n",
      "17 is odd numbar\n",
      "19 is odd numbar\n"
     ]
    }
   ],
   "source": [
    "# find the odd numbers:-\n",
    "a=int(input(\"enter the number\"))\n",
    "b=int(input(\"enter the number\"))\n",
    "for i in range(a,b+1):\n",
    "    if (i%2!=0):\n",
    "        print(i,\"is odd numbar\")"
   ]
  },
  {
   "cell_type": "markdown",
   "id": "d9311c6a",
   "metadata": {},
   "source": []
  },
  {
   "cell_type": "code",
   "execution_count": 280,
   "id": "5f78e538",
   "metadata": {},
   "outputs": [
    {
     "name": "stdout",
     "output_type": "stream",
     "text": [
      "-5\n",
      "-4\n",
      "-3\n",
      "-2\n",
      "-1\n"
     ]
    }
   ],
   "source": [
    "# find the negative values in a list:-\n",
    "a=[-5,-4,-3,-2,-1,0,1,2,3,4,5]\n",
    "for i in a:\n",
    "    if(i<=-1):\n",
    "        print(i)\n"
   ]
  },
  {
   "cell_type": "code",
   "execution_count": 126,
   "id": "c15241be",
   "metadata": {},
   "outputs": [
    {
     "name": "stdout",
     "output_type": "stream",
     "text": [
      "0\n",
      "1\n",
      "2\n",
      "3\n",
      "4\n",
      "5\n"
     ]
    }
   ],
   "source": [
    "#find the positive value in a list:-\n",
    "a=[-5,-4,-3,-2,-1,0,1,2,3,4,5]\n",
    "for i in a:\n",
    "    if(i>=0):\n",
    "        print(i)\n",
    "    "
   ]
  },
  {
   "cell_type": "code",
   "execution_count": 205,
   "id": "8c8fb99d",
   "metadata": {},
   "outputs": [
    {
     "name": "stdout",
     "output_type": "stream",
     "text": [
      "6734436\n",
      "4322353\n"
     ]
    }
   ],
   "source": [
    "# first and second large values:-\n",
    "a=[42,4,1,3,5,6433,6734436,4322353,3,2,6,34634,4389]\n",
    "lar=a[0]\n",
    "seclar=a[0]\n",
    "for i in a:\n",
    "    if(seclar<i):\n",
    "        seclar=i\n",
    "        a.remove(lar)\n",
    "        for i in a:\n",
    "            if(lar<i):\n",
    "                lar=i\n",
    "print(lar)\n",
    "print(seclar)"
   ]
  },
  {
   "cell_type": "code",
   "execution_count": null,
   "id": "88024738",
   "metadata": {},
   "outputs": [],
   "source": [
    "\n"
   ]
  },
  {
   "cell_type": "code",
   "execution_count": 232,
   "id": "0f6a024e",
   "metadata": {},
   "outputs": [
    {
     "name": "stdout",
     "output_type": "stream",
     "text": [
      "6734436\n",
      "4322353\n",
      "34634\n"
     ]
    }
   ],
   "source": [
    "# find the second largest number:-\n",
    "a=[42,4,1,3,5,6433,6734436,4322353,3,2,6,34634,4389]\n",
    "maxi1=a[0]\n",
    "maxi2=a[0]\n",
    "maxi3=a[0]\n",
    "for i in a:\n",
    "    if(maxi1<i):\n",
    "        maxi1=i\n",
    "a.remove(maxi1)\n",
    "for i in a:\n",
    "    if(maxi2<i):\n",
    "        maxi2=i\n",
    "a.remove(maxi2)\n",
    "for i in a:\n",
    "    if(maxi3<i):\n",
    "        maxi3=i\n",
    "a.remove(maxi3)\n",
    "print(maxi1)\n",
    "print(maxi2)\n",
    "print(maxi3)"
   ]
  },
  {
   "cell_type": "code",
   "execution_count": 251,
   "id": "8ec94fae",
   "metadata": {},
   "outputs": [
    {
     "name": "stdout",
     "output_type": "stream",
     "text": [
      "[-5, -4, -3, -2, -1, 0, 1, 2, 3, 4, 5]\n"
     ]
    }
   ],
   "source": [
    "#remove the empty list in a given list:-\n",
    "a=[-5,-4,-3,-2,-1,0,[],1,2,3,[],4,5]\n",
    "for i in a:\n",
    "    if(i==[]):\n",
    "        a.remove(i)\n",
    "print(a)\n",
    "    "
   ]
  },
  {
   "cell_type": "code",
   "execution_count": null,
   "id": "b614a410",
   "metadata": {},
   "outputs": [],
   "source": []
  },
  {
   "cell_type": "code",
   "execution_count": 252,
   "id": "7b7cbc68",
   "metadata": {},
   "outputs": [
    {
     "name": "stdout",
     "output_type": "stream",
     "text": [
      "[-5, -4, -3, -2, -1, 0, [], 1, 2, 3, [], 4, 5]\n"
     ]
    }
   ],
   "source": [
    "#remove the empty tuple in a given list:-\n",
    "a=[-5,-4,-3,-2,(),-1,0,[],1,2,3,[],4,(),5]\n",
    "for i in a:\n",
    "    if(i==()):\n",
    "        a.remove(i)\n",
    "print(a)"
   ]
  },
  {
   "cell_type": "code",
   "execution_count": 253,
   "id": "b2364bda",
   "metadata": {},
   "outputs": [
    {
     "name": "stdout",
     "output_type": "stream",
     "text": [
      "[-5, -4, -3, -2, -1, 0, [], 1, 2, 3, [], 4, 5]\n",
      "[-5, -4, -3, -2, -1, 0, [], 1, 2, 3, [], 4, 5]\n"
     ]
    }
   ],
   "source": [
    "# cloning the list:-\n",
    "a=[-5,-4,-3,-2,-1,0,[],1,2,3,[],4,5]\n",
    "for i in a:\n",
    "    if(i in a):\n",
    "        b=a\n",
    "print(a)\n",
    "print(b)"
   ]
  },
  {
   "cell_type": "code",
   "execution_count": 254,
   "id": "b2917211",
   "metadata": {},
   "outputs": [
    {
     "name": "stdout",
     "output_type": "stream",
     "text": [
      "[-5, -4, -3, -2, -1, 0, [], 1, 2, 3, [], 4, 5]\n",
      "[-5, -4, -3, -2, -1, 0, [], 1, 2, 3, [], 4, 5]\n"
     ]
    }
   ],
   "source": [
    "# cloning the list:-\n",
    "a=[-5,-4,-3,-2,-1,0,[],1,2,3,[],4,5]\n",
    "b=[]\n",
    "clone=0\n",
    "for i in a:\n",
    "    if(i in a):\n",
    "        clone=i\n",
    "    b.append(clone)\n",
    "print(a)\n",
    "print(b)"
   ]
  },
  {
   "cell_type": "code",
   "execution_count": 281,
   "id": "6d76cf6e",
   "metadata": {},
   "outputs": [
    {
     "name": "stdout",
     "output_type": "stream",
     "text": [
      "[3, 4, 5, 7, 8, 0, 8, 7, 6, 5, 4, 3, 2, 1]\n"
     ]
    }
   ],
   "source": [
    "a=[3,4,5,7,8,0,8,7,6,5,4,3,2,1]\n",
    "b=a[0]\n",
    "c=[]\n",
    "for i in a:\n",
    "    if(i==i):\n",
    "        b=i\n",
    "        c.append(b)\n",
    "print(c)"
   ]
  },
  {
   "cell_type": "code",
   "execution_count": null,
   "id": "9888ebee",
   "metadata": {},
   "outputs": [],
   "source": []
  },
  {
   "cell_type": "code",
   "execution_count": null,
   "id": "68fd8c9c",
   "metadata": {},
   "outputs": [],
   "source": []
  }
 ],
 "metadata": {
  "kernelspec": {
   "display_name": "Python 3 (ipykernel)",
   "language": "python",
   "name": "python3"
  },
  "language_info": {
   "codemirror_mode": {
    "name": "ipython",
    "version": 3
   },
   "file_extension": ".py",
   "mimetype": "text/x-python",
   "name": "python",
   "nbconvert_exporter": "python",
   "pygments_lexer": "ipython3",
   "version": "3.11.3"
  }
 },
 "nbformat": 4,
 "nbformat_minor": 5
}
