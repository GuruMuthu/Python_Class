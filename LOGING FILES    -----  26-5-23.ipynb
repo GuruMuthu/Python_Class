{
 "cells": [
  {
   "cell_type": "code",
   "execution_count": 1,
   "id": "b797008d",
   "metadata": {},
   "outputs": [],
   "source": [
    "import logging"
   ]
  },
  {
   "cell_type": "code",
   "execution_count": 3,
   "id": "def78b3c",
   "metadata": {},
   "outputs": [
    {
     "name": "stdout",
     "output_type": "stream",
     "text": [
      "enterno\n"
     ]
    },
    {
     "name": "stderr",
     "output_type": "stream",
     "text": [
      "WARNING:root:this is an error mesages user entered no\n",
      "CRITICAL:root:this is the critical meassages\n"
     ]
    }
   ],
   "source": [
    "logging.debug(\"this is debug messages\")\n",
    "logging.info(\"this is an messages\")\n",
    "val=input(\"enter\")\n",
    "if val==\"yes\":\n",
    "    logging.warning(\"this is a warning messages by user\")\n",
    "else:\n",
    "    logging.warning(\"this is an error mesages user entered no\")\n",
    "    \n",
    "logging.critical(\"this is the critical meassages\")"
   ]
  },
  {
   "cell_type": "code",
   "execution_count": null,
   "id": "149c477f",
   "metadata": {},
   "outputs": [],
   "source": []
  }
 ],
 "metadata": {
  "kernelspec": {
   "display_name": "Python 3 (ipykernel)",
   "language": "python",
   "name": "python3"
  },
  "language_info": {
   "codemirror_mode": {
    "name": "ipython",
    "version": 3
   },
   "file_extension": ".py",
   "mimetype": "text/x-python",
   "name": "python",
   "nbconvert_exporter": "python",
   "pygments_lexer": "ipython3",
   "version": "3.11.3"
  }
 },
 "nbformat": 4,
 "nbformat_minor": 5
}
