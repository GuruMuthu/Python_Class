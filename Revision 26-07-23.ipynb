{
 "cells": [
  {
   "cell_type": "code",
   "execution_count": 46,
   "id": "4a4053b9",
   "metadata": {},
   "outputs": [
    {
     "name": "stdout",
     "output_type": "stream",
     "text": [
      "hi\n",
      "value : 10\n",
      "value : 10\n",
      "public\n",
      "30\n"
     ]
    }
   ],
   "source": [
    "class en:\n",
    "    __c=30\n",
    "    def __init__(self):\n",
    "        self.__b=10\n",
    "        print(\"hi\")\n",
    "    \n",
    "    def __one(self):\n",
    "        print(\"value :\",self.__b)\n",
    "        \n",
    "    def two(self):\n",
    "        self.__one()\n",
    "        print(\"public\")\n",
    "        \n",
    "ob=en()\n",
    "ob._en__one()\n",
    "ob.two()\n",
    "print(ob._en__c)\n",
    "\n"
   ]
  },
  {
   "cell_type": "code",
   "execution_count": 4,
   "id": "31ed4680",
   "metadata": {},
   "outputs": [
    {
     "name": "stdout",
     "output_type": "stream",
     "text": [
      "value : 1\n"
     ]
    }
   ],
   "source": [
    "# method overloading.......\n",
    "class parent:\n",
    "     def fun(self,a=None,b=None,c=None):\n",
    "            if a!=None and b!=None and c!=None :\n",
    "                print(\"value :\",a+b+c)\n",
    "            elif a!=None and b!=None :\n",
    "                print(\"value :\",a+b)\n",
    "            else:\n",
    "                print(\"value :\",a)\n",
    "      \n",
    "ob=parent()\n",
    "ob.fun(1)\n",
    "\n"
   ]
  },
  {
   "cell_type": "code",
   "execution_count": 39,
   "id": "4dfb94e9",
   "metadata": {},
   "outputs": [
    {
     "name": "stdout",
     "output_type": "stream",
     "text": [
      "45\n"
     ]
    }
   ],
   "source": [
    "class p:\n",
    "    def fun(self,*args):\n",
    "        sum=0\n",
    "        for i in args:\n",
    "            sum +=i\n",
    "        print(sum)\n",
    "ob=p()\n",
    "ob.fun(1,2,3,4,5,6,7,8,9)"
   ]
  },
  {
   "cell_type": "code",
   "execution_count": 37,
   "id": "114bb674",
   "metadata": {},
   "outputs": [
    {
     "name": "stdout",
     "output_type": "stream",
     "text": [
      "parent class\n",
      "child class\n",
      "value 34568\n"
     ]
    }
   ],
   "source": [
    "# operator overloading.............\n",
    "class p:\n",
    "    \n",
    "    def __init__(self,a):\n",
    "        self.a=a\n",
    "        print(\"parent class\")\n",
    "        \n",
    "    def __add__(self,other):\n",
    "        return self.a+other.b\n",
    "class c:\n",
    "    def __init__ (self,b):\n",
    "        self.b=b\n",
    "        print(\"child class\")\n",
    "        \n",
    "op=p(1)\n",
    "oc=c(34567)\n",
    "print(\"value\",op+oc)"
   ]
  },
  {
   "cell_type": "code",
   "execution_count": 61,
   "id": "3aacd6f8",
   "metadata": {},
   "outputs": [
    {
     "ename": "ModuleNotFoundError",
     "evalue": "No module named 'module'",
     "output_type": "error",
     "traceback": [
      "\u001b[1;31m---------------------------------------------------------------------------\u001b[0m",
      "\u001b[1;31mModuleNotFoundError\u001b[0m                       Traceback (most recent call last)",
      "Cell \u001b[1;32mIn[61], line 1\u001b[0m\n\u001b[1;32m----> 1\u001b[0m \u001b[38;5;28;01mimport\u001b[39;00m \u001b[38;5;21;01mmodule\u001b[39;00m\n\u001b[0;32m      3\u001b[0m module\u001b[38;5;241m.\u001b[39mfun()\n",
      "\u001b[1;31mModuleNotFoundError\u001b[0m: No module named 'module'"
     ]
    }
   ],
   "source": [
    "import module\n",
    "\n",
    "module.fun()"
   ]
  },
  {
   "cell_type": "code",
   "execution_count": 88,
   "id": "3f781afb",
   "metadata": {},
   "outputs": [
    {
     "name": "stdout",
     "output_type": "stream",
     "text": [
      "2023-07-28 19:00:02.237146\n",
      "2023\n",
      "30\n"
     ]
    }
   ],
   "source": [
    "import datetime\n",
    "\n",
    "x=datetime.datetime.now()\n",
    "print(x)\n",
    "print(x.year)\n",
    "print(x.strftime(\"%W\"))"
   ]
  },
  {
   "cell_type": "code",
   "execution_count": 8,
   "id": "325fc4a7",
   "metadata": {},
   "outputs": [
    {
     "name": "stdout",
     "output_type": "stream",
     "text": [
      "0x12d687\n"
     ]
    }
   ],
   "source": [
    "d=hex(a)\n",
    "print(d)"
   ]
  },
  {
   "cell_type": "code",
   "execution_count": 11,
   "id": "b03c6cb3",
   "metadata": {},
   "outputs": [
    {
     "name": "stdout",
     "output_type": "stream",
     "text": [
      "123.0\n",
      "1234.0\n"
     ]
    }
   ],
   "source": [
    "a=123+1234j\n",
    "print(a.real)\n",
    "print(a.imag)"
   ]
  },
  {
   "cell_type": "code",
   "execution_count": 12,
   "id": "74dcbecd",
   "metadata": {},
   "outputs": [
    {
     "name": "stdout",
     "output_type": "stream",
     "text": [
      "this is \" muthu \n"
     ]
    }
   ],
   "source": [
    "a=\"\"\"this is \" muthu \"\"\"\n",
    "print(a)"
   ]
  },
  {
   "cell_type": "code",
   "execution_count": 13,
   "id": "cda2208e",
   "metadata": {},
   "outputs": [
    {
     "name": "stdout",
     "output_type": "stream",
     "text": [
      "this \"python\" dfgh \n"
     ]
    }
   ],
   "source": [
    "b=\"\"\"this \"python\" dfgh \"\"\"\n",
    "print(b)"
   ]
  },
  {
   "cell_type": "code",
   "execution_count": 16,
   "id": "31778dfe",
   "metadata": {},
   "outputs": [
    {
     "name": "stdout",
     "output_type": "stream",
     "text": [
      "(212345.234+0j)\n"
     ]
    }
   ],
   "source": [
    "a=212345.234\n",
    "print(complex(a))"
   ]
  },
  {
   "cell_type": "code",
   "execution_count": 24,
   "id": "768a63ee",
   "metadata": {},
   "outputs": [
    {
     "name": "stdout",
     "output_type": "stream",
     "text": [
      "<class 'bytes'>\n",
      "12\n",
      "12\n",
      "34\n",
      "5\n",
      "7\n",
      "6\n",
      "43\n",
      "34\n"
     ]
    }
   ],
   "source": [
    "a=[12,34,5,7,6,43,34]\n",
    "b=bytes(a)\n",
    "print(type(b))\n",
    "print(b[0])\n",
    "for i in a:\n",
    "    print(i)"
   ]
  },
  {
   "cell_type": "code",
   "execution_count": 25,
   "id": "5dff6951",
   "metadata": {},
   "outputs": [
    {
     "name": "stdout",
     "output_type": "stream",
     "text": [
      "{0: 'muthu', 1: 'raj'}\n"
     ]
    }
   ],
   "source": [
    "a={}\n",
    "a[0]=\"muthu\"\n",
    "a[1]=\"raj\"\n",
    "print(a)"
   ]
  },
  {
   "cell_type": "code",
   "execution_count": 42,
   "id": "e487d9c1",
   "metadata": {},
   "outputs": [
    {
     "name": "stdout",
     "output_type": "stream",
     "text": [
      "muthurg \u000b",
      " bdiheif\n"
     ]
    }
   ],
   "source": [
    "s=\"muthurg \\v bdiheif\"\n",
    "print(s)"
   ]
  },
  {
   "cell_type": "code",
   "execution_count": 44,
   "id": "142bf503",
   "metadata": {},
   "outputs": [
    {
     "name": "stdout",
     "output_type": "stream",
     "text": [
      "2\n"
     ]
    }
   ],
   "source": [
    "print(10&6)"
   ]
  },
  {
   "cell_type": "code",
   "execution_count": 46,
   "id": "66c51c61",
   "metadata": {},
   "outputs": [
    {
     "name": "stdout",
     "output_type": "stream",
     "text": [
      "0b1010\n"
     ]
    }
   ],
   "source": [
    "print(bin(10))"
   ]
  },
  {
   "cell_type": "code",
   "execution_count": 49,
   "id": "82c14975",
   "metadata": {},
   "outputs": [
    {
     "name": "stdout",
     "output_type": "stream",
     "text": [
      "6\n"
     ]
    }
   ],
   "source": [
    "print(10^12)"
   ]
  },
  {
   "cell_type": "code",
   "execution_count": 54,
   "id": "cc514a17",
   "metadata": {},
   "outputs": [
    {
     "name": "stdout",
     "output_type": "stream",
     "text": [
      "-11\n"
     ]
    }
   ],
   "source": [
    "print(~10)"
   ]
  },
  {
   "cell_type": "code",
   "execution_count": 69,
   "id": "648fb099",
   "metadata": {},
   "outputs": [
    {
     "name": "stdout",
     "output_type": "stream",
     "text": [
      "-13\n"
     ]
    }
   ],
   "source": [
    "print(~12)"
   ]
  },
  {
   "cell_type": "code",
   "execution_count": 67,
   "id": "61a8b556",
   "metadata": {},
   "outputs": [
    {
     "name": "stdout",
     "output_type": "stream",
     "text": [
      "0b1100\n"
     ]
    }
   ],
   "source": [
    "print(bin(12))"
   ]
  },
  {
   "cell_type": "code",
   "execution_count": 68,
   "id": "c3b24842",
   "metadata": {},
   "outputs": [
    {
     "name": "stdout",
     "output_type": "stream",
     "text": [
      "3\n"
     ]
    }
   ],
   "source": [
    "a=0b0011\n",
    "print(int(a))"
   ]
  },
  {
   "cell_type": "code",
   "execution_count": 72,
   "id": "52101348",
   "metadata": {},
   "outputs": [
    {
     "name": "stdout",
     "output_type": "stream",
     "text": [
      "40\n"
     ]
    }
   ],
   "source": [
    "print((2**3) + (2**5))"
   ]
  },
  {
   "cell_type": "code",
   "execution_count": 73,
   "id": "3f675fc8",
   "metadata": {},
   "outputs": [
    {
     "name": "stdout",
     "output_type": "stream",
     "text": [
      "13\n"
     ]
    }
   ],
   "source": [
    "a+=10\n",
    "print(a)"
   ]
  },
  {
   "cell_type": "code",
   "execution_count": 47,
   "id": "a9bdf6d3",
   "metadata": {},
   "outputs": [
    {
     "ename": "TypeError",
     "evalue": "can only concatenate str (not \"int\") to str",
     "output_type": "error",
     "traceback": [
      "\u001b[1;31m---------------------------------------------------------------------------\u001b[0m",
      "\u001b[1;31mTypeError\u001b[0m                                 Traceback (most recent call last)",
      "Cell \u001b[1;32mIn[47], line 1\u001b[0m\n\u001b[1;32m----> 1\u001b[0m a\u001b[38;5;241m=\u001b[39m\u001b[38;5;124;43m\"\u001b[39;49m\u001b[38;5;124;43m5\u001b[39;49m\u001b[38;5;124;43m\"\u001b[39;49m\u001b[38;5;241;43m+\u001b[39;49m\u001b[38;5;241;43m5\u001b[39;49m\n\u001b[0;32m      2\u001b[0m \u001b[38;5;28mprint\u001b[39m(a)\n",
      "\u001b[1;31mTypeError\u001b[0m: can only concatenate str (not \"int\") to str"
     ]
    }
   ],
   "source": [
    "a=\"5\"+5\n",
    "print(a)"
   ]
  },
  {
   "cell_type": "code",
   "execution_count": 81,
   "id": "2de10912",
   "metadata": {},
   "outputs": [
    {
     "name": "stdout",
     "output_type": "stream",
     "text": [
      "100\n"
     ]
    }
   ],
   "source": [
    "a=10\n",
    "a=10\n",
    "print(a)"
   ]
  },
  {
   "cell_type": "code",
   "execution_count": 98,
   "id": "6ddb77be",
   "metadata": {},
   "outputs": [
    {
     "name": "stdout",
     "output_type": "stream",
     "text": [
      "FALSE\n"
     ]
    },
    {
     "ename": "TypeError",
     "evalue": "argument of type 'int' is not iterable",
     "output_type": "error",
     "traceback": [
      "\u001b[1;31m---------------------------------------------------------------------------\u001b[0m",
      "\u001b[1;31mTypeError\u001b[0m                                 Traceback (most recent call last)",
      "Cell \u001b[1;32mIn[98], line 5\u001b[0m\n\u001b[0;32m      3\u001b[0m x\u001b[38;5;241m=\u001b[39m\u001b[38;5;124m\"\u001b[39m\u001b[38;5;124mTURE\u001b[39m\u001b[38;5;124m\"\u001b[39m \u001b[38;5;28;01mif\u001b[39;00m a\u001b[38;5;241m<\u001b[39mb \u001b[38;5;28;01melse\u001b[39;00m \u001b[38;5;124m\"\u001b[39m\u001b[38;5;124mFALSE\u001b[39m\u001b[38;5;124m\"\u001b[39m\n\u001b[0;32m      4\u001b[0m \u001b[38;5;28mprint\u001b[39m(x)\n\u001b[1;32m----> 5\u001b[0m \u001b[38;5;28mprint\u001b[39m(\u001b[43mb\u001b[49m\u001b[43m \u001b[49m\u001b[38;5;129;43;01min\u001b[39;49;00m\u001b[43m  \u001b[49m\u001b[43ma\u001b[49m)\n",
      "\u001b[1;31mTypeError\u001b[0m: argument of type 'int' is not iterable"
     ]
    }
   ],
   "source": [
    "a=12345\n",
    "b=12345\n",
    "x=\"TURE\" if a<b else \"FALSE\"\n",
    "print(x)\n",
    "print(b in  a)"
   ]
  },
  {
   "cell_type": "code",
   "execution_count": 103,
   "id": "b3d264d4",
   "metadata": {},
   "outputs": [
    {
     "name": "stdout",
     "output_type": "stream",
     "text": [
      "False\n"
     ]
    }
   ],
   "source": [
    "a=[\"muthu\", \"raj\"]\n",
    "b=\"muthu\"\n",
    "print(b not in a)"
   ]
  },
  {
   "cell_type": "code",
   "execution_count": 106,
   "id": "76aa9696",
   "metadata": {},
   "outputs": [
    {
     "name": "stdout",
     "output_type": "stream",
     "text": [
      "3.1622776601683795\n",
      "3.141592653589793\n"
     ]
    }
   ],
   "source": [
    "import math\n",
    "print(math.sqrt(10))\n",
    "print(math.pi)"
   ]
  },
  {
   "cell_type": "code",
   "execution_count": 113,
   "id": "4b894b0b",
   "metadata": {},
   "outputs": [
    {
     "name": "stdout",
     "output_type": "stream",
     "text": [
      "enter 2 num3,6,5\n",
      "9\n"
     ]
    }
   ],
   "source": [
    "a,b,c=[int(x)for x in input(\"enter 2 num\").split(\",\")]\n",
    "print(a+b)"
   ]
  },
  {
   "cell_type": "code",
   "execution_count": 117,
   "id": "928a8db4",
   "metadata": {},
   "outputs": [
    {
     "name": "stdout",
     "output_type": "stream",
     "text": [
      "enter three numbers12,543,345\n",
      "12 543 345\n"
     ]
    }
   ],
   "source": [
    "a,s,d=[int(x) for x in input(\"enter three numbers\").split(\",\")]\n",
    "print(a,s,d)"
   ]
  },
  {
   "cell_type": "markdown",
   "id": "6f508c01",
   "metadata": {},
   "source": [
    "x=input(12*234%234+23)\n",
    "print(x)"
   ]
  },
  {
   "cell_type": "code",
   "execution_count": 128,
   "id": "ec0439c6",
   "metadata": {},
   "outputs": [
    {
     "name": "stdout",
     "output_type": "stream",
     "text": [
      "enter2345+234\n",
      "2345+234\n"
     ]
    }
   ],
   "source": [
    "# x=(input(\"enter\"))\n",
    "# print(x)z"
   ]
  },
  {
   "cell_type": "code",
   "execution_count": 134,
   "id": "f0ac4913",
   "metadata": {},
   "outputs": [
    {
     "name": "stdout",
     "output_type": "stream",
     "text": [
      "muthu \n",
      " kumar\n",
      "muthu \t kumar\n",
      "muthumuthumuthumuthumuthumuthumuthumuthumuthumuthu\n"
     ]
    }
   ],
   "source": [
    "print(\"muthu \\n kumar\")\n",
    "print(\"muthu \\t kumar\")\n",
    "print(\"muthu\"*10)"
   ]
  },
  {
   "cell_type": "code",
   "execution_count": 2,
   "id": "57159b12",
   "metadata": {},
   "outputs": [
    {
     "name": "stdout",
     "output_type": "stream",
     "text": [
      "123.0\n",
      "345.0\n"
     ]
    }
   ],
   "source": [
    "a=123+345j\n",
    "print(a.real)\n",
    "print(a.imag)"
   ]
  },
  {
   "cell_type": "code",
   "execution_count": 76,
   "id": "bf9a05e4",
   "metadata": {},
   "outputs": [
    {
     "name": "stdout",
     "output_type": "stream",
     "text": [
      "I \n",
      "I I \n",
      "I I I \n",
      "I I I I \n",
      "I I I I I \n"
     ]
    }
   ],
   "source": [
    "rows = 5\n",
    "for i in range(1,6):\n",
    "    for j in range(0,i):\n",
    "        print(\"I\", end=' ')\n",
    "    print('')"
   ]
  },
  {
   "cell_type": "code",
   "execution_count": 4,
   "id": "25571bde",
   "metadata": {},
   "outputs": [
    {
     "name": "stdout",
     "output_type": "stream",
     "text": [
      "muthu alphin\n"
     ]
    }
   ],
   "source": []
  },
  {
   "cell_type": "code",
   "execution_count": 15,
   "id": "dfbfe593",
   "metadata": {},
   "outputs": [
    {
     "name": "stdout",
     "output_type": "stream",
     "text": [
      "l\n"
     ]
    }
   ],
   "source": [
    "print(a[-5])"
   ]
  },
  {
   "cell_type": "code",
   "execution_count": 9,
   "id": "c3e658c9",
   "metadata": {},
   "outputs": [
    {
     "name": "stdout",
     "output_type": "stream",
     "text": [
      "uth\n"
     ]
    }
   ],
   "source": [
    "print(a[1:4])"
   ]
  },
  {
   "cell_type": "code",
   "execution_count": 24,
   "id": "2546236c",
   "metadata": {},
   "outputs": [
    {
     "name": "stdout",
     "output_type": "stream",
     "text": [
      "20.0\n",
      "20\n",
      "True\n"
     ]
    }
   ],
   "source": [
    "a=20\n",
    "print(float(a))\n",
    "print(str(a))\n",
    "print(bool(a))"
   ]
  },
  {
   "cell_type": "code",
   "execution_count": 27,
   "id": "f70e519a",
   "metadata": {},
   "outputs": [
    {
     "name": "stdout",
     "output_type": "stream",
     "text": [
      "False\n"
     ]
    }
   ],
   "source": [
    "a=''\n",
    "print(bool(a))"
   ]
  },
  {
   "cell_type": "code",
   "execution_count": 35,
   "id": "532c7c18",
   "metadata": {},
   "outputs": [
    {
     "name": "stdout",
     "output_type": "stream",
     "text": [
      "-12\n"
     ]
    }
   ],
   "source": [
    "print(~11)"
   ]
  },
  {
   "cell_type": "code",
   "execution_count": 49,
   "id": "0fe170c4",
   "metadata": {},
   "outputs": [
    {
     "name": "stdout",
     "output_type": "stream",
     "text": [
      "2.23606797749979\n"
     ]
    }
   ],
   "source": [
    "from math import sqrt\n",
    "\n",
    "print(math.sqrt(5))\n",
    "\n",
    "import math"
   ]
  },
  {
   "cell_type": "code",
   "execution_count": 45,
   "id": "a8b24006",
   "metadata": {},
   "outputs": [
    {
     "name": "stdout",
     "output_type": "stream",
     "text": [
      "muthu '' raj \n"
     ]
    }
   ],
   "source": [
    "a=\"muthu \\ raj \"\n",
    "print(a)\n"
   ]
  },
  {
   "cell_type": "code",
   "execution_count": 62,
   "id": "984d8ba1",
   "metadata": {},
   "outputs": [
    {
     "name": "stdout",
     "output_type": "stream",
     "text": [
      "123\n",
      "123\n",
      "123\n"
     ]
    }
   ],
   "source": [
    "def myfuncn():\n",
    "    b=10\n",
    "    print(a)\n",
    "myfuncn()\n",
    "a=123\n",
    "print(b)\n",
    "print(a)"
   ]
  },
  {
   "cell_type": "code",
   "execution_count": 63,
   "id": "bd5f2eba",
   "metadata": {},
   "outputs": [
    {
     "name": "stdout",
     "output_type": "stream",
     "text": [
      "10\n"
     ]
    }
   ],
   "source": [
    "def alphin():\n",
    "    global a\n",
    "    a=10\n",
    "alphin()\n",
    "print(a)"
   ]
  },
  {
   "cell_type": "code",
   "execution_count": 73,
   "id": "b42f1c98",
   "metadata": {},
   "outputs": [
    {
     "ename": "SyntaxError",
     "evalue": "invalid syntax. Perhaps you forgot a comma? (1071745303.py, line 2)",
     "output_type": "error",
     "traceback": [
      "\u001b[1;36m  Cell \u001b[1;32mIn[73], line 2\u001b[1;36m\u001b[0m\n\u001b[1;33m    print(random,random range(1,20))\u001b[0m\n\u001b[1;37m                 ^\u001b[0m\n\u001b[1;31mSyntaxError\u001b[0m\u001b[1;31m:\u001b[0m invalid syntax. Perhaps you forgot a comma?\n"
     ]
    }
   ],
   "source": [
    "import random\n",
    "print(random,random range(1,20))"
   ]
  },
  {
   "cell_type": "markdown",
   "id": "703a7c62",
   "metadata": {},
   "source": []
  },
  {
   "cell_type": "raw",
   "id": "2f495e3a",
   "metadata": {},
   "source": []
  },
  {
   "cell_type": "code",
   "execution_count": 75,
   "id": "012602c8",
   "metadata": {},
   "outputs": [
    {
     "name": "stdout",
     "output_type": "stream",
     "text": [
      "5\n"
     ]
    }
   ],
   "source": [
    "print(5)"
   ]
  },
  {
   "cell_type": "code",
   "execution_count": 77,
   "id": "81af9ca1",
   "metadata": {},
   "outputs": [
    {
     "name": "stdout",
     "output_type": "stream",
     "text": [
      "['muthu', 'raj alphin']\n"
     ]
    }
   ],
   "source": [
    "a=\"muthu,raj alphin\"\n",
    "print(a.split(\",\"))"
   ]
  },
  {
   "cell_type": "code",
   "execution_count": 83,
   "id": "751437ae",
   "metadata": {},
   "outputs": [
    {
     "name": "stdout",
     "output_type": "stream",
     "text": [
      "im 12 dfghj 123\n"
     ]
    }
   ],
   "source": [
    "a=12\n",
    "a1=123\n",
    "tx=\"im {} dfghj {}\".format(a,a1)\n",
    "print(tx)"
   ]
  },
  {
   "cell_type": "code",
   "execution_count": 81,
   "id": "10b7314f",
   "metadata": {},
   "outputs": [
    {
     "name": "stdout",
     "output_type": "stream",
     "text": [
      "im 10\n"
     ]
    }
   ],
   "source": [
    "a=\"im {}\".format(10)\n",
    "print(a)"
   ]
  },
  {
   "cell_type": "code",
   "execution_count": 1,
   "id": "c18dbefd",
   "metadata": {},
   "outputs": [
    {
     "name": "stdout",
     "output_type": "stream",
     "text": [
      "<class 'list'>\n"
     ]
    }
   ],
   "source": [
    "a=['muthu']\n",
    "print(type(a))"
   ]
  },
  {
   "cell_type": "code",
   "execution_count": 3,
   "id": "5f73c684",
   "metadata": {},
   "outputs": [
    {
     "name": "stdout",
     "output_type": "stream",
     "text": [
      "<class 'tuple'>\n"
     ]
    }
   ],
   "source": [
    "b=('muthu',)\n",
    "print(type(b))"
   ]
  },
  {
   "cell_type": "code",
   "execution_count": 9,
   "id": "559d22ff",
   "metadata": {},
   "outputs": [
    {
     "name": "stdout",
     "output_type": "stream",
     "text": [
      "my _code\n"
     ]
    }
   ],
   "source": [
    "# im exist my code here\n",
    "\n",
    "print(\"my _code\")"
   ]
  },
  {
   "cell_type": "code",
   "execution_count": 13,
   "id": "08a18fd9",
   "metadata": {},
   "outputs": [
    {
     "name": "stdout",
     "output_type": "stream",
     "text": [
      "muthu\n",
      "a\n",
      "raj\n"
     ]
    }
   ],
   "source": [
    "a=\"muthu\"\n",
    "print(a)\n",
    "print(\"a\")\n",
    "muthu=\"raj\"\n",
    "print(muthu)"
   ]
  },
  {
   "cell_type": "code",
   "execution_count": 32,
   "id": "6da92a20",
   "metadata": {},
   "outputs": [
    {
     "name": "stdout",
     "output_type": "stream",
     "text": [
      "['muthu alphi', '']\n"
     ]
    }
   ],
   "source": [
    "a=\"muthu alphin\"\n",
    "\n",
    "print(a.split('n'))"
   ]
  },
  {
   "cell_type": "code",
   "execution_count": 25,
   "id": "6dcdb157",
   "metadata": {},
   "outputs": [
    {
     "ename": "AttributeError",
     "evalue": "'list' object has no attribute 'replace'",
     "output_type": "error",
     "traceback": [
      "\u001b[1;31m---------------------------------------------------------------------------\u001b[0m",
      "\u001b[1;31mAttributeError\u001b[0m                            Traceback (most recent call last)",
      "Cell \u001b[1;32mIn[25], line 3\u001b[0m\n\u001b[0;32m      1\u001b[0m a\u001b[38;5;241m=\u001b[39m[\u001b[38;5;124m\"\u001b[39m\u001b[38;5;124mmuthu\u001b[39m\u001b[38;5;124m\"\u001b[39m,\u001b[38;5;124m\"\u001b[39m\u001b[38;5;124malphin\u001b[39m\u001b[38;5;124m\"\u001b[39m]\n\u001b[1;32m----> 3\u001b[0m \u001b[38;5;28mprint\u001b[39m(\u001b[43ma\u001b[49m\u001b[38;5;241;43m.\u001b[39;49m\u001b[43mreplace\u001b[49m(u,p))\n",
      "\u001b[1;31mAttributeError\u001b[0m: 'list' object has no attribute 'replace'"
     ]
    }
   ],
   "source": [
    "a=[\"muthu\",\"alphin\"]\n",
    "\n",
    "print(a.replace(u,p))\n"
   ]
  },
  {
   "cell_type": "code",
   "execution_count": 34,
   "id": "c4ee5ae9",
   "metadata": {},
   "outputs": [
    {
     "name": "stdout",
     "output_type": "stream",
     "text": [
      "my age is 234\n"
     ]
    }
   ],
   "source": [
    "a=24\n",
    "print(\"my age is {}\".format(234))"
   ]
  },
  {
   "cell_type": "code",
   "execution_count": 41,
   "id": "ce2b14e8",
   "metadata": {},
   "outputs": [
    {
     "name": "stdout",
     "output_type": "stream",
     "text": [
      "I want 3 pieces of item 567 for 123 dollars.\n"
     ]
    }
   ],
   "source": [
    "a = 3\n",
    "b = 567\n",
    "c = 49.95\n",
    "myorder = \"I want {} pieces of item {} for {} dollars.\".format(a,b,123)\n",
    "print(myorder)"
   ]
  },
  {
   "cell_type": "code",
   "execution_count": 20,
   "id": "f9a52b64",
   "metadata": {},
   "outputs": [
    {
     "name": "stdout",
     "output_type": "stream",
     "text": [
      "['sun-', 'mon-', 'tue-', 'wed-', 'thur-', 'fri-', 'sat-']\n"
     ]
    }
   ],
   "source": [
    "we=[\"sun\",\"mon\",\"tue\",\"wed\",\"thur\",\"fri\",\"sat\"]\n",
    "wed1=[]\n",
    "\n",
    "def wed(w):\n",
    "    for i in we:\n",
    "        wed1.append(i+\"-\")\n",
    "wed(we)\n",
    "print(wed1)\n",
    "\n",
    "        \n",
    "     \n",
    "    "
   ]
  },
  {
   "cell_type": "code",
   "execution_count": 26,
   "id": "f8855c23",
   "metadata": {},
   "outputs": [
    {
     "name": "stdout",
     "output_type": "stream",
     "text": [
      "sun - mon - tue - wed - thu - fri - sat\n"
     ]
    }
   ],
   "source": [
    "weekdays = ['sun', 'mon', 'tue', 'wed', 'thu', 'fri', 'sat']\n",
    "\n",
    "def convertToString(weekdays):\n",
    "    joined_string = ' - '.join(weekdays)\n",
    "    print(joined_string) \n",
    "\n",
    "convertToString(weekdays)"
   ]
  },
  {
   "cell_type": "code",
   "execution_count": 61,
   "id": "44a006c1",
   "metadata": {},
   "outputs": [
    {
     "name": "stdout",
     "output_type": "stream",
     "text": [
      "['apple', 'blackcurrant', 'cherry']\n"
     ]
    }
   ],
   "source": [
    "a=\"muthu\"\n",
    "b=\"u\"\n",
    "print(b in a)"
   ]
  },
  {
   "cell_type": "code",
   "execution_count": 19,
   "id": "eec87de6",
   "metadata": {},
   "outputs": [
    {
     "name": "stdout",
     "output_type": "stream",
     "text": [
      "sun-mon-tue-wed-thu-fri-sat\n"
     ]
    }
   ],
   "source": [
    "# \n",
    "\n",
    "weekdays = ['sun', 'mon', 'tue', 'wed', 'thu', 'fri', 'sat']\n",
    "\n",
    "def str_joining(Parameter):\n",
    "    \n",
    "    answer = \"-\".join(Paramater)\n",
    "    \n",
    "    return answer\n",
    "\n",
    "result=fun(weekdays)\n",
    "\n",
    "print(result)"
   ]
  },
  {
   "cell_type": "code",
   "execution_count": 69,
   "id": "1421728e",
   "metadata": {},
   "outputs": [
    {
     "name": "stdout",
     "output_type": "stream",
     "text": [
      "['apple', 'banana', 'cherry']\n"
     ]
    }
   ],
   "source": [
    "a = [\"apple\", \"banana\", \"cherry\"]\n",
    "b = a\n",
    "print(b)"
   ]
  },
  {
   "cell_type": "code",
   "execution_count": 70,
   "id": "d10bc26a",
   "metadata": {},
   "outputs": [
    {
     "name": "stdout",
     "output_type": "stream",
     "text": [
      "['apple', 'dfghj', 'cherry']\n"
     ]
    }
   ],
   "source": [
    "b[1]=\"dfghj\"\n",
    "print(b)"
   ]
  },
  {
   "cell_type": "code",
   "execution_count": 71,
   "id": "477e173f",
   "metadata": {},
   "outputs": [
    {
     "name": "stdout",
     "output_type": "stream",
     "text": [
      "['apple', 'dfghj', 'cherry']\n"
     ]
    }
   ],
   "source": [
    "print(a)"
   ]
  },
  {
   "cell_type": "code",
   "execution_count": 72,
   "id": "234e8286",
   "metadata": {},
   "outputs": [
    {
     "name": "stdout",
     "output_type": "stream",
     "text": [
      "['apple', 'dfghj', 'cherry']\n"
     ]
    }
   ],
   "source": [
    "b=a.copy()\n",
    "print(b)"
   ]
  },
  {
   "cell_type": "code",
   "execution_count": 73,
   "id": "5871a46b",
   "metadata": {},
   "outputs": [
    {
     "name": "stdout",
     "output_type": "stream",
     "text": [
      "['apple', 'banana', 'cherry']\n"
     ]
    }
   ],
   "source": [
    "b[1]=\"banana\"\n",
    "print(b)"
   ]
  },
  {
   "cell_type": "code",
   "execution_count": 74,
   "id": "2c8450c0",
   "metadata": {},
   "outputs": [
    {
     "name": "stdout",
     "output_type": "stream",
     "text": [
      "['apple', 'dfghj', 'cherry']\n"
     ]
    }
   ],
   "source": [
    "print(a)"
   ]
  },
  {
   "cell_type": "code",
   "execution_count": 79,
   "id": "ad69f373",
   "metadata": {},
   "outputs": [
    {
     "name": "stdout",
     "output_type": "stream",
     "text": [
      "[1, 2, 3, 4, 5, 6, 7, 8]\n"
     ]
    }
   ],
   "source": [
    "a=[1,2,3,4]\n",
    "b=[5,6,7,8]\n",
    "print(a+b)"
   ]
  },
  {
   "cell_type": "code",
   "execution_count": 80,
   "id": "bab58e03",
   "metadata": {},
   "outputs": [
    {
     "name": "stdout",
     "output_type": "stream",
     "text": [
      "[1, 2, 3, 4, [5, 6, 7, 8]]\n"
     ]
    }
   ],
   "source": [
    "a.append(b)\n",
    "print(a)"
   ]
  },
  {
   "cell_type": "code",
   "execution_count": 78,
   "id": "210f190a",
   "metadata": {},
   "outputs": [
    {
     "name": "stdout",
     "output_type": "stream",
     "text": [
      "[1, 2, 3, 4, [5, 6, 7, 8, 9], 5, 6, 7, 8, 9, 5, 6, 7, 8, 9]\n"
     ]
    }
   ],
   "source": []
  },
  {
   "cell_type": "code",
   "execution_count": 84,
   "id": "b5343cae",
   "metadata": {},
   "outputs": [
    {
     "ename": "ValueError",
     "evalue": "['a', 'b', 'c'] is not in list",
     "output_type": "error",
     "traceback": [
      "\u001b[1;31m---------------------------------------------------------------------------\u001b[0m",
      "\u001b[1;31mValueError\u001b[0m                                Traceback (most recent call last)",
      "Cell \u001b[1;32mIn[84], line 4\u001b[0m\n\u001b[0;32m      1\u001b[0m list1 \u001b[38;5;241m=\u001b[39m [\u001b[38;5;124m\"\u001b[39m\u001b[38;5;124ma\u001b[39m\u001b[38;5;124m\"\u001b[39m, \u001b[38;5;124m\"\u001b[39m\u001b[38;5;124mb\u001b[39m\u001b[38;5;124m\"\u001b[39m , \u001b[38;5;124m\"\u001b[39m\u001b[38;5;124mc\u001b[39m\u001b[38;5;124m\"\u001b[39m]\n\u001b[0;32m      2\u001b[0m list2 \u001b[38;5;241m=\u001b[39m [\u001b[38;5;241m1\u001b[39m, \u001b[38;5;241m2\u001b[39m, \u001b[38;5;241m3\u001b[39m]\n\u001b[1;32m----> 4\u001b[0m \u001b[43mlist2\u001b[49m\u001b[38;5;241;43m.\u001b[39;49m\u001b[43mindex\u001b[49m\u001b[43m(\u001b[49m\u001b[43mlist1\u001b[49m\u001b[43m)\u001b[49m\n",
      "\u001b[1;31mValueError\u001b[0m: ['a', 'b', 'c'] is not in list"
     ]
    }
   ],
   "source": [
    "list1 = [\"a\", \"b\" , \"c\"]\n",
    "list2 = [1, 2, 3]\n",
    "\n",
    "list2.index(list1)"
   ]
  },
  {
   "cell_type": "code",
   "execution_count": 8,
   "id": "de72db1a",
   "metadata": {},
   "outputs": [
    {
     "name": "stdout",
     "output_type": "stream",
     "text": [
      "('muthu', 'ghfjd', 'hj')\n"
     ]
    }
   ],
   "source": [
    "t=(\"muthu\" ,\"ghfjd\")\n",
    "d =(\"hj\",)\n",
    "print(t+d)"
   ]
  },
  {
   "cell_type": "code",
   "execution_count": 12,
   "id": "ce1f08fe",
   "metadata": {},
   "outputs": [
    {
     "ename": "NameError",
     "evalue": "name 't' is not defined",
     "output_type": "error",
     "traceback": [
      "\u001b[1;31m---------------------------------------------------------------------------\u001b[0m",
      "\u001b[1;31mNameError\u001b[0m                                 Traceback (most recent call last)",
      "Cell \u001b[1;32mIn[12], line 1\u001b[0m\n\u001b[1;32m----> 1\u001b[0m \u001b[38;5;28;01mdel\u001b[39;00m \u001b[43mt\u001b[49m\n\u001b[0;32m      2\u001b[0m \u001b[38;5;28mprint\u001b[39m(t)\n",
      "\u001b[1;31mNameError\u001b[0m: name 't' is not defined"
     ]
    }
   ],
   "source": [
    "del t\n",
    "print(t)"
   ]
  },
  {
   "cell_type": "code",
   "execution_count": 27,
   "id": "d23366f4",
   "metadata": {},
   "outputs": [
    {
     "ename": "NameError",
     "evalue": "name 'count' is not defined",
     "output_type": "error",
     "traceback": [
      "\u001b[1;31m---------------------------------------------------------------------------\u001b[0m",
      "\u001b[1;31mNameError\u001b[0m                                 Traceback (most recent call last)",
      "Cell \u001b[1;32mIn[27], line 2\u001b[0m\n\u001b[0;32m      1\u001b[0m a \u001b[38;5;241m=\u001b[39m (\u001b[38;5;124m\"\u001b[39m\u001b[38;5;124mapple\u001b[39m\u001b[38;5;124m\"\u001b[39m, \u001b[38;5;124m\"\u001b[39m\u001b[38;5;124mbanana\u001b[39m\u001b[38;5;124m\"\u001b[39m, \u001b[38;5;124m\"\u001b[39m\u001b[38;5;124mcherry\u001b[39m\u001b[38;5;124m\"\u001b[39m)\n\u001b[1;32m----> 2\u001b[0m \u001b[38;5;28mprint\u001b[39m(\u001b[43mcount\u001b[49m(a))\n",
      "\u001b[1;31mNameError\u001b[0m: name 'count' is not defined"
     ]
    }
   ],
   "source": [
    "a = (\"apple\", \"banana\", \"cherry\")\n",
    "print(count(a))"
   ]
  },
  {
   "cell_type": "code",
   "execution_count": 25,
   "id": "d6874041",
   "metadata": {},
   "outputs": [
    {
     "name": "stdout",
     "output_type": "stream",
     "text": [
      "[5, 6, 7, 8, 9, 2, 3, 8, 90]\n"
     ]
    }
   ],
   "source": [
    "a=(1,2,3,4,5,6)\n",
    "b={2,3,4,2,8}\n",
    "c=(1,2,3,4,5,6,7,8,9,2,3,8,90)\n",
    "g,h,j,k,*l=c\n",
    "print(l)"
   ]
  },
  {
   "cell_type": "code",
   "execution_count": 34,
   "id": "cc733803",
   "metadata": {},
   "outputs": [
    {
     "name": "stdout",
     "output_type": "stream",
     "text": [
      "Ford\n"
     ]
    }
   ],
   "source": [
    "a = {\n",
    "  \"brand\": \"Ford\",\n",
    "  \"model\": \"Mustang\",\n",
    "  \"year\": 1964\n",
    "}\n",
    "print(a[\"brand\"])"
   ]
  },
  {
   "cell_type": "code",
   "execution_count": 14,
   "id": "8f2ec92e",
   "metadata": {},
   "outputs": [
    {
     "name": "stdout",
     "output_type": "stream",
     "text": [
      "{'model': 'Mustang', 'year': 1964}\n"
     ]
    }
   ],
   "source": [
    "print(a)"
   ]
  },
  {
   "cell_type": "code",
   "execution_count": 88,
   "id": "a415a0b2",
   "metadata": {},
   "outputs": [
    {
     "ename": "TypeError",
     "evalue": "dict.popitem() takes no arguments (1 given)",
     "output_type": "error",
     "traceback": [
      "\u001b[1;31m---------------------------------------------------------------------------\u001b[0m",
      "\u001b[1;31mTypeError\u001b[0m                                 Traceback (most recent call last)",
      "Cell \u001b[1;32mIn[88], line 1\u001b[0m\n\u001b[1;32m----> 1\u001b[0m \u001b[43ma\u001b[49m\u001b[38;5;241;43m.\u001b[39;49m\u001b[43mpopitem\u001b[49m\u001b[43m(\u001b[49m\u001b[38;5;124;43m\"\u001b[39;49m\u001b[38;5;124;43myear\u001b[39;49m\u001b[38;5;124;43m\"\u001b[39;49m\u001b[43m)\u001b[49m\n",
      "\u001b[1;31mTypeError\u001b[0m: dict.popitem() takes no arguments (1 given)"
     ]
    }
   ],
   "source": [
    "a.popitem(\"year\")"
   ]
  },
  {
   "cell_type": "code",
   "execution_count": 8,
   "id": "6706ed3c",
   "metadata": {},
   "outputs": [
    {
     "ename": "SyntaxError",
     "evalue": "cannot delete function call (2521453349.py, line 2)",
     "output_type": "error",
     "traceback": [
      "\u001b[1;36m  Cell \u001b[1;32mIn[8], line 2\u001b[1;36m\u001b[0m\n\u001b[1;33m    del a(\"brand\")\u001b[0m\n\u001b[1;37m        ^\u001b[0m\n\u001b[1;31mSyntaxError\u001b[0m\u001b[1;31m:\u001b[0m cannot delete function call\n"
     ]
    }
   ],
   "source": [
    "print(a)\n",
    "del a(\"brand\")"
   ]
  },
  {
   "cell_type": "code",
   "execution_count": 86,
   "id": "3f6915d4",
   "metadata": {},
   "outputs": [
    {
     "data": {
      "text/plain": [
       "'Mustang'"
      ]
     },
     "execution_count": 86,
     "metadata": {},
     "output_type": "execute_result"
    }
   ],
   "source": [
    "a.pop(\"model\")"
   ]
  },
  {
   "cell_type": "code",
   "execution_count": 87,
   "id": "dc5e23d3",
   "metadata": {},
   "outputs": [
    {
     "name": "stdout",
     "output_type": "stream",
     "text": [
      "{'brand': 'Ford', 'year': 1964}\n"
     ]
    }
   ],
   "source": [
    "print(a)"
   ]
  },
  {
   "cell_type": "code",
   "execution_count": 7,
   "id": "f8713b9c",
   "metadata": {},
   "outputs": [
    {
     "data": {
      "text/plain": [
       "0"
      ]
     },
     "execution_count": 7,
     "metadata": {},
     "output_type": "execute_result"
    }
   ],
   "source": [
    "a={1,2,3,4,5,6,7,8,9,0}\n",
    "a.pop()\n"
   ]
  },
  {
   "cell_type": "code",
   "execution_count": 40,
   "id": "c6077fda",
   "metadata": {},
   "outputs": [
    {
     "name": "stdout",
     "output_type": "stream",
     "text": [
      "3\n"
     ]
    }
   ],
   "source": [
    "a=10\n",
    "b=23\n",
    "\n",
    "print(\"1\") if a>b  else print(\"3\")"
   ]
  },
  {
   "cell_type": "code",
   "execution_count": 49,
   "id": "d5a4c824",
   "metadata": {},
   "outputs": [
    {
     "name": "stdout",
     "output_type": "stream",
     "text": [
      "1\n",
      "2\n",
      "3\n",
      "4\n",
      "5\n"
     ]
    }
   ],
   "source": [
    "i=1\n",
    "while i<10:\n",
    "    print(i)\n",
    "    if i==5:\n",
    "        break\n",
    "    i=i+1\n",
    "    "
   ]
  },
  {
   "cell_type": "markdown",
   "id": "a635140c",
   "metadata": {},
   "source": [
    "# "
   ]
  },
  {
   "cell_type": "code",
   "execution_count": null,
   "id": "3ff6f83e",
   "metadata": {},
   "outputs": [],
   "source": [
    "\n",
    "    "
   ]
  },
  {
   "cell_type": "code",
   "execution_count": 8,
   "id": "741b3afa",
   "metadata": {},
   "outputs": [
    {
     "name": "stdout",
     "output_type": "stream",
     "text": [
      "1\n",
      "2\n",
      "4\n",
      "5\n",
      "6\n",
      "7\n",
      "8\n",
      "10\n"
     ]
    }
   ],
   "source": [
    "i=0\n",
    "while i<10:\n",
    "    i+=1\n",
    "    if i==9 or i==3:\n",
    "        continue\n",
    "    print(i)\n",
    "        \n",
    "\n",
    "    "
   ]
  },
  {
   "cell_type": "code",
   "execution_count": 9,
   "id": "6b7ddbc1",
   "metadata": {},
   "outputs": [
    {
     "name": "stdout",
     "output_type": "stream",
     "text": [
      "0\n",
      "1\n",
      "2\n",
      "3\n",
      "4\n",
      "5\n",
      "6\n",
      "7\n",
      "8\n"
     ]
    }
   ],
   "source": [
    "a=[1,2,3,4,5,6,7,8,9]\n",
    "for i in range(len(a)):\n",
    "    print(i)"
   ]
  },
  {
   "cell_type": "code",
   "execution_count": 10,
   "id": "191bb122",
   "metadata": {},
   "outputs": [
    {
     "name": "stdout",
     "output_type": "stream",
     "text": [
      "1\n",
      "2\n",
      "3\n",
      "4\n",
      "5\n",
      "6\n",
      "7\n",
      "8\n",
      "9\n"
     ]
    }
   ],
   "source": [
    "for i in a:\n",
    "    print(i)"
   ]
  },
  {
   "cell_type": "code",
   "execution_count": 14,
   "id": "29a8f59c",
   "metadata": {},
   "outputs": [
    {
     "name": "stdout",
     "output_type": "stream",
     "text": [
      "this is raj\n"
     ]
    }
   ],
   "source": [
    "def fun(*name):\n",
    "    print(\"this is {}\".format(name[2]))\n",
    "fun(\"muhtu\",\"kumar\",\"raj\",\"rai\")"
   ]
  },
  {
   "cell_type": "code",
   "execution_count": 21,
   "id": "4de4e025",
   "metadata": {},
   "outputs": [
    {
     "name": "stdout",
     "output_type": "stream",
     "text": [
      "this is muthu\n"
     ]
    }
   ],
   "source": [
    "def fun(**name):\n",
    "    print(\"this is {}\".format(name[\"name2\"]))\n",
    "fun(name2=\"muthu\",name1=\"raj\",name3=\"kumar\")\n"
   ]
  },
  {
   "cell_type": "code",
   "execution_count": 28,
   "id": "711369f5",
   "metadata": {},
   "outputs": [
    {
     "data": {
      "text/plain": [
       "25"
      ]
     },
     "execution_count": 28,
     "metadata": {},
     "output_type": "execute_result"
    }
   ],
   "source": [
    "def fun():\n",
    "    return 5*5\n",
    "fun()"
   ]
  },
  {
   "cell_type": "code",
   "execution_count": 31,
   "id": "b189c3f3",
   "metadata": {},
   "outputs": [
    {
     "ename": "NameError",
     "evalue": "name 'tri_recursion' is not defined",
     "output_type": "error",
     "traceback": [
      "\u001b[1;31m---------------------------------------------------------------------------\u001b[0m",
      "\u001b[1;31mNameError\u001b[0m                                 Traceback (most recent call last)",
      "Cell \u001b[1;32mIn[31], line 1\u001b[0m\n\u001b[1;32m----> 1\u001b[0m a\u001b[38;5;241m=\u001b[39m(\u001b[43mtri_recursion\u001b[49m(\u001b[38;5;241m5\u001b[39m \u001b[38;5;241m-\u001b[39m \u001b[38;5;241m1\u001b[39m))\n\u001b[0;32m      2\u001b[0m \u001b[38;5;28mprint\u001b[39m(a)\n",
      "\u001b[1;31mNameError\u001b[0m: name 'tri_recursion' is not defined"
     ]
    }
   ],
   "source": []
  },
  {
   "cell_type": "code",
   "execution_count": 32,
   "id": "9314bda2",
   "metadata": {},
   "outputs": [
    {
     "name": "stdout",
     "output_type": "stream",
     "text": [
      "6\n"
     ]
    }
   ],
   "source": [
    "a=lambda a,b,c: a+b+c\n",
    "print(a(1,2,3))"
   ]
  },
  {
   "cell_type": "code",
   "execution_count": 33,
   "id": "1df7c013",
   "metadata": {},
   "outputs": [
    {
     "name": "stdout",
     "output_type": "stream",
     "text": [
      "<class 'list'>\n"
     ]
    }
   ],
   "source": [
    "import numpy\n",
    "a=[1,2,3,4,5]\n",
    "print(type(a))"
   ]
  },
  {
   "cell_type": "code",
   "execution_count": 47,
   "id": "3a39c8a9",
   "metadata": {},
   "outputs": [
    {
     "name": "stdout",
     "output_type": "stream",
     "text": [
      "my age is 24 12\n",
      "my name is muthu\n"
     ]
    }
   ],
   "source": [
    "class parent:\n",
    "    def __init__(self,name,age):\n",
    "        self.name = name\n",
    "        self.age = age\n",
    "    \n",
    "    def fun(self,val):\n",
    "        print(\"my age is {}\".format(self.age),val)\n",
    "        \n",
    "    def fu(self):\n",
    "        print(\"my name is {}\".format(self.name))\n",
    "    \n",
    "o1=parent(\"muthu\",24)\n",
    "o1.fun(12)\n",
    "o2=parent(\"muthu\",24)\n",
    "o2.fu()"
   ]
  },
  {
   "cell_type": "code",
   "execution_count": 61,
   "id": "acf5bd4b",
   "metadata": {},
   "outputs": [
    {
     "ename": "AttributeError",
     "evalue": "'super' object has no attribute 'sub'",
     "output_type": "error",
     "traceback": [
      "\u001b[1;31m---------------------------------------------------------------------------\u001b[0m",
      "\u001b[1;31mAttributeError\u001b[0m                            Traceback (most recent call last)",
      "Cell \u001b[1;32mIn[61], line 10\u001b[0m\n\u001b[0;32m      8\u001b[0m         \u001b[38;5;28mprint\u001b[39m(\u001b[38;5;124m\"\u001b[39m\u001b[38;5;124mwelcome\u001b[39m\u001b[38;5;124m\"\u001b[39m)\n\u001b[0;32m      9\u001b[0m obj\u001b[38;5;241m=\u001b[39mparent()\n\u001b[1;32m---> 10\u001b[0m \u001b[43mobj\u001b[49m\u001b[38;5;241;43m.\u001b[39;49m\u001b[43msub\u001b[49m\u001b[43m(\u001b[49m\u001b[43m)\u001b[49m\n",
      "Cell \u001b[1;32mIn[61], line 7\u001b[0m, in \u001b[0;36mparent.sub\u001b[1;34m(self)\u001b[0m\n\u001b[0;32m      6\u001b[0m \u001b[38;5;28;01mdef\u001b[39;00m \u001b[38;5;21msub\u001b[39m(\u001b[38;5;28mself\u001b[39m):\n\u001b[1;32m----> 7\u001b[0m     \u001b[38;5;28;43msuper\u001b[39;49m\u001b[43m(\u001b[49m\u001b[43m)\u001b[49m\u001b[38;5;241;43m.\u001b[39;49m\u001b[43msub\u001b[49m()\n\u001b[0;32m      8\u001b[0m     \u001b[38;5;28mprint\u001b[39m(\u001b[38;5;124m\"\u001b[39m\u001b[38;5;124mwelcome\u001b[39m\u001b[38;5;124m\"\u001b[39m)\n",
      "\u001b[1;31mAttributeError\u001b[0m: 'super' object has no attribute 'sub'"
     ]
    }
   ],
   "source": [
    "class parent:\n",
    "    def sub(self):\n",
    "        self.a=10\n",
    "        self.b=20\n",
    "        print(self.a+self.b)\n",
    "    def sub(self):\n",
    "        super().__init__()\n",
    "        print(\"welcome\")\n",
    "obj=parent()\n",
    "obj.sub()"
   ]
  },
  {
   "cell_type": "code",
   "execution_count": 49,
   "id": "43310918",
   "metadata": {},
   "outputs": [
    {
     "name": "stdout",
     "output_type": "stream",
     "text": [
      "value :  -1\n"
     ]
    }
   ],
   "source": [
    "class p:\n",
    "    def __init__(self,a):\n",
    "        self.a=a\n",
    "        \n",
    "    def __sub__(self,other):\n",
    "        return self.a-other.b\n",
    "        \n",
    "class c:\n",
    "    def __init__(self,b):\n",
    "        self.b=b  \n",
    "   \n",
    "o=p(1)\n",
    "o1=c(2)\n",
    "print(\"value : \",o-o1)\n",
    "\n",
    "\n",
    "        \n"
   ]
  },
  {
   "cell_type": "code",
   "execution_count": 34,
   "id": "78dc240b",
   "metadata": {},
   "outputs": [
    {
     "ename": "AttributeError",
     "evalue": "'re.Match' object has no attribute 'str'",
     "output_type": "error",
     "traceback": [
      "\u001b[1;31m---------------------------------------------------------------------------\u001b[0m",
      "\u001b[1;31mAttributeError\u001b[0m                            Traceback (most recent call last)",
      "Cell \u001b[1;32mIn[34], line 4\u001b[0m\n\u001b[0;32m      2\u001b[0m txt \u001b[38;5;241m=\u001b[39m \u001b[38;5;124m\"\u001b[39m\u001b[38;5;124mThe rain in Spain\u001b[39m\u001b[38;5;124m\"\u001b[39m\n\u001b[0;32m      3\u001b[0m x \u001b[38;5;241m=\u001b[39m re\u001b[38;5;241m.\u001b[39msearch(\u001b[38;5;124m\"\u001b[39m\u001b[38;5;124mThe\u001b[39m\u001b[38;5;124m\"\u001b[39m,txt)\n\u001b[1;32m----> 4\u001b[0m \u001b[38;5;28mprint\u001b[39m(\u001b[43mx\u001b[49m\u001b[38;5;241;43m.\u001b[39;49m\u001b[43mstr\u001b[49m())\n",
      "\u001b[1;31mAttributeError\u001b[0m: 're.Match' object has no attribute 'str'"
     ]
    }
   ],
   "source": [
    "import re\n",
    "txt = \"The rain in Spain\"\n",
    "x = re.search(\"The\",txt)\n",
    "print(x.str())"
   ]
  },
  {
   "cell_type": "code",
   "execution_count": 39,
   "id": "32e9c0c7",
   "metadata": {},
   "outputs": [
    {
     "name": "stdout",
     "output_type": "stream",
     "text": [
      "The|rain|in|Spain\n"
     ]
    }
   ],
   "source": [
    "import re\n",
    "txt = \"The rain in Spain\"\n",
    "x = re.sub(\"\\s\",\"|\",txt,5)\n",
    "print(x)"
   ]
  },
  {
   "cell_type": "code",
   "execution_count": 51,
   "id": "bd9230b1",
   "metadata": {},
   "outputs": [
    {
     "name": "stdout",
     "output_type": "stream",
     "text": [
      "no\n"
     ]
    }
   ],
   "source": [
    "x = 10\n",
    "\n",
    "if x < 0:\n",
    "  raise TypeError(\"Sorry, no numbers below zero\")\n",
    "  print(\"yes\")\n",
    "else:\n",
    "    print(\"no\")"
   ]
  },
  {
   "cell_type": "code",
   "execution_count": 46,
   "id": "409f8276",
   "metadata": {},
   "outputs": [
    {
     "ename": "TypeError",
     "evalue": "Only integers are allowed",
     "output_type": "error",
     "traceback": [
      "\u001b[1;31m---------------------------------------------------------------------------\u001b[0m",
      "\u001b[1;31mTypeError\u001b[0m                                 Traceback (most recent call last)",
      "Cell \u001b[1;32mIn[46], line 4\u001b[0m\n\u001b[0;32m      1\u001b[0m x \u001b[38;5;241m=\u001b[39m \u001b[38;5;124m\"\u001b[39m\u001b[38;5;124mhello\u001b[39m\u001b[38;5;124m\"\u001b[39m\n\u001b[0;32m      3\u001b[0m \u001b[38;5;28;01mif\u001b[39;00m \u001b[38;5;129;01mnot\u001b[39;00m \u001b[38;5;28mtype\u001b[39m(x) \u001b[38;5;129;01mis\u001b[39;00m \u001b[38;5;28mint\u001b[39m:\n\u001b[1;32m----> 4\u001b[0m   \u001b[38;5;28;01mraise\u001b[39;00m \u001b[38;5;167;01mTypeError\u001b[39;00m(\u001b[38;5;124m\"\u001b[39m\u001b[38;5;124mOnly integers are allowed\u001b[39m\u001b[38;5;124m\"\u001b[39m)\n",
      "\u001b[1;31mTypeError\u001b[0m: Only integers are allowed"
     ]
    }
   ],
   "source": [
    "x = \"hello\"\n",
    "\n",
    "if not type(x) is int:\n",
    "  raise TypeError(\"Only integers are allowed\")\n"
   ]
  },
  {
   "cell_type": "code",
   "execution_count": 55,
   "id": "1dc62611",
   "metadata": {},
   "outputs": [
    {
     "name": "stdout",
     "output_type": "stream",
     "text": [
      "the original price is 123.00 and discount price is 1234\n"
     ]
    }
   ],
   "source": [
    "price=1234\n",
    "discount=123\n",
    "txt=\"the original price is {1:.2f} and discount price is {0}\".format(price,discount)\n",
    "print(txt)\n"
   ]
  },
  {
   "cell_type": "code",
   "execution_count": 101,
   "id": "b8d29903",
   "metadata": {},
   "outputs": [
    {
     "name": "stdout",
     "output_type": "stream",
     "text": [
      "{\"name\": \"John\", \"age\": 30, \"city\": \"New York\"}\n",
      "<class 'str'>\n",
      "<class 'dict'>\n"
     ]
    }
   ],
   "source": [
    "import json\n",
    "\n",
    "# some JSON:\n",
    "x =  { \"name\":\"John\", \"age\":30, \"city\":\"New York\"}\n",
    "\n",
    "# parse x:\n",
    "y = json.dumps(x)\n",
    "\n",
    "# the result is a Python dictionary:\n",
    "print(y)\n",
    "print(type(y))\n",
    "print(type(x))"
   ]
  },
  {
   "cell_type": "code",
   "execution_count": 146,
   "id": "2b4dce51",
   "metadata": {},
   "outputs": [],
   "source": [
    "f=open(\"C:/Users/ELCOT/Documents/python projects/tutorial link.txt\",\"r\")"
   ]
  },
  {
   "cell_type": "code",
   "execution_count": 147,
   "id": "58a1ae55",
   "metadata": {},
   "outputs": [
    {
     "name": "stdout",
     "output_type": "stream",
     "text": [
      "now you got the access\n",
      "    \n",
      "\n",
      "yeah now you got the idea\n",
      "\n",
      "\n"
     ]
    }
   ],
   "source": [
    "print(f.read())"
   ]
  },
  {
   "cell_type": "code",
   "execution_count": 148,
   "id": "0e3a5175",
   "metadata": {},
   "outputs": [],
   "source": [
    "f.close()"
   ]
  },
  {
   "cell_type": "code",
   "execution_count": 179,
   "id": "8b43baf1",
   "metadata": {},
   "outputs": [],
   "source": [
    "f=open(\"C:/Users/ELCOT/Documents/python projects/tutorial link.txt\",\"r\")"
   ]
  },
  {
   "cell_type": "code",
   "execution_count": 164,
   "id": "8e674a47",
   "metadata": {},
   "outputs": [
    {
     "name": "stdout",
     "output_type": "stream",
     "text": [
      "21\n"
     ]
    }
   ],
   "source": [
    "print(f.write(\"\"\" 2345678901234567890 \"\"\"))"
   ]
  },
  {
   "cell_type": "code",
   "execution_count": 166,
   "id": "e3f0db46",
   "metadata": {},
   "outputs": [
    {
     "name": "stdout",
     "output_type": "stream",
     "text": [
      " hey man super perfect man  hey man super perfect man asdfghjwertyucv  2345678901234567890 \n"
     ]
    }
   ],
   "source": [
    "print(f.read())"
   ]
  },
  {
   "cell_type": "code",
   "execution_count": 175,
   "id": "cab41a41",
   "metadata": {},
   "outputs": [],
   "source": [
    "f.close()"
   ]
  },
  {
   "cell_type": "code",
   "execution_count": 216,
   "id": "1cf6a129",
   "metadata": {},
   "outputs": [],
   "source": [
    "import os\n",
    "os.remove('C:/Users/ELCOT/Documents/python projects/summa file/summa.txt')"
   ]
  },
  {
   "cell_type": "code",
   "execution_count": 217,
   "id": "b19af4d0",
   "metadata": {},
   "outputs": [],
   "source": [
    "os.rmdir('C:/Users/ELCOT/Documents/python projects/summa file')"
   ]
  },
  {
   "cell_type": "code",
   "execution_count": null,
   "id": "13a4c1bc",
   "metadata": {},
   "outputs": [],
   "source": [
    "\n"
   ]
  },
  {
   "cell_type": "code",
   "execution_count": 76,
   "id": "738e8e2b",
   "metadata": {},
   "outputs": [
    {
     "name": "stdout",
     "output_type": "stream",
     "text": [
      "{'x': 1, 'y': 8, 'z': 3, 'a': 4, 'b': 5}\n",
      "{'sun': 2, 'mon': 4, 'wed': 2}\n"
     ]
    }
   ],
   "source": [
    "#(Q-No :3) Merging two dictionaries (a and b).The result dict must contain all item of both dict ,\n",
    "# if the key is common then the value of key in resultant dict must be sum of value in a and b :\n",
    " \n",
    "a = {'x': 1, 'y': 2, 'z': 3}\n",
    "b = {'a': 4, 'b': 5, 'y': 6}\n",
    "\n",
    "def dictMerge(a, b):\n",
    "    result = {}\n",
    "\n",
    "    # Using Dict a :\n",
    "    for key, value in a.items():\n",
    "        result[key] = result.get(key, 0) + value\n",
    "        \n",
    "    # Using Dict B :\n",
    "    for key, value in b.items():\n",
    "        result[key] = result.get(key, 0) + value\n",
    "       \n",
    "    \n",
    "    return result\n",
    "\n",
    "result_dict = dictMerge(a, b)\n",
    "print(result_dict)\n",
    "\n",
    "a = {'sun':1, 'mon':2,'wed':1}\n",
    "b = {'sun':1, 'mon':2,'wed':1}\n",
    "m={}\n",
    "for k,v in a.items():\n",
    "    if(k not in m):\n",
    "        m[k]=v\n",
    "for k,v in b.items():\n",
    "    if(k in m):\n",
    "        m[k]=m[k]+v\n",
    "    else:\n",
    "        m[k]=k\n",
    "print(m)\n",
    "\n"
   ]
  },
  {
   "cell_type": "code",
   "execution_count": 43,
   "id": "b0adb9cc",
   "metadata": {},
   "outputs": [
    {
     "name": "stdout",
     "output_type": "stream",
     "text": [
      "Mumbai\n"
     ]
    }
   ],
   "source": [
    "#(Q-No :4) Return the item with highest value count:-\n",
    "\n",
    "items = [{'Delhi': 3}, {'Mumbai': 9}, {'Goa': 7}, {'Gujrat': 4}]\n",
    "\n",
    "def item_with_high_value(Parameter):\n",
    "    max_value = 0\n",
    "    max_item = None\n",
    "\n",
    "    for i in items:\n",
    "        for key, value in i.items():\n",
    "            if value > max_value:\n",
    "                max_value = value\n",
    "                max_item = key\n",
    "    \n",
    "    return max_item\n",
    "\n",
    "result = item_with_high_value(items)\n",
    "print(result)\n"
   ]
  },
  {
   "cell_type": "code",
   "execution_count": 44,
   "id": "531102d0",
   "metadata": {},
   "outputs": [
    {
     "name": "stdout",
     "output_type": "stream",
     "text": [
      "{'Randy': ['Input.txt', 'Output.txt'], 'Stan': ['Code.py']}\n"
     ]
    }
   ],
   "source": [
    "#(Q-No :5) Group by the owner :-\n",
    "\n",
    "def group_by_owners(Parameter):\n",
    "    owners_dict = {}\n",
    "    \n",
    "    for file, owner in files.items():\n",
    "        if owner in owners_dict:\n",
    "            owners_dict[owner].append(file)\n",
    "        else:\n",
    "            owners_dict[owner] = [file]\n",
    "    \n",
    "    return owners_dict\n",
    "\n",
    "files = {\n",
    "    'Input.txt': 'Randy',\n",
    "    'Code.py': 'Stan',\n",
    "    'Output.txt': 'Randy'\n",
    "}\n",
    "result = group_by_owners(files)\n",
    "print(result)\n"
   ]
  },
  {
   "cell_type": "code",
   "execution_count": 20,
   "id": "7a045abe",
   "metadata": {},
   "outputs": [
    {
     "name": "stdout",
     "output_type": "stream",
     "text": [
      "mon\n"
     ]
    }
   ],
   "source": [
    "# Count the occurrences of a particular element in the list and output highest occuring element :-\n",
    "\n",
    "days = ['sun', 'mon', 'tue', 'wed', 'thu', 'fri', 'sun', 'mon', 'mon']\n",
    "\n",
    "def Max_occuring_str(Paramater):\n",
    "    dic = {}\n",
    "    no_of_time = 0\n",
    "    day = None\n",
    "    for i in days:\n",
    "        if i in dic:\n",
    "            dic[i] += 1\n",
    "        else:\n",
    "            dic[i] =1\n",
    "        \n",
    "        if dic[i] > no_of_time:\n",
    "            no_of_time = dic[i]\n",
    "            day = i\n",
    "    return day\n",
    "\n",
    "result = Max_occuring_str(days)\n",
    "\n",
    "print(result)\n",
    "        \n",
    "    "
   ]
  },
  {
   "cell_type": "code",
   "execution_count": 22,
   "id": "171bc386",
   "metadata": {},
   "outputs": [
    {
     "name": "stdout",
     "output_type": "stream",
     "text": [
      "sun-mon-tue-wed-thu-fri-sat\n"
     ]
    }
   ],
   "source": [
    "#(Q-No : 1 ) Join items of a given list using \"-\" and print the string :-\n",
    "\n",
    "weekdays = ['sun', 'mon', 'tue', 'wed', 'thu', 'fri', 'sat']\n",
    "\n",
    "def str_joining(Parameter):\n",
    "    \n",
    "    answer = \"-\".join(Parameter)\n",
    "    return answer\n",
    "    \n",
    "result = str_joining(weekdays)\n",
    "print(result)\n",
    "\n"
   ]
  },
  {
   "cell_type": "code",
   "execution_count": 6,
   "id": "2c053b78",
   "metadata": {},
   "outputs": [
    {
     "name": "stdout",
     "output_type": "stream",
     "text": [
      "{3: 'x', 2: 'y', 8: 'z'}\n"
     ]
    }
   ],
   "source": [
    "a = {'x': 3, 'y': 2, 'z': 8}\n",
    "b={}\n",
    "for key,value in a.items():\n",
    "    if(value not in b):\n",
    "        b[value]=key\n",
    "print(b)\n"
   ]
  },
  {
   "cell_type": "code",
   "execution_count": 7,
   "id": "e974f209",
   "metadata": {},
   "outputs": [
    {
     "name": "stdout",
     "output_type": "stream",
     "text": [
      "dict_keys([3, 2, 8])\n"
     ]
    }
   ],
   "source": [
    "print(b.keys())"
   ]
  },
  {
   "cell_type": "code",
   "execution_count": 8,
   "id": "9eff4f66",
   "metadata": {},
   "outputs": [
    {
     "name": "stdout",
     "output_type": "stream",
     "text": [
      "dict_items([(3, 'x'), (2, 'y'), (8, 'z')])\n"
     ]
    }
   ],
   "source": [
    "print(b.items())"
   ]
  },
  {
   "cell_type": "code",
   "execution_count": 9,
   "id": "9618d274",
   "metadata": {},
   "outputs": [
    {
     "name": "stdout",
     "output_type": "stream",
     "text": [
      "dict_values(['x', 'y', 'z'])\n"
     ]
    }
   ],
   "source": [
    "print(b.values())"
   ]
  },
  {
   "cell_type": "code",
   "execution_count": 10,
   "id": "795fc994",
   "metadata": {},
   "outputs": [
    {
     "data": {
      "text/plain": [
       "'x'"
      ]
     },
     "execution_count": 10,
     "metadata": {},
     "output_type": "execute_result"
    }
   ],
   "source": [
    "b.get(3)"
   ]
  },
  {
   "cell_type": "code",
   "execution_count": 16,
   "id": "7b2c082c",
   "metadata": {},
   "outputs": [],
   "source": [
    "dic= {\n",
    "    \n",
    "      \"muthu\":\"dhoni\",\n",
    "      \"sankar\":\"koli\",\n",
    "      \"sini\":\"dhoni\",\n",
    "      \"viki\":\"koli\"\n",
    "}"
   ]
  },
  {
   "cell_type": "code",
   "execution_count": 17,
   "id": "2a7e0271",
   "metadata": {},
   "outputs": [
    {
     "name": "stdout",
     "output_type": "stream",
     "text": [
      "dict_values(['dhoni', 'koli', 'dhoni', 'koli'])\n"
     ]
    }
   ],
   "source": [
    "print(dic.values())"
   ]
  },
  {
   "cell_type": "code",
   "execution_count": 33,
   "id": "5f42ebbc",
   "metadata": {},
   "outputs": [
    {
     "name": "stdout",
     "output_type": "stream",
     "text": [
      "{'dhoni': ['muthu', 'sini'], 'koli': ['sankar', 'viki']}\n"
     ]
    }
   ],
   "source": [
    "mm={}\n",
    "for keys,values in dic.items():\n",
    "    if (values not in mm):\n",
    "        mm[values] = [keys]\n",
    "    else:\n",
    "        mm[values].append(keys)        \n",
    "    \n",
    "print(mm)"
   ]
  },
  {
   "cell_type": "code",
   "execution_count": 27,
   "id": "7787539d",
   "metadata": {},
   "outputs": [
    {
     "name": "stdout",
     "output_type": "stream",
     "text": [
      "{'dhoni': 'vikiviki', 'koli': 'vikiviki'}\n"
     ]
    }
   ],
   "source": [
    "re={}\n",
    "for key,value in dic.items():\n",
    "    if (value not in re):\n",
    "        re[value] = keys\n",
    "    else:\n",
    "        re[value] += keys\n",
    "        \n",
    "print(re)"
   ]
  },
  {
   "cell_type": "code",
   "execution_count": 26,
   "id": "ae85a07c",
   "metadata": {},
   "outputs": [
    {
     "name": "stdout",
     "output_type": "stream",
     "text": [
      "dict_keys(['dhoni', 'koli'])\n"
     ]
    }
   ],
   "source": [
    "print(re.keys())"
   ]
  },
  {
   "cell_type": "code",
   "execution_count": 34,
   "id": "46a9cf5f",
   "metadata": {},
   "outputs": [],
   "source": [
    "l = ['sun', 'mon', 'tue', 'wed', 'thu', 'fri', 'sat','mon']\n"
   ]
  },
  {
   "cell_type": "code",
   "execution_count": 42,
   "id": "ef6f922c",
   "metadata": {},
   "outputs": [
    {
     "name": "stdout",
     "output_type": "stream",
     "text": [
      "{'sun': 1, 'mon': 2, 'tue': 1, 'wed': 1, 'thu': 1, 'fri': 1, 'sat': 1}\n",
      "{'mon': 2, 'tue': 1}\n"
     ]
    }
   ],
   "source": [
    "r={}\n",
    "d={}\n",
    "for i in l:\n",
    "    if(i not in r):\n",
    "        r[i]=1\n",
    "    else:\n",
    "        r[i] +=1\n",
    "for k,val in r.items():\n",
    "    if(k=='mon' or k=='tue'):\n",
    "        d[k]=val\n",
    "print(r)\n",
    "print(d)"
   ]
  },
  {
   "cell_type": "code",
   "execution_count": 73,
   "id": "bde128c7",
   "metadata": {},
   "outputs": [
    {
     "name": "stdout",
     "output_type": "stream",
     "text": [
      "{'sun': 2, 'mon': 4, 'wed': 2}\n"
     ]
    }
   ],
   "source": [
    "a = {'sun':1, 'mon':2,'wed':1}\n",
    "b = {'sun':1, 'mon':2,'wed':1}\n",
    "m={}\n",
    "for k,v in a.items():\n",
    "    if(k not in m):\n",
    "        m[k]=v\n",
    "for k,v in b.items():\n",
    "    if(k in m):\n",
    "        m[k]=m[k]+v\n",
    "print(m)\n"
   ]
  },
  {
   "cell_type": "code",
   "execution_count": 59,
   "id": "f5305d52",
   "metadata": {},
   "outputs": [
    {
     "name": "stdout",
     "output_type": "stream",
     "text": [
      "3\n"
     ]
    }
   ],
   "source": [
    "print(m['mon'])"
   ]
  },
  {
   "cell_type": "code",
   "execution_count": 54,
   "id": "76243124",
   "metadata": {},
   "outputs": [],
   "source": [
    "a = {'x': 1, 'y': 2, 'z': 3}\n",
    "b = {'a': 4, 'b': 5, 'y': 6}\n",
    "c = {'a': 4, 'b': 5, 'y': 6}  "
   ]
  },
  {
   "cell_type": "code",
   "execution_count": 56,
   "id": "ce3c1a60",
   "metadata": {},
   "outputs": [
    {
     "name": "stdout",
     "output_type": "stream",
     "text": [
      "['z', 3]\n"
     ]
    }
   ],
   "source": [
    "dict={}\n",
    "for key,values in a.items():\n",
    "    if(key,values not in dict):\n",
    "        dict =[key,values] \n",
    "print(dict)        \n"
   ]
  },
  {
   "cell_type": "code",
   "execution_count": 8,
   "id": "f7cd60d3",
   "metadata": {},
   "outputs": [
    {
     "name": "stdout",
     "output_type": "stream",
     "text": [
      " \n",
      "*  \n",
      "* *  \n",
      "* * *  \n",
      "* * * *  \n",
      "* * * * *  \n",
      "* * * * * *  \n",
      "* * * * * * *  \n",
      "* * * * * * * *  \n",
      "* * * * * * * * *  \n",
      "* * * * * * * *  \n",
      "* * * * * * *  \n",
      "* * * * * *  \n",
      "* * * * *  \n",
      "* * * *  \n",
      "* * *  \n",
      "* *  \n",
      "*  \n"
     ]
    }
   ],
   "source": [
    "for i in range(9):\n",
    "    for j in range(i):\n",
    "        print(\"*\",end=\" \")\n",
    "    print(\" \")\n",
    "for i in range(9,0,-1):\n",
    "    for j in range(0,i):\n",
    "        print(\"*\",end=\" \")\n",
    "    print(\" \")"
   ]
  },
  {
   "cell_type": "code",
   "execution_count": 24,
   "id": "130cf361",
   "metadata": {},
   "outputs": [
    {
     "name": "stdout",
     "output_type": "stream",
     "text": [
      " \n",
      "0  \n",
      "0 1  \n",
      "0 1 2  \n",
      "0 1 2 3  \n",
      "0 1 2 3 4  \n",
      "0 1 2 3  \n",
      "0 1 2  \n",
      "0 1  \n",
      "0  \n"
     ]
    }
   ],
   "source": [
    "for i in range(5):\n",
    "    for j in range(i):\n",
    "        print(j,end=\" \")\n",
    "    print(\" \")\n",
    "for i in range(5,0,-1):\n",
    "    for j in range(i):\n",
    "        print(j,end=\" \")\n",
    "    print(\" \")"
   ]
  },
  {
   "cell_type": "code",
   "execution_count": 20,
   "id": "d868df6d",
   "metadata": {},
   "outputs": [
    {
     "name": "stdout",
     "output_type": "stream",
     "text": [
      "* * * * * * * * *  \n",
      "* * * * * * * *  \n",
      "* * * * * * *  \n",
      "* * * * * *  \n",
      "* * * * *  \n",
      "* * * *  \n",
      "* * *  \n",
      "* *  \n",
      "*  \n"
     ]
    }
   ],
   "source": [
    "for i in range(9,0,-1):\n",
    "    for j in range(i):\n",
    "        print(\"*\",end=\" \")\n",
    "    print(\" \")"
   ]
  },
  {
   "cell_type": "code",
   "execution_count": 37,
   "id": "e0a90fed",
   "metadata": {},
   "outputs": [
    {
     "name": "stdout",
     "output_type": "stream",
     "text": [
      "1  \n",
      "1 2  \n",
      "1 2 3  \n",
      "1 2 3 4  \n",
      "1 2 3 4 5  \n"
     ]
    }
   ],
   "source": [
    "for i in range(1,6):\n",
    "    for j in range(1,i+1):\n",
    "        print(j,end=\" \")\n",
    "    print(\" \")"
   ]
  },
  {
   "cell_type": "code",
   "execution_count": 57,
   "id": "a68e8c99",
   "metadata": {},
   "outputs": [],
   "source": [
    "a = {'x': 1, 'y': 2, 'z': 3}\n",
    "b = {'a': 4, 'b': 5, 'y': 6}\n",
    "c = {'a': 4, 'b': 5, 'y': 6}"
   ]
  },
  {
   "cell_type": "code",
   "execution_count": 127,
   "id": "9e869a98",
   "metadata": {},
   "outputs": [
    {
     "name": "stdout",
     "output_type": "stream",
     "text": [
      "{'x': 1, 'y': 14, 'z': 3, 'a': 8, 'b': 10}\n"
     ]
    }
   ],
   "source": [
    "dict={}\n",
    "for key,values in a.items():\n",
    "    if(key not in dict):\n",
    "        dict[key] = values\n",
    "for key,values in b.items():\n",
    "    if(key  in dict):\n",
    "        dict[key]=dict[key]+values\n",
    "    else:\n",
    "        dict[key]=values\n",
    "        \n",
    "for key,values in c.items():\n",
    "    if(key  in dict):\n",
    "        dict[key]= dict[key]+values\n",
    "    else:\n",
    "        dict[key]=values\n",
    "print(dict)"
   ]
  },
  {
   "cell_type": "code",
   "execution_count": 51,
   "id": "2b0a80ee",
   "metadata": {},
   "outputs": [
    {
     "name": "stdout",
     "output_type": "stream",
     "text": [
      "enter the num : 111\n",
      "it is not a prime\n"
     ]
    }
   ],
   "source": [
    "# To find the whether it's prime number or not :-\n",
    "a=int(input(\"enter the num : \"))\n",
    "\n",
    "cond=False\n",
    "if(a<=0 or a==1):\n",
    "    cond = True\n",
    "for i in range(2,a):\n",
    "    if(a%i==0):\n",
    "        cond=True\n",
    "        break\n",
    "if cond:\n",
    "    print(\"it is not a prime\")\n",
    "else:\n",
    "    print(\"it is prime\")"
   ]
  },
  {
   "cell_type": "code",
   "execution_count": 52,
   "id": "b7c3ef48",
   "metadata": {},
   "outputs": [
    {
     "name": "stdout",
     "output_type": "stream",
     "text": [
      "1\n"
     ]
    }
   ],
   "source": [
    "print(111%2)\n"
   ]
  },
  {
   "cell_type": "code",
   "execution_count": 1,
   "id": "1e1db693",
   "metadata": {},
   "outputs": [
    {
     "name": "stdout",
     "output_type": "stream",
     "text": [
      "Yes\n"
     ]
    }
   ],
   "source": [
    "a = 10\n",
    "b = 20\n",
    "x = \"Yes\" if a<b else \"No\"\n",
    "print(x)"
   ]
  },
  {
   "cell_type": "code",
   "execution_count": 6,
   "id": "d776da19",
   "metadata": {},
   "outputs": [
    {
     "ename": "TypeError",
     "evalue": "array() argument 1 must be a unicode character, not list",
     "output_type": "error",
     "traceback": [
      "\u001b[1;31m---------------------------------------------------------------------------\u001b[0m",
      "\u001b[1;31mTypeError\u001b[0m                                 Traceback (most recent call last)",
      "Cell \u001b[1;32mIn[6], line 3\u001b[0m\n\u001b[0;32m      1\u001b[0m \u001b[38;5;28;01mfrom\u001b[39;00m \u001b[38;5;21;01marray\u001b[39;00m \u001b[38;5;28;01mimport\u001b[39;00m array\n\u001b[0;32m      2\u001b[0m h\u001b[38;5;241m=\u001b[39m[\u001b[38;5;241m1\u001b[39m,\u001b[38;5;241m2\u001b[39m,\u001b[38;5;241m3\u001b[39m,\u001b[38;5;241m4\u001b[39m,\u001b[38;5;241m5\u001b[39m]\n\u001b[1;32m----> 3\u001b[0m c \u001b[38;5;241m=\u001b[39m \u001b[43marray\u001b[49m\u001b[43m(\u001b[49m\u001b[43mh\u001b[49m\u001b[43m)\u001b[49m\n\u001b[0;32m      4\u001b[0m \u001b[38;5;28mprint\u001b[39m(\u001b[38;5;28mtype\u001b[39m(c))\n",
      "\u001b[1;31mTypeError\u001b[0m: array() argument 1 must be a unicode character, not list"
     ]
    }
   ],
   "source": [
    "from array import array\n",
    "h=[1,2,3,4,5]\n",
    "c = array(h)\n",
    "print(type(c))"
   ]
  },
  {
   "cell_type": "code",
   "execution_count": 79,
   "id": "68f7e897",
   "metadata": {},
   "outputs": [
    {
     "name": "stdout",
     "output_type": "stream",
     "text": [
      "The list is : [1, 2, 3, 4, 'h']\n"
     ]
    },
    {
     "ename": "TypeError",
     "evalue": "'builtin_function_or_method' object is not subscriptable",
     "output_type": "error",
     "traceback": [
      "\u001b[1;31m---------------------------------------------------------------------------\u001b[0m",
      "\u001b[1;31mTypeError\u001b[0m                                 Traceback (most recent call last)",
      "Cell \u001b[1;32mIn[79], line 9\u001b[0m\n\u001b[0;32m      6\u001b[0m \u001b[38;5;66;03m# Printing the list\u001b[39;00m\n\u001b[0;32m      7\u001b[0m \u001b[38;5;28mprint\u001b[39m(\u001b[38;5;124m\"\u001b[39m\u001b[38;5;124mThe list is : \u001b[39m\u001b[38;5;124m\"\u001b[39m \u001b[38;5;241m+\u001b[39m \u001b[38;5;28mstr\u001b[39m(\u001b[38;5;28mlist\u001b[39m))\n\u001b[1;32m----> 9\u001b[0m res \u001b[38;5;241m=\u001b[39m \u001b[43mnp\u001b[49m\u001b[38;5;241;43m.\u001b[39;49m\u001b[43marray\u001b[49m\u001b[43m[\u001b[49m\u001b[43m(\u001b[49m\u001b[38;5;28;43mlist\u001b[39;49m\u001b[43m)\u001b[49m\u001b[43m]\u001b[49m\n",
      "\u001b[1;31mTypeError\u001b[0m: 'builtin_function_or_method' object is not subscriptable"
     ]
    }
   ],
   "source": [
    "import numpy as np\n",
    "\n",
    "# Initializing the list\n",
    "list = [1, 2, 3, 4, \"h\"]\n",
    "\n",
    "# Printing the list\n",
    "print(\"The list is : \" + str(list))\n",
    "\n",
    "res = np.array[(list)]"
   ]
  },
  {
   "cell_type": "code",
   "execution_count": 75,
   "id": "5d5ac1ee",
   "metadata": {},
   "outputs": [
    {
     "name": "stdout",
     "output_type": "stream",
     "text": [
      "enter three values1,2,3\n",
      "1 2 3\n"
     ]
    }
   ],
   "source": [
    "a,b,c=[int(i) for i in input(\"enter three values\").split(\",\")]\n",
    "print(a,b,c)"
   ]
  },
  {
   "cell_type": "code",
   "execution_count": 13,
   "id": "a3a85e5c",
   "metadata": {},
   "outputs": [
    {
     "name": "stdout",
     "output_type": "stream",
     "text": [
      "hi\n",
      "hello\n"
     ]
    }
   ],
   "source": [
    "print(\"hi\")\n",
    "print(\"hello\")"
   ]
  },
  {
   "cell_type": "code",
   "execution_count": 22,
   "id": "1378571c",
   "metadata": {},
   "outputs": [],
   "source": [
    "a=[1,2,3,4]\n",
    "a.clear()"
   ]
  },
  {
   "cell_type": "code",
   "execution_count": 23,
   "id": "3f9e5f81",
   "metadata": {},
   "outputs": [
    {
     "name": "stdout",
     "output_type": "stream",
     "text": [
      "[]\n"
     ]
    }
   ],
   "source": [
    "print(a)"
   ]
  },
  {
   "cell_type": "code",
   "execution_count": null,
   "id": "1a6481d6",
   "metadata": {},
   "outputs": [],
   "source": []
  },
  {
   "cell_type": "code",
   "execution_count": null,
   "id": "b2b98466",
   "metadata": {},
   "outputs": [],
   "source": []
  },
  {
   "cell_type": "code",
   "execution_count": null,
   "id": "4d397c68",
   "metadata": {},
   "outputs": [],
   "source": []
  },
  {
   "cell_type": "code",
   "execution_count": null,
   "id": "7105a8af",
   "metadata": {},
   "outputs": [],
   "source": []
  },
  {
   "cell_type": "code",
   "execution_count": 39,
   "id": "fc9e36bf",
   "metadata": {},
   "outputs": [
    {
     "name": "stdout",
     "output_type": "stream",
     "text": [
      "1\n",
      "20\n",
      "3\n",
      "5\n",
      "6\n",
      "9\n",
      "10\n",
      "12\n",
      "18\n",
      "20\n"
     ]
    }
   ],
   "source": [
    "a = int(input())\n",
    "b = int(input())\n",
    "for i in range(1,b+1):\n",
    "    if(i%3==0 or i%5==0) and i!=15:\n",
    "        print(i)\n",
    "        \n"
   ]
  },
  {
   "cell_type": "code",
   "execution_count": 54,
   "id": "493acf94",
   "metadata": {},
   "outputs": [
    {
     "name": "stdout",
     "output_type": "stream",
     "text": [
      "Enter the Number :3\n",
      "Yes it's a prime Number\n"
     ]
    }
   ],
   "source": [
    "no = int(input(\"Enter the Number :\"))\n",
    "cond = False\n",
    "if(no<=1):\n",
    "    cond = True\n",
    "else:\n",
    "    for i in range(2,no):\n",
    "        if(no%i == 0):\n",
    "            cond = True\n",
    "            break\n",
    "        else:\n",
    "            cond = False\n",
    "if cond:\n",
    "    print(\"No\")\n",
    "else:\n",
    "    print(\"Yes it's a prime Number\")"
   ]
  },
  {
   "cell_type": "code",
   "execution_count": 52,
   "id": "cb2405d7",
   "metadata": {},
   "outputs": [
    {
     "name": "stdout",
     "output_type": "stream",
     "text": [
      "Enter First Number : 1\n",
      "Enter Second Number : 10\n",
      "cor [2, 3, 5, 7]\n",
      "rev : [7, 5, 3, 2]\n"
     ]
    }
   ],
   "source": [
    "no1 = int(input(\"Enter First Number : \"))\n",
    "no2 = int(input(\"Enter Second Number : \"))\n",
    "if(no1<no2):\n",
    "    Num1 = no1\n",
    "    Num2 = no2\n",
    "else:\n",
    "    Num1 = no2\n",
    "    Num2 = no1\n",
    "    \n",
    "cond = False\n",
    "prime_Numbers = []\n",
    "for i in range(Num1,Num2):\n",
    "    if(i<=1):\n",
    "        continue\n",
    "    else:\n",
    "        for j in range(2,i):\n",
    "            if(i%j == 0):\n",
    "                break\n",
    "        else:\n",
    "            prime_Numbers.append(i)\n",
    "rev=prime_Numbers[::-1]\n",
    "print(\"cor\",prime_Numbers)\n",
    "print(\"rev :\",rev)"
   ]
  },
  {
   "cell_type": "code",
   "execution_count": 71,
   "id": "f122695b",
   "metadata": {},
   "outputs": [
    {
     "name": "stdout",
     "output_type": "stream",
     "text": [
      "dict_keys(['x', 'y', 'z'])\n",
      "dict_values([1, 2, 3])\n",
      "dict_items([('x', 1), ('y', 2), ('z', 3)])\n"
     ]
    }
   ],
   "source": [
    "a = {'x': 1, 'y': 2, 'z': 3}\n",
    "b = {'a': 4, 'b': 5, 'y': 6}\n",
    "c = {'a': 4, 'b': 5, 'y': 6}\n",
    "print(a.keys())\n",
    "print(a.values())\n",
    "print(a.items())"
   ]
  },
  {
   "cell_type": "code",
   "execution_count": 73,
   "id": "ebb8a562",
   "metadata": {},
   "outputs": [
    {
     "name": "stdout",
     "output_type": "stream",
     "text": [
      "{'x': 1, 'y': 3, 'z': 1, 'a': 2, 'b': 2}\n"
     ]
    }
   ],
   "source": [
    "r = {}\n",
    "for key,val in a.items():\n",
    "    if(key not in r):\n",
    "        r[key]= 1\n",
    "    else:\n",
    "        r[key]+=1\n",
    "for key,val in b.items():\n",
    "    if(key not in r):\n",
    "        r[key]=1\n",
    "    else:\n",
    "        r[key]+=1\n",
    "for key,val in c.items():\n",
    "    if(key not in r):\n",
    "        r[key]=1\n",
    "    else:\n",
    "        r[key]+=1\n",
    "print(r)\n",
    "    "
   ]
  },
  {
   "cell_type": "code",
   "execution_count": null,
   "id": "ecd7e975",
   "metadata": {},
   "outputs": [],
   "source": []
  },
  {
   "cell_type": "code",
   "execution_count": null,
   "id": "46ca953f",
   "metadata": {},
   "outputs": [],
   "source": []
  }
 ],
 "metadata": {
  "kernelspec": {
   "display_name": "Python 3 (ipykernel)",
   "language": "python",
   "name": "python3"
  },
  "language_info": {
   "codemirror_mode": {
    "name": "ipython",
    "version": 3
   },
   "file_extension": ".py",
   "mimetype": "text/x-python",
   "name": "python",
   "nbconvert_exporter": "python",
   "pygments_lexer": "ipython3",
   "version": "3.11.3"
  }
 },
 "nbformat": 4,
 "nbformat_minor": 5
}
