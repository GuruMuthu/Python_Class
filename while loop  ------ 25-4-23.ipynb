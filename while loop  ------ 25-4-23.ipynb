{
 "cells": [
  {
   "cell_type": "code",
   "execution_count": 8,
   "id": "a238c440",
   "metadata": {},
   "outputs": [
    {
     "name": "stdout",
     "output_type": "stream",
     "text": [
      " enter fruit nameapple\n",
      "['apple']\n",
      " enter fruit nameorange\n",
      "['apple', 'orange']\n",
      " enter fruit namecuava\n",
      "['apple', 'orange', 'cuava']\n",
      " enter fruit namecherry\n",
      "['apple', 'orange', 'cuava', 'cherry']\n",
      " enter fruit namestop\n"
     ]
    }
   ],
   "source": [
    "# while loop:-\n",
    "\n",
    "fruits=[]\n",
    "while (1):\n",
    "    val=input(\" enter fruit name\")\n",
    "    if (val==\"stop\"):\n",
    "        break\n",
    "    fruits.append(val)\n",
    "    print(fruits) \n"
   ]
  },
  {
   "cell_type": "code",
   "execution_count": 9,
   "id": "1dd4a8d6",
   "metadata": {},
   "outputs": [
    {
     "name": "stdout",
     "output_type": "stream",
     "text": [
      "1\n",
      "2\n",
      "3\n",
      "5\n",
      "6\n"
     ]
    }
   ],
   "source": [
    "i=0\n",
    "while (i<6):\n",
    "    i=i+1\n",
    "    if (i==4):\n",
    "        continue\n",
    "    print(i)"
   ]
  },
  {
   "cell_type": "code",
   "execution_count": null,
   "id": "3994cc9d",
   "metadata": {},
   "outputs": [],
   "source": []
  }
 ],
 "metadata": {
  "kernelspec": {
   "display_name": "Python 3 (ipykernel)",
   "language": "python",
   "name": "python3"
  },
  "language_info": {
   "codemirror_mode": {
    "name": "ipython",
    "version": 3
   },
   "file_extension": ".py",
   "mimetype": "text/x-python",
   "name": "python",
   "nbconvert_exporter": "python",
   "pygments_lexer": "ipython3",
   "version": "3.11.3"
  }
 },
 "nbformat": 4,
 "nbformat_minor": 5
}
