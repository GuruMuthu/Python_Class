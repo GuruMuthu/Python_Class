{
 "cells": [
  {
   "cell_type": "code",
   "execution_count": 1,
   "id": "5e5b5af1",
   "metadata": {},
   "outputs": [
    {
     "name": "stdout",
     "output_type": "stream",
     "text": [
      "enter the mark92\n",
      "first class and pass\n"
     ]
    }
   ],
   "source": [
    "mark=int(input(\"enter the mark\"))\n",
    "if (mark>90):\n",
    "    print(\"first class and pass\")\n",
    "elif (mark<35):\n",
    "    print(\"print fail \")"
   ]
  },
  {
   "cell_type": "code",
   "execution_count": 7,
   "id": "0936cd89",
   "metadata": {},
   "outputs": [
    {
     "name": "stdout",
     "output_type": "stream",
     "text": [
      "enter the state hereka\n",
      "enter the citygarden\n",
      "it's garden city\n"
     ]
    }
   ],
   "source": [
    "state=input(\"enter the state here\")\n",
    "if (state==\"ka\"):\n",
    "    city=input(\"enter the city\")\n",
    "    if (city==\"garden\"):\n",
    "        print(\"it's garden city\")\n",
    "    elif(city==\"mysore\"):\n",
    "        print(\"it's mysore\")\n",
    "    else:\n",
    "        print(\"invalid city\")\n",
    "elif (state==\"tn\"):\n",
    "    city=input(\"enter the city\")\n",
    "    if (city==\"medro city\"):\n",
    "        print(\"it's medro city\")\n",
    "    elif(city==\"marai\"):\n",
    "        print(\"it's marai\")\n",
    "    else:\n",
    "        print(\"invalid city\")\n",
    "\n",
    "     "
   ]
  },
  {
   "cell_type": "code",
   "execution_count": 9,
   "id": "e5bd3ef2",
   "metadata": {},
   "outputs": [
    {
     "name": "stdout",
     "output_type": "stream",
     "text": [
      "1\n",
      "2\n",
      "3\n",
      "4\n",
      "5\n"
     ]
    }
   ],
   "source": [
    "print(1)\n",
    "print(2)\n",
    "print(3)\n",
    "print(4)\n",
    "print(5)"
   ]
  },
  {
   "cell_type": "code",
   "execution_count": 10,
   "id": "24a84a9a",
   "metadata": {},
   "outputs": [
    {
     "name": "stdout",
     "output_type": "stream",
     "text": [
      "2\n",
      "5\n"
     ]
    }
   ],
   "source": [
    "i=1\n",
    "while (i<10):\n",
    "    i=i+1\n",
    "    print(i)\n",
    "    i=i*2\n",
    "    "
   ]
  },
  {
   "cell_type": "code",
   "execution_count": 1,
   "id": "acdd6734",
   "metadata": {},
   "outputs": [
    {
     "name": "stdout",
     "output_type": "stream",
     "text": [
      "1\n"
     ]
    }
   ],
   "source": [
    "a=1\n",
    "print(a)\n"
   ]
  },
  {
   "cell_type": "code",
   "execution_count": null,
   "id": "e4568253",
   "metadata": {},
   "outputs": [],
   "source": []
  }
 ],
 "metadata": {
  "kernelspec": {
   "display_name": "Python 3 (ipykernel)",
   "language": "python",
   "name": "python3"
  },
  "language_info": {
   "codemirror_mode": {
    "name": "ipython",
    "version": 3
   },
   "file_extension": ".py",
   "mimetype": "text/x-python",
   "name": "python",
   "nbconvert_exporter": "python",
   "pygments_lexer": "ipython3",
   "version": "3.11.3"
  }
 },
 "nbformat": 4,
 "nbformat_minor": 5
}
