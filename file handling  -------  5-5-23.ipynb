{
 "cells": [
  {
   "cell_type": "code",
   "execution_count": 19,
   "id": "45043d01",
   "metadata": {},
   "outputs": [],
   "source": [
    "#file handlings:-\n",
    "\n",
    "f=open(\"C:/Users/ELCOT/Videos/Mr kali/demo.txt\",\"r\")"
   ]
  },
  {
   "cell_type": "code",
   "execution_count": 20,
   "id": "e5123bc4",
   "metadata": {},
   "outputs": [],
   "source": [
    "data=f.read()"
   ]
  },
  {
   "cell_type": "code",
   "execution_count": 21,
   "id": "ae402914",
   "metadata": {},
   "outputs": [
    {
     "name": "stdout",
     "output_type": "stream",
     "text": [
      "I am smart\n",
      "I am learning python\n"
     ]
    }
   ],
   "source": [
    "print(data)"
   ]
  },
  {
   "cell_type": "code",
   "execution_count": 22,
   "id": "a6a53126",
   "metadata": {},
   "outputs": [],
   "source": [
    "f.close()"
   ]
  },
  {
   "cell_type": "code",
   "execution_count": 39,
   "id": "53044c7d",
   "metadata": {},
   "outputs": [],
   "source": [
    "f=open(\"C:/Users/ELCOT/Videos/Mr kali/demo1.txt\",\"w\")"
   ]
  },
  {
   "cell_type": "code",
   "execution_count": 40,
   "id": "0772dbf4",
   "metadata": {},
   "outputs": [
    {
     "data": {
      "text/plain": [
       "14"
      ]
     },
     "execution_count": 40,
     "metadata": {},
     "output_type": "execute_result"
    }
   ],
   "source": [
    "f.write(\"hi mr \\n\")\n",
    "f.write(\"i'm good \\n\")\n",
    "f.write(\"what about you\")"
   ]
  },
  {
   "cell_type": "code",
   "execution_count": 41,
   "id": "88475821",
   "metadata": {},
   "outputs": [],
   "source": [
    "f.close()"
   ]
  },
  {
   "cell_type": "code",
   "execution_count": 34,
   "id": "16861a5c",
   "metadata": {},
   "outputs": [],
   "source": [
    "f=open(\"C:/Users/ELCOT/Videos/Mr kali/demo.txt\",\"a\")"
   ]
  },
  {
   "cell_type": "code",
   "execution_count": 35,
   "id": "b6e97b1f",
   "metadata": {},
   "outputs": [
    {
     "data": {
      "text/plain": [
       "15"
      ]
     },
     "execution_count": 35,
     "metadata": {},
     "output_type": "execute_result"
    }
   ],
   "source": [
    "f.write(\"\\n hello mr \\n\")\n",
    "f.write(\"i'm also good \\n\")\n"
   ]
  },
  {
   "cell_type": "code",
   "execution_count": 36,
   "id": "6f24ff87",
   "metadata": {},
   "outputs": [],
   "source": [
    "f.close()"
   ]
  },
  {
   "cell_type": "code",
   "execution_count": 1,
   "id": "f990cf8a",
   "metadata": {},
   "outputs": [],
   "source": [
    "import os\n",
    "os.remove(\"C:/Users/ELCOT/Videos/Mr kali/demo1.txt\")"
   ]
  },
  {
   "cell_type": "code",
   "execution_count": 2,
   "id": "11d114ff",
   "metadata": {},
   "outputs": [],
   "source": [
    "f=open(\"C:/Users/ELCOT/Videos/Mr kali/demo111.txt\",\"a\")"
   ]
  },
  {
   "cell_type": "code",
   "execution_count": 3,
   "id": "40ff750f",
   "metadata": {},
   "outputs": [
    {
     "data": {
      "text/plain": [
       "15"
      ]
     },
     "execution_count": 3,
     "metadata": {},
     "output_type": "execute_result"
    }
   ],
   "source": [
    "f.write(\"\\n hello mr \\n\")\n",
    "f.write(\"i'm also good \\n\")"
   ]
  },
  {
   "cell_type": "code",
   "execution_count": 45,
   "id": "d6d75a9c",
   "metadata": {},
   "outputs": [],
   "source": [
    "f.close()"
   ]
  },
  {
   "cell_type": "code",
   "execution_count": 62,
   "id": "fed5e999",
   "metadata": {},
   "outputs": [
    {
     "ename": "AttributeError",
     "evalue": "module 'ntpath' has no attribute 'exist'",
     "output_type": "error",
     "traceback": [
      "\u001b[1;31m---------------------------------------------------------------------------\u001b[0m",
      "\u001b[1;31mAttributeError\u001b[0m                            Traceback (most recent call last)",
      "Cell \u001b[1;32mIn[62], line 2\u001b[0m\n\u001b[0;32m      1\u001b[0m \u001b[38;5;28;01mimport\u001b[39;00m \u001b[38;5;21;01mos\u001b[39;00m\n\u001b[1;32m----> 2\u001b[0m \u001b[38;5;28;01mif\u001b[39;00m \u001b[43mos\u001b[49m\u001b[38;5;241;43m.\u001b[39;49m\u001b[43mpath\u001b[49m\u001b[38;5;241;43m.\u001b[39;49m\u001b[43mexist\u001b[49m(\u001b[38;5;124m\"\u001b[39m\u001b[38;5;124mC:/Users/ELCOT/Videos/Mr kali/demo11.txt\u001b[39m\u001b[38;5;124m\"\u001b[39m):\n\u001b[0;32m      3\u001b[0m     os\u001b[38;5;241m.\u001b[39mremove(\u001b[38;5;124m\"\u001b[39m\u001b[38;5;124mC:/Users/ELCOT/Videos/Mr kali/demo11.txt\u001b[39m\u001b[38;5;124m\"\u001b[39m)\n\u001b[0;32m      4\u001b[0m \u001b[38;5;28;01melse\u001b[39;00m:\n",
      "\u001b[1;31mAttributeError\u001b[0m: module 'ntpath' has no attribute 'exist'"
     ]
    }
   ],
   "source": [
    "import os\n",
    "if os.path.exist(\"C:/Users/ELCOT/Videos/Mr kali/demo11.txt\"):\n",
    "    os.remove(\"C:/Users/ELCOT/Videos/Mr kali/demo11.txt\")\n",
    "else:\n",
    "    print(\"it's not exist\")"
   ]
  },
  {
   "cell_type": "code",
   "execution_count": 57,
   "id": "7b2564c2",
   "metadata": {},
   "outputs": [],
   "source": [
    "import os\n",
    "os.rmdir(\"C:/Users/ELCOT/Videos/Mr kali/empty\")"
   ]
  },
  {
   "cell_type": "code",
   "execution_count": 11,
   "id": "961d1685",
   "metadata": {},
   "outputs": [],
   "source": [
    "f=open(\"C:/Users/ELCOT/Documents/python class/check.txt\",\"r\")"
   ]
  },
  {
   "cell_type": "code",
   "execution_count": 12,
   "id": "f71c6121",
   "metadata": {},
   "outputs": [],
   "source": [
    "ch=f.read()"
   ]
  },
  {
   "cell_type": "code",
   "execution_count": 13,
   "id": "31c826ab",
   "metadata": {},
   "outputs": [
    {
     "name": "stdout",
     "output_type": "stream",
     "text": [
      "hi mr \n",
      "how are you\n"
     ]
    }
   ],
   "source": [
    "print(ch)"
   ]
  },
  {
   "cell_type": "code",
   "execution_count": 14,
   "id": "f5a6e0a2",
   "metadata": {},
   "outputs": [],
   "source": [
    "f.close()"
   ]
  },
  {
   "cell_type": "code",
   "execution_count": 15,
   "id": "5ae589e0",
   "metadata": {},
   "outputs": [],
   "source": [
    "import os\n",
    "os.remove(\"C:/Users/ELCOT/Documents/python class/check.txt\")"
   ]
  },
  {
   "cell_type": "code",
   "execution_count": 17,
   "id": "29104b41",
   "metadata": {},
   "outputs": [],
   "source": [
    "import os \n",
    "os.rmdir(\"C:/Users/ELCOT/Documents/python class/New folder\")"
   ]
  },
  {
   "cell_type": "code",
   "execution_count": null,
   "id": "1284ad6a",
   "metadata": {},
   "outputs": [],
   "source": [
    "f=open(\"C:/Users/ELCOT/Documents/python class/check.txt\",\"r\")"
   ]
  }
 ],
 "metadata": {
  "kernelspec": {
   "display_name": "Python 3 (ipykernel)",
   "language": "python",
   "name": "python3"
  },
  "language_info": {
   "codemirror_mode": {
    "name": "ipython",
    "version": 3
   },
   "file_extension": ".py",
   "mimetype": "text/x-python",
   "name": "python",
   "nbconvert_exporter": "python",
   "pygments_lexer": "ipython3",
   "version": "3.11.3"
  }
 },
 "nbformat": 4,
 "nbformat_minor": 5
}
