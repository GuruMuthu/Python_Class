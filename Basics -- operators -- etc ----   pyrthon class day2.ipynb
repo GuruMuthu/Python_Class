{
 "cells": [
  {
   "cell_type": "code",
   "execution_count": 7,
   "id": "a6a7c3ac",
   "metadata": {},
   "outputs": [
    {
     "name": "stdout",
     "output_type": "stream",
     "text": [
      "Type the operation : add / div / mul / subadd\n"
     ]
    }
   ],
   "source": [
    "class operation:\n",
    "    \n",
    "\n",
    "elif con == \"div\":\n",
    "    def div(*arg):\n",
    "        div = 0\n",
    "        for i in arg:\n",
    "            div -= i\n",
    "    div(1,2,3,4,5,6,7,8,9)\n",
    "\n",
    "\n",
    "\n",
    "\n",
    "\n",
    "\n"
   ]
  },
  {
   "cell_type": "code",
   "execution_count": 13,
   "id": "83700a1d",
   "metadata": {},
   "outputs": [
    {
     "name": "stdout",
     "output_type": "stream",
     "text": [
      "Type the operation : add / div / mul / subsub\n"
     ]
    },
    {
     "ename": "AttributeError",
     "evalue": "'op' object has no attribute 'add'",
     "output_type": "error",
     "traceback": [
      "\u001b[1;31m---------------------------------------------------------------------------\u001b[0m",
      "\u001b[1;31mAttributeError\u001b[0m                            Traceback (most recent call last)",
      "Cell \u001b[1;32mIn[13], line 35\u001b[0m\n\u001b[0;32m     29\u001b[0m         \u001b[38;5;28mprint\u001b[39m(\u001b[38;5;124m\"\u001b[39m\u001b[38;5;124mInvalid Operations\u001b[39m\u001b[38;5;124m\"\u001b[39m)\n\u001b[0;32m     32\u001b[0m ob\u001b[38;5;241m=\u001b[39mop()\n\u001b[1;32m---> 35\u001b[0m \u001b[43mob\u001b[49m\u001b[38;5;241;43m.\u001b[39;49m\u001b[43madd\u001b[49m(\u001b[38;5;241m1\u001b[39m,\u001b[38;5;241m2\u001b[39m,\u001b[38;5;241m3\u001b[39m,\u001b[38;5;241m4\u001b[39m,\u001b[38;5;241m5\u001b[39m,\u001b[38;5;241m6\u001b[39m,\u001b[38;5;241m7\u001b[39m,\u001b[38;5;241m8\u001b[39m,\u001b[38;5;241m9\u001b[39m)\n\u001b[0;32m     36\u001b[0m ob\u001b[38;5;241m.\u001b[39mdiv(\u001b[38;5;241m1\u001b[39m,\u001b[38;5;241m2\u001b[39m,\u001b[38;5;241m3\u001b[39m,\u001b[38;5;241m4\u001b[39m,\u001b[38;5;241m5\u001b[39m,\u001b[38;5;241m6\u001b[39m,\u001b[38;5;241m7\u001b[39m,\u001b[38;5;241m8\u001b[39m,\u001b[38;5;241m9\u001b[39m)\n\u001b[0;32m     37\u001b[0m ob\u001b[38;5;241m.\u001b[39mmul(\u001b[38;5;241m1\u001b[39m,\u001b[38;5;241m2\u001b[39m,\u001b[38;5;241m3\u001b[39m,\u001b[38;5;241m4\u001b[39m,\u001b[38;5;241m5\u001b[39m,\u001b[38;5;241m6\u001b[39m,\u001b[38;5;241m7\u001b[39m,\u001b[38;5;241m8\u001b[39m,\u001b[38;5;241m9\u001b[39m)\n",
      "\u001b[1;31mAttributeError\u001b[0m: 'op' object has no attribute 'add'"
     ]
    }
   ],
   "source": [
    "\n",
    "                \n",
    "                \n",
    "ob.add(1,2,3,4,5,6,7,8,9)\n",
    "ob.div(1,2,3,4,5,6,7,8,9)\n",
    "ob.mul(1,2,3,4,5,6,7,8,9)\n",
    "ob.sub(1,2,3,4,5,6,7,8,9)\n"
   ]
  },
  {
   "cell_type": "code",
   "execution_count": 9,
   "id": "ca20acaa",
   "metadata": {},
   "outputs": [
    {
     "data": {
      "text/plain": [
       "\"<class 'str'>\""
      ]
     },
     "execution_count": 9,
     "metadata": {},
     "output_type": "execute_result"
    }
   ],
   "source": [
    "print(type(a))"
   ]
  },
  {
   "cell_type": "code",
   "execution_count": 6,
   "id": "f122ff83",
   "metadata": {
    "scrolled": true
   },
   "outputs": [
    {
     "name": "stdout",
     "output_type": "stream",
     "text": [
      "enter the value of no1 :20\n",
      "enter the value of no2 :25\n"
     ]
    }
   ],
   "source": [
    "#getting two input:-\n",
    "a=input(\"enter the value of no1 :\")\n",
    "\n",
    "b=input(\"enter the value of no2 :\")\n"
   ]
  },
  {
   "cell_type": "code",
   "execution_count": 7,
   "id": "615c649c",
   "metadata": {},
   "outputs": [
    {
     "name": "stdout",
     "output_type": "stream",
     "text": [
      "45\n"
     ]
    }
   ],
   "source": [
    "#converting the data type and then adding it\n",
    "print(int(a)+int(b))"
   ]
  },
  {
   "cell_type": "code",
   "execution_count": 5,
   "id": "bc81b9c7",
   "metadata": {},
   "outputs": [
    {
     "name": "stdout",
     "output_type": "stream",
     "text": [
      "enter the namemuthu\n",
      "enter the placebangalore\n"
     ]
    }
   ],
   "source": [
    "#getting input:-\n",
    "name=input(\"enter the name\")\n",
    "place=input(\"enter the place\")"
   ]
  },
  {
   "cell_type": "code",
   "execution_count": 9,
   "id": "11fc649e",
   "metadata": {},
   "outputs": [
    {
     "name": "stdout",
     "output_type": "stream",
     "text": [
      "muthu bangalore\n"
     ]
    }
   ],
   "source": [
    "#mutiline comments:-\n",
    "print(name,place)"
   ]
  },
  {
   "cell_type": "code",
   "execution_count": 7,
   "id": "e8f2d251",
   "metadata": {},
   "outputs": [
    {
     "name": "stdout",
     "output_type": "stream",
     "text": [
      "im ram learning python\n"
     ]
    }
   ],
   "source": [
    "#format type:-\n",
    "print(\"im {} learning {}\".format(\"ram\",\"python\"))"
   ]
  },
  {
   "cell_type": "code",
   "execution_count": 13,
   "id": "26830048",
   "metadata": {},
   "outputs": [
    {
     "name": "stdout",
     "output_type": "stream",
     "text": [
      "im python learning ram\n"
     ]
    }
   ],
   "source": [
    "#format type:-\n",
    "print(\"im {} learning {}\".format(\"python\",\"ram\"))"
   ]
  },
  {
   "cell_type": "code",
   "execution_count": 7,
   "id": "e16dbcf7",
   "metadata": {},
   "outputs": [
    {
     "name": "stdout",
     "output_type": "stream",
     "text": [
      "20\n",
      "0\n",
      "100\n",
      "2\n"
     ]
    }
   ],
   "source": [
    "#operaters:-\n",
    "#operator means adding the variable,subtract the variable,and multiplying,and divission the value:-\n",
    "print(10+10)\n",
    "print(10-10)\n",
    "print(10*10)\n",
    "print(8%3)"
   ]
  },
  {
   "cell_type": "code",
   "execution_count": 12,
   "id": "e6b3ac1c",
   "metadata": {},
   "outputs": [
    {
     "name": "stdout",
     "output_type": "stream",
     "text": [
      "0\n",
      "7\n"
     ]
    }
   ],
   "source": [
    "#bitwise operater:-\n",
    "print(5&2)\n",
    "print(5|2)"
   ]
  },
  {
   "cell_type": "code",
   "execution_count": 11,
   "id": "7caf107f",
   "metadata": {},
   "outputs": [
    {
     "name": "stdout",
     "output_type": "stream",
     "text": [
      "10\n",
      "2\n"
     ]
    }
   ],
   "source": [
    "#bitwise operater:-\n",
    "print(10|2)\n",
    "print(10&2)"
   ]
  },
  {
   "cell_type": "code",
   "execution_count": 10,
   "id": "4b7ec820",
   "metadata": {},
   "outputs": [
    {
     "name": "stdout",
     "output_type": "stream",
     "text": [
      "8\n"
     ]
    }
   ],
   "source": [
    "#bitwise operater:-\n",
    "print(1000&10)"
   ]
  },
  {
   "cell_type": "code",
   "execution_count": null,
   "id": "95a6dd55",
   "metadata": {},
   "outputs": [],
   "source": []
  },
  {
   "cell_type": "code",
   "execution_count": 19,
   "id": "ad302038",
   "metadata": {},
   "outputs": [
    {
     "name": "stdout",
     "output_type": "stream",
     "text": [
      "4\n"
     ]
    }
   ],
   "source": [
    "#power:-\n",
    "print(2**2)"
   ]
  },
  {
   "cell_type": "code",
   "execution_count": 20,
   "id": "6ee5296e",
   "metadata": {},
   "outputs": [
    {
     "name": "stdout",
     "output_type": "stream",
     "text": [
      "9\n"
     ]
    }
   ],
   "source": [
    "#power:-\n",
    "print(3**2)"
   ]
  },
  {
   "cell_type": "code",
   "execution_count": 21,
   "id": "6c3bdbeb",
   "metadata": {},
   "outputs": [
    {
     "name": "stdout",
     "output_type": "stream",
     "text": [
      "125\n"
     ]
    }
   ],
   "source": [
    "#power:-\n",
    "print(5**3)"
   ]
  },
  {
   "cell_type": "code",
   "execution_count": 22,
   "id": "4909092f",
   "metadata": {},
   "outputs": [
    {
     "name": "stdout",
     "output_type": "stream",
     "text": [
      "False\n"
     ]
    }
   ],
   "source": [
    "#assignment operater:-\n",
    "a=10\n",
    "\n",
    "\n",
    "#comparission operator:-\n",
    "#to find equal to\n",
    "a=10\n",
    "b=20\n",
    "c=10\n",
    "print(a==b)\n"
   ]
  },
  {
   "cell_type": "code",
   "execution_count": 24,
   "id": "5698ff32",
   "metadata": {},
   "outputs": [
    {
     "name": "stdout",
     "output_type": "stream",
     "text": [
      "True\n"
     ]
    }
   ],
   "source": [
    "#to find equal to\n",
    "print(a==c)"
   ]
  },
  {
   "cell_type": "code",
   "execution_count": 25,
   "id": "f4981d92",
   "metadata": {},
   "outputs": [
    {
     "name": "stdout",
     "output_type": "stream",
     "text": [
      "True\n"
     ]
    }
   ],
   "source": [
    "#comparission operator:-\n",
    "#to find not equalto\n",
    "\n",
    "print(a!=b)\n"
   ]
  },
  {
   "cell_type": "code",
   "execution_count": 26,
   "id": "4d6805da",
   "metadata": {
    "scrolled": true
   },
   "outputs": [
    {
     "name": "stdout",
     "output_type": "stream",
     "text": [
      "False\n"
     ]
    }
   ],
   "source": [
    "#comparission operator:-\n",
    "#to find not equal to:-\n",
    "print(a!=c)"
   ]
  },
  {
   "cell_type": "code",
   "execution_count": 8,
   "id": "e83e2729",
   "metadata": {},
   "outputs": [
    {
     "name": "stdout",
     "output_type": "stream",
     "text": [
      "True\n",
      "False\n",
      "False\n",
      "True\n"
     ]
    }
   ],
   "source": [
    "#comparission operatorL:-\n",
    "#to find lessthan or,greaterthan or,greaterthan or equalto,lessthan or equalto ( < or > or >= or <= )\n",
    "a=10\n",
    "b=20\n",
    "print(a<b)\n",
    "print(a>b)\n",
    "print(a>=b)\n",
    "print(a<=b)\n"
   ]
  },
  {
   "cell_type": "code",
   "execution_count": 12,
   "id": "b27aa724",
   "metadata": {},
   "outputs": [],
   "source": [
    "#logical operators:-\n",
    "#!) and\n",
    "#!!) or\n",
    "#!!!) not\n"
   ]
  },
  {
   "cell_type": "code",
   "execution_count": 11,
   "id": "7b29c889",
   "metadata": {},
   "outputs": [
    {
     "name": "stdout",
     "output_type": "stream",
     "text": [
      "0\n",
      "2\n",
      "14\n"
     ]
    }
   ],
   "source": [
    "#bitwise operator:-\n",
    "#example code for bitwise operator (%- it means bitwise operator)\n",
    "print(10%5)\n",
    "\n",
    "\n",
    "#bitwise &,| operator:-\n",
    "#example code for biwise & operator (&- it means bitwise and operator)\n",
    "print(10&6)\n",
    "\n",
    "#example code for biwise | operator (|- it means bitwise or operator)\n",
    "print(10|6)"
   ]
  },
  {
   "cell_type": "code",
   "execution_count": 12,
   "id": "77023c61",
   "metadata": {},
   "outputs": [
    {
     "data": {
      "text/plain": [
       "1.6666666666666667"
      ]
     },
     "execution_count": 12,
     "metadata": {},
     "output_type": "execute_result"
    }
   ],
   "source": [
    "5/3"
   ]
  },
  {
   "cell_type": "markdown",
   "id": "9b27dc1a",
   "metadata": {},
   "source": [
    "4/2"
   ]
  },
  {
   "cell_type": "code",
   "execution_count": 2,
   "id": "387c10ae",
   "metadata": {},
   "outputs": [
    {
     "data": {
      "text/plain": [
       "2.0"
      ]
     },
     "execution_count": 2,
     "metadata": {},
     "output_type": "execute_result"
    }
   ],
   "source": [
    "4/2"
   ]
  },
  {
   "cell_type": "code",
   "execution_count": 3,
   "id": "53795c19",
   "metadata": {},
   "outputs": [
    {
     "data": {
      "text/plain": [
       "2"
      ]
     },
     "execution_count": 3,
     "metadata": {},
     "output_type": "execute_result"
    }
   ],
   "source": [
    "4//2"
   ]
  },
  {
   "cell_type": "code",
   "execution_count": 14,
   "id": "b13781de",
   "metadata": {},
   "outputs": [
    {
     "data": {
      "text/plain": [
       "2.5"
      ]
     },
     "execution_count": 14,
     "metadata": {},
     "output_type": "execute_result"
    }
   ],
   "source": [
    "5/2"
   ]
  },
  {
   "cell_type": "code",
   "execution_count": null,
   "id": "7f91af8f",
   "metadata": {},
   "outputs": [],
   "source": []
  }
 ],
 "metadata": {
  "kernelspec": {
   "display_name": "Python 3 (ipykernel)",
   "language": "python",
   "name": "python3"
  },
  "language_info": {
   "codemirror_mode": {
    "name": "ipython",
    "version": 3
   },
   "file_extension": ".py",
   "mimetype": "text/x-python",
   "name": "python",
   "nbconvert_exporter": "python",
   "pygments_lexer": "ipython3",
   "version": "3.11.3"
  }
 },
 "nbformat": 4,
 "nbformat_minor": 5
}
