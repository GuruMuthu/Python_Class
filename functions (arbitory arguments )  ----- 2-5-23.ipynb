{
 "cells": [
  {
   "cell_type": "code",
   "execution_count": 6,
   "id": "13538618",
   "metadata": {},
   "outputs": [
    {
     "name": "stdout",
     "output_type": "stream",
     "text": [
      "5\n",
      "hello\n",
      "5\n",
      "hello\n",
      "5\n",
      "hello\n"
     ]
    }
   ],
   "source": [
    "def calc():\n",
    "    print(2+3)\n",
    "    print(\"hello\")\n",
    "calc()\n",
    "calc()\n",
    "calc()"
   ]
  },
  {
   "cell_type": "code",
   "execution_count": 14,
   "id": "8e80e41d",
   "metadata": {},
   "outputs": [
    {
     "name": "stdout",
     "output_type": "stream",
     "text": [
      "5\n"
     ]
    },
    {
     "ename": "TypeError",
     "evalue": "calc() takes 2 positional arguments but 3 were given",
     "output_type": "error",
     "traceback": [
      "\u001b[1;31m---------------------------------------------------------------------------\u001b[0m",
      "\u001b[1;31mTypeError\u001b[0m                                 Traceback (most recent call last)",
      "Cell \u001b[1;32mIn[14], line 4\u001b[0m\n\u001b[0;32m      2\u001b[0m     \u001b[38;5;28mprint\u001b[39m(a\u001b[38;5;241m+\u001b[39mb)\n\u001b[0;32m      3\u001b[0m calc(\u001b[38;5;241m2\u001b[39m,\u001b[38;5;241m3\u001b[39m) \n\u001b[1;32m----> 4\u001b[0m \u001b[43mcalc\u001b[49m\u001b[43m(\u001b[49m\u001b[38;5;241;43m2\u001b[39;49m\u001b[43m,\u001b[49m\u001b[38;5;241;43m3\u001b[39;49m\u001b[43m,\u001b[49m\u001b[38;5;241;43m4\u001b[39;49m\u001b[43m)\u001b[49m\n\u001b[0;32m      5\u001b[0m calc(\u001b[38;5;241m2\u001b[39m)\n",
      "\u001b[1;31mTypeError\u001b[0m: calc() takes 2 positional arguments but 3 were given"
     ]
    }
   ],
   "source": [
    "def calc(a,b):\n",
    "    print(a+b)\n",
    "calc(2,3) \n",
    "calc(2,3,4)\n",
    "calc(2)"
   ]
  },
  {
   "cell_type": "code",
   "execution_count": 18,
   "id": "7bb9ea48",
   "metadata": {},
   "outputs": [
    {
     "ename": "TypeError",
     "evalue": "can only concatenate str (not \"int\") to str",
     "output_type": "error",
     "traceback": [
      "\u001b[1;31m---------------------------------------------------------------------------\u001b[0m",
      "\u001b[1;31mTypeError\u001b[0m                                 Traceback (most recent call last)",
      "Cell \u001b[1;32mIn[18], line 3\u001b[0m\n\u001b[0;32m      1\u001b[0m \u001b[38;5;28;01mdef\u001b[39;00m \u001b[38;5;21mcalc\u001b[39m(a,b):\n\u001b[0;32m      2\u001b[0m     \u001b[38;5;28mprint\u001b[39m(a\u001b[38;5;241m+\u001b[39mb)\n\u001b[1;32m----> 3\u001b[0m \u001b[43mcalc\u001b[49m\u001b[43m(\u001b[49m\u001b[38;5;124;43m\"\u001b[39;49m\u001b[38;5;124;43mh\u001b[39;49m\u001b[38;5;124;43m\"\u001b[39;49m\u001b[43m,\u001b[49m\u001b[38;5;241;43m1\u001b[39;49m\u001b[43m)\u001b[49m\n",
      "Cell \u001b[1;32mIn[18], line 2\u001b[0m, in \u001b[0;36mcalc\u001b[1;34m(a, b)\u001b[0m\n\u001b[0;32m      1\u001b[0m \u001b[38;5;28;01mdef\u001b[39;00m \u001b[38;5;21mcalc\u001b[39m(a,b):\n\u001b[1;32m----> 2\u001b[0m     \u001b[38;5;28mprint\u001b[39m(\u001b[43ma\u001b[49m\u001b[38;5;241;43m+\u001b[39;49m\u001b[43mb\u001b[49m)\n",
      "\u001b[1;31mTypeError\u001b[0m: can only concatenate str (not \"int\") to str"
     ]
    }
   ],
   "source": [
    "def calc(a,b):\n",
    "    print(a+b)\n",
    "calc(\"h\",1)"
   ]
  },
  {
   "cell_type": "code",
   "execution_count": 17,
   "id": "22224599",
   "metadata": {},
   "outputs": [
    {
     "name": "stdout",
     "output_type": "stream",
     "text": [
      "hhello\n"
     ]
    }
   ],
   "source": [
    "def calc(a,b):\n",
    "    print(a+b)\n",
    "calc(\"h\",\"hello\")"
   ]
  },
  {
   "cell_type": "code",
   "execution_count": 4,
   "id": "14ffb0ad",
   "metadata": {},
   "outputs": [],
   "source": [
    "def calculator(num1,oper=\"+\",num2=2):\n",
    "    if (oper==\"+\"):\n",
    "        print(num1+num2)\n",
    "    elif (oper==\"-\"):\n",
    "        print(num1-num2)\n",
    "    elif (oper==\"*\"):\n",
    "        print(num1*num2)\n",
    "    elif (oper==\"%\"):\n",
    "        print(num1%num2)\n",
    "    else:\n",
    "        print(\"oper not exist\")      "
   ]
  },
  {
   "cell_type": "code",
   "execution_count": 5,
   "id": "89566e3d",
   "metadata": {},
   "outputs": [
    {
     "name": "stdout",
     "output_type": "stream",
     "text": [
      "-2\n"
     ]
    }
   ],
   "source": [
    "calculator(1,\"-\",3)"
   ]
  },
  {
   "cell_type": "code",
   "execution_count": 32,
   "id": "4a10f02d",
   "metadata": {},
   "outputs": [
    {
     "name": "stdout",
     "output_type": "stream",
     "text": [
      "oper not exist\n"
     ]
    }
   ],
   "source": [
    "calculator(28,\"/\",23)"
   ]
  },
  {
   "cell_type": "code",
   "execution_count": 38,
   "id": "cc478833",
   "metadata": {},
   "outputs": [
    {
     "name": "stdout",
     "output_type": "stream",
     "text": [
      "644\n"
     ]
    }
   ],
   "source": [
    "calculator(28,\"*\",23)"
   ]
  },
  {
   "cell_type": "code",
   "execution_count": 6,
   "id": "9604d216",
   "metadata": {},
   "outputs": [
    {
     "name": "stdout",
     "output_type": "stream",
     "text": [
      "mysore\n",
      "madurai\n"
     ]
    }
   ],
   "source": [
    "def country(city=\"madurai\"):\n",
    "    print(city)\n",
    "country(\"mysore\")\n",
    "country()"
   ]
  },
  {
   "cell_type": "code",
   "execution_count": 51,
   "id": "2488f126",
   "metadata": {},
   "outputs": [
    {
     "name": "stdout",
     "output_type": "stream",
     "text": [
      "chennai\n",
      "madurai\n"
     ]
    }
   ],
   "source": [
    "country(\"chennai\")\n",
    "country()\n"
   ]
  },
  {
   "cell_type": "code",
   "execution_count": 49,
   "id": "fc6a8bda",
   "metadata": {},
   "outputs": [
    {
     "name": "stdout",
     "output_type": "stream",
     "text": [
      "4\n"
     ]
    }
   ],
   "source": [
    "calculator(2)"
   ]
  },
  {
   "cell_type": "code",
   "execution_count": 53,
   "id": "0fba693f",
   "metadata": {},
   "outputs": [
    {
     "name": "stdout",
     "output_type": "stream",
     "text": [
      "sum is 5\n"
     ]
    }
   ],
   "source": [
    "def ret(a,b):\n",
    "     return a+b\n",
    "val=ret(2,3)\n",
    "print(\"sum is\",val)"
   ]
  },
  {
   "cell_type": "code",
   "execution_count": 1,
   "id": "c407d905",
   "metadata": {},
   "outputs": [],
   "source": [
    "def sum1(a,b):\n",
    "    print(a*b)\n"
   ]
  },
  {
   "cell_type": "code",
   "execution_count": 2,
   "id": "310434cd",
   "metadata": {},
   "outputs": [
    {
     "name": "stdout",
     "output_type": "stream",
     "text": [
      "18\n",
      "None\n"
     ]
    }
   ],
   "source": [
    "inp=sum1(3,6)\n",
    "print(inp)"
   ]
  },
  {
   "cell_type": "code",
   "execution_count": 3,
   "id": "ce84d6be",
   "metadata": {},
   "outputs": [],
   "source": [
    "#arbitary arguments:-\n",
    "def name(*child):\n",
    "    print(child)"
   ]
  },
  {
   "cell_type": "code",
   "execution_count": 66,
   "id": "d8254d15",
   "metadata": {},
   "outputs": [
    {
     "name": "stdout",
     "output_type": "stream",
     "text": [
      "('ram', 'raj', 'kumar')\n"
     ]
    }
   ],
   "source": [
    "name(\"ram\",\"raj\",\"kumar\")"
   ]
  },
  {
   "cell_type": "code",
   "execution_count": 68,
   "id": "1c5e2cd7",
   "metadata": {},
   "outputs": [],
   "source": [
    "def name(*child):\n",
    "    for i in child:\n",
    "          print(i)\n",
    "    "
   ]
  },
  {
   "cell_type": "code",
   "execution_count": 71,
   "id": "cd3af826",
   "metadata": {},
   "outputs": [
    {
     "name": "stdout",
     "output_type": "stream",
     "text": [
      "h\n",
      "j\n",
      "e\n",
      "k\n",
      "q\n",
      "g\n"
     ]
    }
   ],
   "source": [
    "name(\"h\",\"j\",\"e\",\"k\",\"q\",\"g\")"
   ]
  },
  {
   "cell_type": "code",
   "execution_count": 72,
   "id": "759b4461",
   "metadata": {},
   "outputs": [],
   "source": [
    "def child(child1,child3,child2):\n",
    "    print(child1,child2,child3)"
   ]
  },
  {
   "cell_type": "code",
   "execution_count": 73,
   "id": "45f4c888",
   "metadata": {},
   "outputs": [
    {
     "name": "stdout",
     "output_type": "stream",
     "text": [
      "ram raju kumar\n"
     ]
    }
   ],
   "source": [
    "#arbitory arguments using key value\n",
    "child(child1=\"ram\",child2=\"raju\",child3=\"kumar\")"
   ]
  },
  {
   "cell_type": "code",
   "execution_count": 77,
   "id": "5fddd3fb",
   "metadata": {},
   "outputs": [],
   "source": [
    "def child(**child):\n",
    "    print(child)"
   ]
  },
  {
   "cell_type": "code",
   "execution_count": 79,
   "id": "a70f5cbc",
   "metadata": {},
   "outputs": [
    {
     "name": "stdout",
     "output_type": "stream",
     "text": [
      "{'child1': 'raj', 'child2': 'ram', 'child3': 'guru'}\n"
     ]
    }
   ],
   "source": [
    "child(child1=\"raj\",child2=\"ram\",child3=\"guru\")"
   ]
  },
  {
   "cell_type": "code",
   "execution_count": 9,
   "id": "f534267e",
   "metadata": {},
   "outputs": [],
   "source": [
    "def ret(a,b):\n",
    "    print(a+b)"
   ]
  },
  {
   "cell_type": "code",
   "execution_count": 10,
   "id": "e9fd1a38",
   "metadata": {},
   "outputs": [
    {
     "name": "stdout",
     "output_type": "stream",
     "text": [
      "5\n"
     ]
    }
   ],
   "source": [
    "ret(2,3)"
   ]
  },
  {
   "cell_type": "code",
   "execution_count": 11,
   "id": "39544b42",
   "metadata": {},
   "outputs": [],
   "source": [
    "def ret(a,b):\n",
    "    print(a+b)"
   ]
  },
  {
   "cell_type": "code",
   "execution_count": 12,
   "id": "e76ca34c",
   "metadata": {},
   "outputs": [
    {
     "name": "stdout",
     "output_type": "stream",
     "text": [
      "5\n",
      "None\n"
     ]
    }
   ],
   "source": [
    "val=ret(2,3)\n",
    "print(val)"
   ]
  },
  {
   "cell_type": "code",
   "execution_count": 13,
   "id": "5f72bfe2",
   "metadata": {},
   "outputs": [
    {
     "name": "stdout",
     "output_type": "stream",
     "text": [
      "3\n"
     ]
    }
   ],
   "source": [
    "num=print(1+2)"
   ]
  },
  {
   "cell_type": "code",
   "execution_count": 14,
   "id": "b3626898",
   "metadata": {},
   "outputs": [
    {
     "name": "stdout",
     "output_type": "stream",
     "text": [
      "None\n"
     ]
    }
   ],
   "source": [
    "print(num)"
   ]
  },
  {
   "cell_type": "code",
   "execution_count": null,
   "id": "99ea60ac",
   "metadata": {},
   "outputs": [],
   "source": []
  }
 ],
 "metadata": {
  "kernelspec": {
   "display_name": "Python 3 (ipykernel)",
   "language": "python",
   "name": "python3"
  },
  "language_info": {
   "codemirror_mode": {
    "name": "ipython",
    "version": 3
   },
   "file_extension": ".py",
   "mimetype": "text/x-python",
   "name": "python",
   "nbconvert_exporter": "python",
   "pygments_lexer": "ipython3",
   "version": "3.11.3"
  }
 },
 "nbformat": 4,
 "nbformat_minor": 5
}
