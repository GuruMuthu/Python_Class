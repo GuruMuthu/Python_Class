{
 "cells": [
  {
   "cell_type": "code",
   "execution_count": 1,
   "id": "f8564117",
   "metadata": {},
   "outputs": [
    {
     "name": "stdout",
     "output_type": "stream",
     "text": [
      "10\n",
      "20\n",
      "30\n",
      "40\n"
     ]
    }
   ],
   "source": [
    "a=[10,20,30,40]\n",
    "for i in a:\n",
    "    print(i)"
   ]
  },
  {
   "cell_type": "code",
   "execution_count": 1,
   "id": "c4cf98ae",
   "metadata": {},
   "outputs": [
    {
     "name": "stdout",
     "output_type": "stream",
     "text": [
      "apple\n"
     ]
    }
   ],
   "source": [
    "# Iterations:-  (The iterators related with for-loops)\n",
    "\n",
    "mytuple = (\"apple\",\"banana\",\"cherry\")\n",
    "myit = iter(mytuple)\n",
    "print(next(myit))"
   ]
  },
  {
   "cell_type": "code",
   "execution_count": 2,
   "id": "2ab67d18",
   "metadata": {},
   "outputs": [
    {
     "name": "stdout",
     "output_type": "stream",
     "text": [
      "banana\n"
     ]
    }
   ],
   "source": [
    "print(next(myit))"
   ]
  },
  {
   "cell_type": "code",
   "execution_count": 3,
   "id": "d20ce301",
   "metadata": {},
   "outputs": [
    {
     "name": "stdout",
     "output_type": "stream",
     "text": [
      "cherry\n"
     ]
    }
   ],
   "source": [
    "print(next(myit))"
   ]
  },
  {
   "cell_type": "code",
   "execution_count": 6,
   "id": "93e58402",
   "metadata": {},
   "outputs": [
    {
     "name": "stdout",
     "output_type": "stream",
     "text": [
      "apple\n",
      "hi\n",
      "banana\n",
      "5\n",
      "cherry\n",
      "done\n"
     ]
    }
   ],
   "source": [
    "# Iterations:-  (The iterators related with for-loops)\n",
    "mytuple = (\"apple\",\"banana\",\"cherry\")\n",
    "myit = iter(mytuple)\n",
    "print(next(myit))\n",
    "print(\"hi\")\n",
    "print(next(myit))\n",
    "print(2+3)\n",
    "print(next(myit))\n",
    "print(\"done\")"
   ]
  },
  {
   "cell_type": "code",
   "execution_count": 2,
   "id": "6befcf82",
   "metadata": {},
   "outputs": [
    {
     "name": "stdout",
     "output_type": "stream",
     "text": [
      "5\n"
     ]
    },
    {
     "data": {
      "text/plain": [
       "9"
      ]
     },
     "execution_count": 2,
     "metadata": {},
     "output_type": "execute_result"
    }
   ],
   "source": [
    "def total():\n",
    "    print( 2+3)\n",
    "    return 4+5\n",
    "         \n",
    "total()"
   ]
  },
  {
   "cell_type": "code",
   "execution_count": 7,
   "id": "194629b0",
   "metadata": {},
   "outputs": [],
   "source": [
    "# genarator :-   (The generators related with functions)\n",
    "y=7\n",
    "def total():\n",
    "    yield y+10\n",
    "    yield y+4\n",
    "    yield y+10"
   ]
  },
  {
   "cell_type": "code",
   "execution_count": 8,
   "id": "d9b9edbc",
   "metadata": {},
   "outputs": [
    {
     "name": "stdout",
     "output_type": "stream",
     "text": [
      "17\n"
     ]
    }
   ],
   "source": [
    "x=total()\n",
    "print(next(x))"
   ]
  },
  {
   "cell_type": "code",
   "execution_count": 9,
   "id": "14830ff7",
   "metadata": {},
   "outputs": [
    {
     "name": "stdout",
     "output_type": "stream",
     "text": [
      "11\n"
     ]
    }
   ],
   "source": [
    "print(next(x))"
   ]
  },
  {
   "cell_type": "code",
   "execution_count": 10,
   "id": "f0b8596d",
   "metadata": {},
   "outputs": [
    {
     "name": "stdout",
     "output_type": "stream",
     "text": [
      "17\n"
     ]
    }
   ],
   "source": [
    "print(next(x))"
   ]
  },
  {
   "cell_type": "code",
   "execution_count": 16,
   "id": "0af0b231",
   "metadata": {},
   "outputs": [
    {
     "name": "stdout",
     "output_type": "stream",
     "text": [
      "12\n"
     ]
    }
   ],
   "source": [
    "def total():\n",
    "    return 2+10\n",
    "    return 2+15\n",
    "    return 2+16\n",
    "\n",
    "print(total())\n",
    "         "
   ]
  },
  {
   "cell_type": "code",
   "execution_count": 17,
   "id": "22b2531d",
   "metadata": {},
   "outputs": [
    {
     "name": "stdout",
     "output_type": "stream",
     "text": [
      "12\n"
     ]
    }
   ],
   "source": [
    "print(total())"
   ]
  },
  {
   "cell_type": "code",
   "execution_count": 18,
   "id": "01884651",
   "metadata": {},
   "outputs": [
    {
     "name": "stdout",
     "output_type": "stream",
     "text": [
      "12\n"
     ]
    }
   ],
   "source": [
    "print(total())"
   ]
  },
  {
   "cell_type": "code",
   "execution_count": 27,
   "id": "298fc013",
   "metadata": {},
   "outputs": [
    {
     "name": "stdout",
     "output_type": "stream",
     "text": [
      "MUTHU\n",
      "muthu\n"
     ]
    }
   ],
   "source": [
    "# Decorator :-  (temporarily decorate the functions or classes)\n",
    "\n",
    "def shout(text):\n",
    "    return text.upper()\n",
    "\n",
    "def whisper(text):\n",
    "    return text.lower()\n",
    "\n",
    "print(shout(\"muthu\"))\n",
    "\n",
    "print(whisper(\"MUTHU\"))\n",
    "\n"
   ]
  },
  {
   "cell_type": "code",
   "execution_count": 33,
   "id": "0d765b3c",
   "metadata": {},
   "outputs": [],
   "source": [
    "def greet(func):\n",
    "    print(\"hi mr,how is going on your studies\")\n",
    "    greeting=func(\"\"\"hi hello im good and you and your family....?\"\"\")\n",
    "    print(greeting)\n",
    "    \n"
   ]
  },
  {
   "cell_type": "code",
   "execution_count": 37,
   "id": "2f10e957",
   "metadata": {},
   "outputs": [
    {
     "name": "stdout",
     "output_type": "stream",
     "text": [
      "hi mr,how is going on your studies\n",
      "HI HELLO IM GOOD AND YOU AND YOUR FAMILY....?\n",
      "hi mr,how is going on your studies\n",
      "hi hello im good and you and your family....?\n"
     ]
    }
   ],
   "source": [
    "greet(shout)\n",
    "greet(whisper)"
   ]
  },
  {
   "cell_type": "code",
   "execution_count": 11,
   "id": "e9a22f25",
   "metadata": {},
   "outputs": [],
   "source": [
    "def ordinary():\n",
    "    print(\"i am ordinary\")\n",
    "    \n",
    "def make_pretty(func):\n",
    "    def inner():\n",
    "        print(\"i got decorated\")\n",
    "        func()\n",
    "        print(\"done\")\n",
    "   "
   ]
  },
  {
   "cell_type": "code",
   "execution_count": 15,
   "id": "d33713c5",
   "metadata": {},
   "outputs": [
    {
     "ename": "TypeError",
     "evalue": "make_pretty() missing 1 required positional argument: 'func'",
     "output_type": "error",
     "traceback": [
      "\u001b[1;31m---------------------------------------------------------------------------\u001b[0m",
      "\u001b[1;31mTypeError\u001b[0m                                 Traceback (most recent call last)",
      "Cell \u001b[1;32mIn[15], line 1\u001b[0m\n\u001b[1;32m----> 1\u001b[0m \u001b[43mmake_pretty\u001b[49m\u001b[43m(\u001b[49m\u001b[43m)\u001b[49m\n",
      "\u001b[1;31mTypeError\u001b[0m: make_pretty() missing 1 required positional argument: 'func'"
     ]
    }
   ],
   "source": [
    "dec_func = make_pretty(ordinary)\n",
    "dec_func()"
   ]
  },
  {
   "cell_type": "code",
   "execution_count": 42,
   "id": "2033912b",
   "metadata": {},
   "outputs": [
    {
     "name": "stdout",
     "output_type": "stream",
     "text": [
      "i got decorated\n",
      "im alway good boy\n",
      "done\n"
     ]
    }
   ],
   "source": [
    "@make_pretty\n",
    "def muthu():\n",
    "    print(\"im alway good boy\")\n",
    "    \n",
    "muthu()"
   ]
  },
  {
   "cell_type": "code",
   "execution_count": null,
   "id": "b5f8d099",
   "metadata": {},
   "outputs": [],
   "source": []
  },
  {
   "cell_type": "code",
   "execution_count": null,
   "id": "cfe7a01b",
   "metadata": {},
   "outputs": [],
   "source": []
  },
  {
   "cell_type": "code",
   "execution_count": null,
   "id": "cfe81f5e",
   "metadata": {},
   "outputs": [],
   "source": []
  }
 ],
 "metadata": {
  "kernelspec": {
   "display_name": "Python 3 (ipykernel)",
   "language": "python",
   "name": "python3"
  },
  "language_info": {
   "codemirror_mode": {
    "name": "ipython",
    "version": 3
   },
   "file_extension": ".py",
   "mimetype": "text/x-python",
   "name": "python",
   "nbconvert_exporter": "python",
   "pygments_lexer": "ipython3",
   "version": "3.11.3"
  }
 },
 "nbformat": 4,
 "nbformat_minor": 5
}
