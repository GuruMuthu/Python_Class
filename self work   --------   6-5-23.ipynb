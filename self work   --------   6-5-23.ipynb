{
 "cells": [
  {
   "cell_type": "code",
   "execution_count": null,
   "id": "7848bd6c",
   "metadata": {},
   "outputs": [],
   "source": [
    "\n"
   ]
  },
  {
   "cell_type": "code",
   "execution_count": null,
   "id": "b3689569",
   "metadata": {},
   "outputs": [],
   "source": []
  },
  {
   "cell_type": "code",
   "execution_count": 19,
   "id": "bd1c5c4a",
   "metadata": {},
   "outputs": [
    {
     "name": "stdout",
     "output_type": "stream",
     "text": [
      "22\n"
     ]
    }
   ],
   "source": [
    "print(75%53)"
   ]
  },
  {
   "cell_type": "code",
   "execution_count": 20,
   "id": "d73da8ce",
   "metadata": {},
   "outputs": [
    {
     "name": "stdout",
     "output_type": "stream",
     "text": [
      "0\n"
     ]
    }
   ],
   "source": [
    "print(2&1)"
   ]
  },
  {
   "cell_type": "code",
   "execution_count": 21,
   "id": "bb2a2db4",
   "metadata": {},
   "outputs": [
    {
     "name": "stdout",
     "output_type": "stream",
     "text": [
      "8\n"
     ]
    }
   ],
   "source": [
    "print(10&8)"
   ]
  },
  {
   "cell_type": "code",
   "execution_count": 22,
   "id": "c275568e",
   "metadata": {},
   "outputs": [
    {
     "name": "stdout",
     "output_type": "stream",
     "text": [
      "10\n"
     ]
    }
   ],
   "source": [
    "print(10|8)"
   ]
  },
  {
   "cell_type": "code",
   "execution_count": 23,
   "id": "701f1409",
   "metadata": {},
   "outputs": [
    {
     "name": "stdout",
     "output_type": "stream",
     "text": [
      "1\n"
     ]
    }
   ],
   "source": [
    "print(13&33)"
   ]
  },
  {
   "cell_type": "code",
   "execution_count": 43,
   "id": "f1dbbd6a",
   "metadata": {},
   "outputs": [
    {
     "name": "stdout",
     "output_type": "stream",
     "text": [
      "14\n"
     ]
    }
   ],
   "source": [
    "print(45%31)"
   ]
  },
  {
   "cell_type": "code",
   "execution_count": 75,
   "id": "9dded841",
   "metadata": {},
   "outputs": [
    {
     "name": "stdout",
     "output_type": "stream",
     "text": [
      "['muthu', 'ram', 5, 3, 7, 2, 2, 6, 78, 'muthu']\n"
     ]
    }
   ],
   "source": [
    "a=[\"muthu\",\"ram\",7,5,3,7,2,2,6,78, \"muthu\"]\n",
    "a.remove(7)\n",
    "print(a)"
   ]
  },
  {
   "cell_type": "code",
   "execution_count": 16,
   "id": "13f93e0d",
   "metadata": {},
   "outputs": [
    {
     "name": "stdout",
     "output_type": "stream",
     "text": [
      "[0, 1, 2, 3, 4, 5, 6, 7, 8, 9]\n"
     ]
    }
   ],
   "source": [
    "# comprehensions:-\n",
    "\n",
    "k = [i for i in range(10)]\n",
    "print(k)"
   ]
  },
  {
   "cell_type": "code",
   "execution_count": 1,
   "id": "562fc86b",
   "metadata": {},
   "outputs": [
    {
     "name": "stdout",
     "output_type": "stream",
     "text": [
      "7\n"
     ]
    }
   ],
   "source": [
    "# LAMBDA FUNCTION :-\n",
    "\n",
    "a = lambda q,w,e : q+w\n",
    "print(a(3,4,2))"
   ]
  },
  {
   "cell_type": "code",
   "execution_count": 26,
   "id": "e33ab822",
   "metadata": {},
   "outputs": [
    {
     "data": {
      "text/plain": [
       "2"
      ]
     },
     "execution_count": 26,
     "metadata": {},
     "output_type": "execute_result"
    }
   ],
   "source": [
    "# floor division :-\n",
    "5//2"
   ]
  },
  {
   "cell_type": "code",
   "execution_count": 27,
   "id": "2172f821",
   "metadata": {},
   "outputs": [
    {
     "data": {
      "text/plain": [
       "2.5"
      ]
     },
     "execution_count": 27,
     "metadata": {},
     "output_type": "execute_result"
    }
   ],
   "source": [
    "# precise division:-\n",
    "5/2"
   ]
  },
  {
   "cell_type": "code",
   "execution_count": 2,
   "id": "f2114202",
   "metadata": {},
   "outputs": [
    {
     "data": {
      "text/plain": [
       "1"
      ]
     },
     "execution_count": 2,
     "metadata": {},
     "output_type": "execute_result"
    }
   ],
   "source": [
    "5%2"
   ]
  },
  {
   "cell_type": "code",
   "execution_count": 33,
   "id": "d28b5436",
   "metadata": {},
   "outputs": [
    {
     "name": "stdout",
     "output_type": "stream",
     "text": [
      "Enter The Range :10\n",
      "enter the element :1\n",
      "enter the element :2\n",
      "enter the element :3\n",
      "enter the element :4\n",
      "enter the element :5\n",
      "enter the element :6\n",
      "enter the element :7\n",
      "enter the element :8\n",
      "enter the element :9\n",
      "enter the element :0\n",
      "Your old list before interchange ['1', '2', '3', '4', '5', '6', '7', '8', '9', '0']\n",
      "Your new list after interchange ['0', '2', '3', '4', '5', '6', '7', '8', '9', '1']\n"
     ]
    }
   ],
   "source": [
    "# python for loop exercise :-\n",
    "\n",
    "# inter changing first and last element:-\n",
    "rg=int(input(\"Enter The Range :\"))\n",
    "Old_list=[]\n",
    "for i in range(rg):\n",
    "    value=input(\"enter the element :\")\n",
    "    Old_list.append(value)\n",
    "print(\"Your old list before interchange\",Old_list)\n",
    "first=Old_list[0]\n",
    "Old_list[0]=Old_list[-1]\n",
    "Old_list[-1]=first\n",
    "print(\"Your new list after interchange\",Old_list)\n",
    "    \n"
   ]
  },
  {
   "cell_type": "code",
   "execution_count": 36,
   "id": "e50b0da2",
   "metadata": {},
   "outputs": [
    {
     "name": "stdout",
     "output_type": "stream",
     "text": [
      "Enter the range of the list :10\n",
      "Length of the list is  10\n"
     ]
    }
   ],
   "source": [
    "# length of the list :-\n",
    "\n",
    "a = int(input(\"Enter the range of the list :\"))\n",
    "length=(0)\n",
    "for i in range(a):\n",
    "    length=length+1\n",
    "print(\"Length of the list is \",length)"
   ]
  },
  {
   "cell_type": "code",
   "execution_count": 50,
   "id": "9070da65",
   "metadata": {},
   "outputs": [
    {
     "name": "stdout",
     "output_type": "stream",
     "text": [
      "Enter the range of the list :5\n",
      "Enter the element :1\n",
      "Enter the element :2\n",
      "Enter the element :3\n",
      "Enter the element :4\n",
      "Enter the element :5\n",
      "Enter checking the element2\n",
      "The given element 2 is exist in a list\n"
     ]
    }
   ],
   "source": [
    "# element exist in a list:-\n",
    "\n",
    "a = int(input(\"Enter the range of the list :\"))\n",
    "ls=[]\n",
    "for i in range(a):\n",
    "    em=input(\"Enter the element :\")\n",
    "    ls.append(em)\n",
    "gem=input(\"Enter checking the element\")\n",
    "if gem in ls:\n",
    "    print(\"The given element\", gem ,\"is exist in a list\")\n",
    "else:\n",
    "    print(\"The given element\", gem ,\"is not exist in a list\")"
   ]
  },
  {
   "cell_type": "markdown",
   "id": "f4481d77",
   "metadata": {},
   "source": [
    "a = []"
   ]
  },
  {
   "cell_type": "code",
   "execution_count": 71,
   "id": "5e34ef9f",
   "metadata": {},
   "outputs": [
    {
     "name": "stdout",
     "output_type": "stream",
     "text": [
      "Your empty list is ready : []\n"
     ]
    }
   ],
   "source": [
    "# clear the element :-\n",
    "\n",
    "a = [1,2,3,4,5,6,7,8,9]\n",
    "le=len(a)\n",
    "for i in range(le):\n",
    "    a.pop()\n",
    "print(\"Your empty list is ready :\",a)"
   ]
  },
  {
   "cell_type": "code",
   "execution_count": 78,
   "id": "cc4b3361",
   "metadata": {},
   "outputs": [
    {
     "name": "stdout",
     "output_type": "stream",
     "text": [
      "b =  [9, 8, 7, 6, 5, 4, 3, 2, 1]\n"
     ]
    }
   ],
   "source": [
    "# reversing a list :-\n",
    "\n",
    "a = [1,2,3,4,5,6,7,8,9]\n",
    "b=[]\n",
    "for i in a:\n",
    "    b.append(a[-i])\n",
    "print(\"b = \",b)  "
   ]
  },
  {
   "cell_type": "code",
   "execution_count": 79,
   "id": "00f017e8",
   "metadata": {},
   "outputs": [
    {
     "name": "stdout",
     "output_type": "stream",
     "text": [
      "45\n"
     ]
    }
   ],
   "source": [
    "# sum of element :-\n",
    "\n",
    "a = [1,2,3,4,5,6,7,8,9]\n",
    "sum0=0\n",
    "for i in a:\n",
    "    sum0=sum0+i\n",
    "print(sum0)"
   ]
  },
  {
   "cell_type": "code",
   "execution_count": 80,
   "id": "85caff6f",
   "metadata": {},
   "outputs": [
    {
     "name": "stdout",
     "output_type": "stream",
     "text": [
      "362880\n"
     ]
    }
   ],
   "source": [
    "# multiply all element :-\n",
    "\n",
    "a = [1,2,3,4,5,6,7,8,9]\n",
    "mul=1\n",
    "for i in a:\n",
    "    mul=mul*i\n",
    "print(mul)\n"
   ]
  },
  {
   "cell_type": "code",
   "execution_count": 92,
   "id": "fee2ace1",
   "metadata": {},
   "outputs": [
    {
     "name": "stdout",
     "output_type": "stream",
     "text": [
      "2\n"
     ]
    }
   ],
   "source": [
    "# smallest number :-\n",
    "\n",
    "a=[3,4,6,2,7,8,9]\n",
    "mini=a[0]\n",
    "for i in a:\n",
    "    if(mini>i):\n",
    "        mini=i\n",
    "print(mini)\n",
    "    "
   ]
  },
  {
   "cell_type": "code",
   "execution_count": 94,
   "id": "f9433b81",
   "metadata": {},
   "outputs": [
    {
     "name": "stdout",
     "output_type": "stream",
     "text": [
      "9\n"
     ]
    }
   ],
   "source": [
    "# biggest number :-\n",
    "\n",
    "a=[4,3,5,2,6,1,7,9,8]\n",
    "maxi=a[0]\n",
    "for i in a:\n",
    "    if(maxi<i):\n",
    "        maxi=i\n",
    "print(maxi)"
   ]
  },
  {
   "cell_type": "code",
   "execution_count": 129,
   "id": "2002933e",
   "metadata": {},
   "outputs": [
    {
     "name": "stdout",
     "output_type": "stream",
     "text": [
      "9\n",
      "8\n"
     ]
    }
   ],
   "source": [
    "# second largest number :-\n",
    "\n",
    "a=[4,3,5,8,2,6,1,7,9]\n",
    "maxi1=a[0]\n",
    "maxi2=a[0]\n",
    "for i in a:\n",
    "    if(maxi1<i):\n",
    "        maxi1=i\n",
    "a.remove(maxi1)\n",
    "print(maxi1)\n",
    "for i in a:\n",
    "    if(maxi2<i):\n",
    "        maxi2=i\n",
    "print(maxi2)"
   ]
  },
  {
   "cell_type": "code",
   "execution_count": 133,
   "id": "3ced768b",
   "metadata": {},
   "outputs": [
    {
     "name": "stdout",
     "output_type": "stream",
     "text": [
      "4\n",
      "8\n",
      "2\n",
      "6\n"
     ]
    }
   ],
   "source": [
    "# even numbers in a list :-\n",
    "a=[4,3,5,8,2,6,1,7,9]\n",
    "for i in a:\n",
    "    if(i%2==0):\n",
    "        print(i)\n",
    "        "
   ]
  },
  {
   "cell_type": "code",
   "execution_count": 134,
   "id": "d0a2d2a7",
   "metadata": {},
   "outputs": [
    {
     "name": "stdout",
     "output_type": "stream",
     "text": [
      "3\n",
      "5\n",
      "1\n",
      "7\n",
      "9\n"
     ]
    }
   ],
   "source": [
    "# odd numbers in a list :-\n",
    "\n",
    "a=[4,3,5,8,2,6,1,7,9]\n",
    "for i in a:\n",
    "    if(i%2!=0):\n",
    "        print(i)"
   ]
  },
  {
   "cell_type": "code",
   "execution_count": 143,
   "id": "6c26454e",
   "metadata": {},
   "outputs": [
    {
     "name": "stdout",
     "output_type": "stream",
     "text": [
      "0\n",
      "2\n",
      "4\n",
      "6\n",
      "8\n",
      "10\n"
     ]
    }
   ],
   "source": [
    "# even numbers using range :-\n",
    "\n",
    "for i in range(0,10+1):\n",
    "    if(i%2==0):\n",
    "        print(i)"
   ]
  },
  {
   "cell_type": "code",
   "execution_count": 142,
   "id": "e4d69ba9",
   "metadata": {},
   "outputs": [
    {
     "name": "stdout",
     "output_type": "stream",
     "text": [
      "1\n",
      "3\n",
      "5\n",
      "7\n",
      "9\n"
     ]
    }
   ],
   "source": [
    "# odd numbers using range :-\n",
    "\n",
    "for i in range(0,10+1):\n",
    "    if(i%2!=0):\n",
    "        print(i)"
   ]
  },
  {
   "cell_type": "code",
   "execution_count": 152,
   "id": "c2b1a0ee",
   "metadata": {},
   "outputs": [
    {
     "name": "stdout",
     "output_type": "stream",
     "text": [
      "2\n",
      "5\n",
      "3\n",
      "9\n",
      "8\n"
     ]
    }
   ],
   "source": [
    "# positive numbers in a list :-\n",
    "\n",
    "a=[-1,2,5,-2,3,-5,-6,-7,9,8,-9]\n",
    "for i in a:\n",
    "    if(i>=0):\n",
    "        print(i)"
   ]
  },
  {
   "cell_type": "code",
   "execution_count": 153,
   "id": "20a91168",
   "metadata": {},
   "outputs": [
    {
     "name": "stdout",
     "output_type": "stream",
     "text": [
      "-1\n",
      "-2\n",
      "-5\n",
      "-6\n",
      "-7\n",
      "-9\n"
     ]
    }
   ],
   "source": [
    "# negative numbers in a list :-\n",
    "\n",
    "a=[-1,2,5,-2,3,-5,-6,-7,9,8,-9]\n",
    "for i in a:\n",
    "    if(i<=0):\n",
    "        print(i)"
   ]
  },
  {
   "cell_type": "code",
   "execution_count": 160,
   "id": "70aa6ef9",
   "metadata": {},
   "outputs": [
    {
     "name": "stdout",
     "output_type": "stream",
     "text": [
      "1\n",
      "2\n",
      "3\n",
      "4\n"
     ]
    }
   ],
   "source": [
    "# positive numbers in a list using range :-\n",
    "\n",
    "for i in range(-5,5):\n",
    "    if(i>0):\n",
    "        print(i)"
   ]
  },
  {
   "cell_type": "code",
   "execution_count": 159,
   "id": "09ffb0d4",
   "metadata": {},
   "outputs": [
    {
     "name": "stdout",
     "output_type": "stream",
     "text": [
      "-5\n",
      "-4\n",
      "-3\n",
      "-2\n",
      "-1\n"
     ]
    }
   ],
   "source": [
    "# negative numbers in a list using range :-\n",
    "\n",
    "for i in range(-5,5):\n",
    "    if(i<0):\n",
    "        print(i)"
   ]
  },
  {
   "cell_type": "code",
   "execution_count": 19,
   "id": "dad34d40",
   "metadata": {},
   "outputs": [
    {
     "name": "stdout",
     "output_type": "stream",
     "text": [
      "After that removed even numbers in a list :  [1, 3, 5, 7, 9]\n",
      "After that removed odd numbers in a list  :  [2, 4, 6, 8]\n"
     ]
    }
   ],
   "source": [
    "# multiple element removing using for loop in python :-\n",
    "import copy\n",
    "\n",
    "a=[1,2,3,4,5,6,7,8,9]\n",
    "b=copy.deepcopy(a)\n",
    "# even number removal :-\n",
    "for i in a:\n",
    "    if(i%2==0):\n",
    "        a.remove(i)\n",
    "print(\"After that removed even numbers in a list : \",a)\n",
    "# odd number removal :-\n",
    "for i in b:\n",
    "    if(i%2!=0):\n",
    "        b.remove(i)\n",
    "print(\"After that removed odd numbers in a list  : \",b)"
   ]
  },
  {
   "cell_type": "code",
   "execution_count": 23,
   "id": "7766a718",
   "metadata": {},
   "outputs": [
    {
     "name": "stdout",
     "output_type": "stream",
     "text": [
      "Enter the range5\n",
      "Enter the element here :1\n",
      "Enter the element here :2\n",
      "Enter the element here :3\n",
      "Enter the element here :4\n",
      "Enter the element here :5\n",
      "Original_list : ['2', '3', '4', '5']\n",
      "Cloning_list : ['2', '3', '4', '5']\n"
     ]
    }
   ],
   "source": [
    "# cloning or copying :-\n",
    "\n",
    "a=int(input(\"Enter the range\"))\n",
    "Original_list=[]\n",
    "Cloning_list=[]\n",
    "\n",
    "for i in range(a):\n",
    "    element=input(\"Enter the element here :\")\n",
    "    Original_list.append(element)\n",
    "    Original_list=Cloning_list\n",
    "print(\"Original_list :\",Original_list)    \n",
    "print(\"Cloning_list :\",Cloning_list)"
   ]
  },
  {
   "cell_type": "code",
   "execution_count": 58,
   "id": "df9b4886",
   "metadata": {},
   "outputs": [
    {
     "name": "stdout",
     "output_type": "stream",
     "text": [
      "Enter the count number : 3\n",
      "The number 3 is presnt in 4 time's in given list\n"
     ]
    }
   ],
   "source": [
    "# count occurrencess of an element in a list :-\n",
    "\n",
    "a=[1,2,3,4,5,1,3,4,2,1,2,3,4,5,6,4,3,2,6,7,8,9]\n",
    "b=int(input(\"Enter the count number : \"))\n",
    "c=a.count(b)\n",
    "if(c<2 and c!=0):\n",
    "    print(\"The number\",b,\"is presnt in\",c,\"time in given list\")\n",
    "elif(c>=2):\n",
    "     print(\"The number\",b,\"is presnt in\",c,\"time's in given list\")\n",
    "else:\n",
    "     print(\"The number\",b,\"is not exist in a given list..sry try again with another one number\")\n",
    "    \n"
   ]
  },
  {
   "cell_type": "code",
   "execution_count": 61,
   "id": "61e38db2",
   "metadata": {},
   "outputs": [
    {
     "name": "stdout",
     "output_type": "stream",
     "text": [
      "1\n"
     ]
    }
   ],
   "source": [
    "# multiple count using modules :-\n",
    "\n",
    "from collections import Counter\n",
    "a=[1,2,3,4,5,1,3,4,2,1,2,3,4,5,6,4,3,2,6,7,8,9]\n",
    "c=Counter(a)\n",
    "d=c[9]\n",
    "print(d)\n",
    "\n"
   ]
  },
  {
   "cell_type": "code",
   "execution_count": 4,
   "id": "62f27652",
   "metadata": {},
   "outputs": [
    {
     "name": "stdout",
     "output_type": "stream",
     "text": [
      "[1, 2, 3, 4, 5, 1, 3, 4, 2, 1, 2, 3, 4, 5, 6, 4, 3, 2, 6, 7, 8, 9]\n"
     ]
    }
   ],
   "source": [
    "#removing empty list inside the list :-\n",
    "\n",
    "a=[1,2,[],3,4,5,1,3,4,[],2,1,2,[],3,4,5,6,4,[],3,2,6,7,[],8,9]\n",
    "\n",
    "for i in a:\n",
    "    if(i==[]):\n",
    "        a.remove(i)\n",
    "print(a)"
   ]
  },
  {
   "cell_type": "code",
   "execution_count": 5,
   "id": "31f5732b",
   "metadata": {},
   "outputs": [
    {
     "name": "stdout",
     "output_type": "stream",
     "text": [
      "[1, 2, 3, 4, 5, 7, 8, 9, 0, 3]\n"
     ]
    }
   ],
   "source": [
    "# removing empty tuple in a list :-\n",
    "\n",
    "a=[1,2,3,(),4,5,(),7,8,(),9,0,(),3]\n",
    "for i in a:\n",
    "    if(i==()):\n",
    "        a.remove(i)\n",
    "print(a)"
   ]
  },
  {
   "cell_type": "code",
   "execution_count": 8,
   "id": "d1be907f",
   "metadata": {},
   "outputs": [
    {
     "name": "stdout",
     "output_type": "stream",
     "text": [
      "The new list without duplicante elements : [1, 2, 3, 4, 5, 6, 7, 8, 9, 0]\n"
     ]
    }
   ],
   "source": [
    "# find the duplicate in a list :-\n",
    "\n",
    "a=[1,2,1,2,3,4,3,4,5,6,5,6,7,8,7,8,9,0,9,0]\n",
    "b=[]\n",
    "for i in a:\n",
    "    if(i not in b):\n",
    "         b.append(i)\n",
    "print(\"The new list without duplicante elements :\",b)\n",
    "        "
   ]
  },
  {
   "cell_type": "code",
   "execution_count": 12,
   "id": "7927d461",
   "metadata": {},
   "outputs": [
    {
     "name": "stdout",
     "output_type": "stream",
     "text": [
      "90\n"
     ]
    }
   ],
   "source": [
    "# cumulative sum of the list :-\n",
    "\n",
    "a=[1,2,1,2,3,4,3,4,5,6,5,6,7,8,7,8,9,0,9,0]\n",
    "sum1=0\n",
    "for i in a:\n",
    "    sum1=sum1+i\n",
    "print(sum1)"
   ]
  },
  {
   "cell_type": "code",
   "execution_count": 13,
   "id": "364be264",
   "metadata": {},
   "outputs": [
    {
     "name": "stdout",
     "output_type": "stream",
     "text": [
      "20\n"
     ]
    }
   ],
   "source": [
    "# sum of numbers digits in a list :- (total numbers of element present in a list):-\n",
    "\n",
    "a=[1,2,1,2,3,4,3,4,5,6,5,6,7,8,7,8,9,0,9,0]\n",
    "s_num=0\n",
    "for i in a:\n",
    "    s_num=s_num+1\n",
    "print(s_num)"
   ]
  },
  {
   "cell_type": "code",
   "execution_count": 39,
   "id": "1837ad51",
   "metadata": {},
   "outputs": [
    {
     "name": "stdout",
     "output_type": "stream",
     "text": [
      "[[1], [2], [1], [2], [3], [4], [3], [4], [5], [6], [5], [6], [7], [8], [7], [8], [9], [0], [9], [0]]\n"
     ]
    }
   ],
   "source": [
    "# break a list into chucks of size N in python :-\n",
    "\n",
    "a=[1,2,1,2,3,4,3,4,5,6,5,6,7,8,7,8,9,0,9,0]\n",
    "b=[]\n",
    "for i in a:\n",
    "        b.append([i])\n",
    "print(b)"
   ]
  },
  {
   "cell_type": "code",
   "execution_count": 40,
   "id": "36455324",
   "metadata": {},
   "outputs": [
    {
     "name": "stdout",
     "output_type": "stream",
     "text": [
      "[['geeks', 'for'], ['geeks', 'like'], ['geeky', 'nerdy'], ['geek', 'love'], ['questions', 'words'], ['life']]\n"
     ]
    }
   ],
   "source": [
    "# break a list into chucks of size N in python :-\n",
    "\n",
    "my_list = ['geeks', 'for', 'geeks', 'like',\n",
    "           'geeky','nerdy', 'geek', 'love',\n",
    "               'questions','words', 'life']\n",
    "def divide_chunks(l, n):\n",
    "    for i in range(0, len(l), n):\n",
    "        yield l[i:i + n]\n",
    "n = 2\n",
    "x = list(divide_chunks(my_list, n))\n",
    "print (x)"
   ]
  },
  {
   "cell_type": "code",
   "execution_count": 46,
   "id": "02cc7961",
   "metadata": {},
   "outputs": [
    {
     "name": "stdout",
     "output_type": "stream",
     "text": [
      "enter : 2\n",
      "[[1, 2], [3, 4], [5, 6], [7, 8], [9]]\n"
     ]
    }
   ],
   "source": [
    "# break a list into chucks of size N in python :-\n",
    "\n",
    "a=[1,2,3,4,5,6,7,8,9]\n",
    "b=[]\n",
    "n=int(input(\"enter : \"))\n",
    "for i in range(0,len(a),n):\n",
    "    c=a[i:i+n]\n",
    "    b.append(c)\n",
    "print(b)"
   ]
  },
  {
   "cell_type": "code",
   "execution_count": 49,
   "id": "c89e156f",
   "metadata": {},
   "outputs": [
    {
     "name": "stdout",
     "output_type": "stream",
     "text": [
      "[1, 2, 3, 4, 5, 6, 7, 8, 9]\n"
     ]
    }
   ],
   "source": [
    "# sort the elements :-\n",
    "a=[1,2,3,4,5,9,8,7,6]\n",
    "a.sort()\n",
    "print(a)"
   ]
  },
  {
   "cell_type": "code",
   "execution_count": 57,
   "id": "f5fc215c",
   "metadata": {},
   "outputs": [
    {
     "name": "stdout",
     "output_type": "stream",
     "text": [
      "[1, 2, 3, 4, 5, 9, 8, 7, 6]\n"
     ]
    }
   ],
   "source": [
    "# sort the elements :-\n",
    "a=[1,2,3,4,5,9,8,7,6]\n",
    "b=[]\n",
    "for i in a:\n",
    "    if(i not in b):\n",
    "        b.append(i)\n",
    "print(b)       "
   ]
  },
  {
   "cell_type": "code",
   "execution_count": 3,
   "id": "cf4ef4f4",
   "metadata": {},
   "outputs": [
    {
     "name": "stdout",
     "output_type": "stream",
     "text": [
      "{'1': 2, ',': 19, '2': 2, '3': 2, '4': 2, '5': 2, '6': 2, '7': 2, '8': 2, '9': 2, '0': 2}\n"
     ]
    }
   ],
   "source": [
    "def count_characters(s):\n",
    "    count = {}\n",
    "    for i in s:\n",
    "        if i in count:\n",
    "            count[i] += 1\n",
    "        else:\n",
    "            count[i] = 1\n",
    "    return(count)\n",
    "print(count_characters(\"1,2,3,4,5,6,7,8,9,0,1,2,3,4,5,6,7,8,9,0\"))"
   ]
  },
  {
   "cell_type": "code",
   "execution_count": 152,
   "id": "20d3d3b5",
   "metadata": {},
   "outputs": [
    {
     "name": "stdout",
     "output_type": "stream",
     "text": [
      "False\n"
     ]
    }
   ],
   "source": [
    "def sequential_search(list_, n):\n",
    "    found = False\n",
    "    for i in list_:\n",
    "        if i == n:\n",
    "            found = True\n",
    "            break\n",
    "    return found\n",
    "print(sequential_search([1,2,3,4,5,6,7,8,9,0],12))"
   ]
  },
  {
   "cell_type": "markdown",
   "id": "5d6d25ba",
   "metadata": {},
   "source": [
    "for i in range(0,5):\n",
    "print(i)\n"
   ]
  },
  {
   "cell_type": "code",
   "execution_count": null,
   "id": "15ed33ac",
   "metadata": {},
   "outputs": [],
   "source": []
  },
  {
   "cell_type": "code",
   "execution_count": 137,
   "id": "7032db59",
   "metadata": {},
   "outputs": [
    {
     "name": "stdout",
     "output_type": "stream",
     "text": [
      "Number Pattern \n",
      "1 \n",
      "1 2 \n",
      "1 2 3 \n",
      "1 2 3 4 \n",
      "1 2 3 4 5 \n"
     ]
    }
   ],
   "source": [
    "print(\"Number Pattern \")\n",
    "row = 5\n",
    "\n",
    "for i in range(1, row + 1):\n",
    "    for j in range(1, i + 1):\n",
    "        print(j, end=' ')\n",
    "    print(\"\")"
   ]
  },
  {
   "cell_type": "code",
   "execution_count": 3,
   "id": "00e2433f",
   "metadata": {},
   "outputs": [
    {
     "name": "stdout",
     "output_type": "stream",
     "text": [
      "Enter first number : 3\n",
      "Enter second number : 6\n",
      "Enter operater : //\n",
      "Answer is : 0\n"
     ]
    }
   ],
   "source": [
    "# calculater :-\n",
    "\n",
    "num1=int(input(\"Enter first number : \"))\n",
    "num2=int(input(\"Enter second number : \"))\n",
    "operater=input(\"Enter operater : \")\n",
    "if(operater == \"+\"):\n",
    "    print(\"Answer is :\", num1+num2)\n",
    "elif(operater == \"-\"):\n",
    "    print(\"Answer is :\",num1-num2)\n",
    "elif(operater == \"*\"):\n",
    "    print(\"Answer is :\",num1*num2)\n",
    "elif(operater == \"/\"):\n",
    "    print(\"Answer is :\",num1/num2)\n",
    "elif(operater == \"%\"):\n",
    "    print(\"Answer is :\",num1%num2)\n",
    "elif(operater == \"//\"):\n",
    "    print(\"Answer is :\",num1//num2)\n",
    "elif(operater == \"**\"):\n",
    "    print(\"Answer is :\",num1**num2)\n",
    "else:\n",
    "    print(\"Operrater doesn't match\")"
   ]
  },
  {
   "cell_type": "code",
   "execution_count": null,
   "id": "422e7b44",
   "metadata": {},
   "outputs": [],
   "source": []
  },
  {
   "cell_type": "code",
   "execution_count": null,
   "id": "f1d562ab",
   "metadata": {},
   "outputs": [],
   "source": []
  },
  {
   "cell_type": "code",
   "execution_count": 37,
   "id": "9f9d1701",
   "metadata": {},
   "outputs": [
    {
     "name": "stdout",
     "output_type": "stream",
     "text": [
      "no\n"
     ]
    }
   ],
   "source": [
    "# find prime  numbers using python :-(# Program to check if a number is prime or not)\n",
    "\n",
    "a=111\n",
    "cond=False\n",
    "if(a==1):\n",
    "    print(\"no\")\n",
    "elif(a==0 or a<=-1):\n",
    "    print(\"no\")\n",
    "elif(a>1):\n",
    "    for i in range(2,a):\n",
    "        if(a%i)==0:\n",
    "            cond=True\n",
    "            break\n",
    "    if cond:\n",
    "        print(\"no\")\n",
    "    else:\n",
    "        print(\"yes\")"
   ]
  },
  {
   "cell_type": "code",
   "execution_count": 40,
   "id": "dfd34928",
   "metadata": {},
   "outputs": [
    {
     "name": "stdout",
     "output_type": "stream",
     "text": [
      "0\n"
     ]
    }
   ],
   "source": [
    "print(111%1)"
   ]
  },
  {
   "cell_type": "code",
   "execution_count": 11,
   "id": "de5abac5",
   "metadata": {},
   "outputs": [
    {
     "name": "stdout",
     "output_type": "stream",
     "text": [
      "Enter the number : 3\n",
      "---------------------------------------------\n",
      "The number 3 is a Prime Numbe\n"
     ]
    }
   ],
   "source": [
    "# find prime  numbers using python :- (# Program to check if a number is prime or not)\n",
    "\n",
    "Num=int(input(\"Enter the number : \"))\n",
    "print(\"---------------------------------------------\")\n",
    "cond=False\n",
    "if(Num<=1):\n",
    "    print(\"The Number\",Num,\" is Not a Prime Number\")\n",
    "else:\n",
    "    for i in range(2,Num):\n",
    "        if(Num%i == 0):\n",
    "            cond=True\n",
    "            break\n",
    "if cond:\n",
    "    print(\"The number\",Num,\"is Not a Prime Number\")\n",
    "else:\n",
    "    print(\"The number\",Num,\"is a Prime Numbe\")"
   ]
  },
  {
   "cell_type": "code",
   "execution_count": 61,
   "id": "62220780",
   "metadata": {},
   "outputs": [
    {
     "name": "stdout",
     "output_type": "stream",
     "text": [
      "Enter the table number : 2\n",
      "Till the number : 5\n",
      "1 x 2 = 2\n",
      "2 x 2 = 4\n",
      "3 x 2 = 6\n",
      "4 x 2 = 8\n",
      "5 x 2 = 10\n"
     ]
    }
   ],
   "source": [
    "# Multiplication table :-\n",
    "\n",
    "TN = int(input(\"Enter the table number : \"))\n",
    "Till_N  =int(input(\"Till the number : \"))\n",
    "for i in range(1,Till_N+1):\n",
    "        print(i,\"x\",TN,\"=\",i*TN)"
   ]
  },
  {
   "cell_type": "code",
   "execution_count": 74,
   "id": "882d54ad",
   "metadata": {},
   "outputs": [
    {
     "name": "stdout",
     "output_type": "stream",
     "text": [
      "Enter the name here : yuvraj\n",
      " \n",
      "Name not present\n"
     ]
    }
   ],
   "source": [
    "# To find the name is exist or not :-\n",
    "\n",
    "a=[\"muthu\",\"raj\",\"guru\",\"jay\",\"k muthu\"]\n",
    "b=input(\"Enter the name here : \")\n",
    "print(\" \")\n",
    "for i in a:\n",
    "    if(b in a):\n",
    "        print(\"Name is exist.....!\")\n",
    "        break\n",
    "    else:\n",
    "        print(\"Name not exist......!\")\n",
    "        break"
   ]
  },
  {
   "cell_type": "code",
   "execution_count": 12,
   "id": "9dabf7d3",
   "metadata": {},
   "outputs": [
    {
     "name": "stdout",
     "output_type": "stream",
     "text": [
      "stringsini\n",
      "false {}\n",
      "false {'s': 1}\n",
      "false {'s': 1, 'i': 1}\n",
      "true {'s': 1, 'i': 1, 'n': 1}\n",
      "i\n"
     ]
    }
   ],
   "source": [
    "st = input(\"string\")\n",
    " \n",
    "freq = {}\n",
    "for i in st:\n",
    "    if i in freq:\n",
    "        print(\"true\",freq)\n",
    "        freq[i] += 1\n",
    "    else:\n",
    "        print(\"false\",freq)\n",
    "        freq[i] = 1\n",
    "result = max(freq , key = freq.get)\n",
    "print(result)"
   ]
  },
  {
   "cell_type": "code",
   "execution_count": 18,
   "id": "b65b5078",
   "metadata": {},
   "outputs": [
    {
     "name": "stdout",
     "output_type": "stream",
     "text": [
      "8\n",
      "[1, 1, 2, 3, 4, 5, 6, 7, 8]\n"
     ]
    }
   ],
   "source": [
    "# finding second largest :- \n",
    "num=[1,2,9,1,3,4,5,6,7,8]\n",
    "num.remove(max(num))\n",
    "sl=max(num)\n",
    "print(sl)\n",
    "num.sort()\n",
    "print(num)"
   ]
  },
  {
   "cell_type": "code",
   "execution_count": 17,
   "id": "bebb347f",
   "metadata": {},
   "outputs": [
    {
     "name": "stdout",
     "output_type": "stream",
     "text": [
      "54\n",
      "[1, 43, 2, 9, 1, 3, 4, 5, 33, 21, 6, 7, 8]\n",
      "43\n",
      "[1, 2, 9, 1, 3, 4, 5, 33, 21, 6, 7, 8]\n"
     ]
    }
   ],
   "source": [
    "num=[1,43,2,9,1,3,4,5,33,21,54,6,7,8]\n",
    "maxi=num[0]\n",
    "smaxi=num[0]\n",
    "for i in num:\n",
    "    if (maxi<i):\n",
    "        maxi=i\n",
    "num.remove(maxi)\n",
    "print(maxi)\n",
    "print(num)\n",
    "for i in num:\n",
    "    if (smaxi<i):\n",
    "        smaxi=i\n",
    "num.remove(smaxi)\n",
    "print(smaxi)\n",
    "print(num)       "
   ]
  },
  {
   "cell_type": "code",
   "execution_count": 26,
   "id": "33159f15",
   "metadata": {},
   "outputs": [
    {
     "name": "stdout",
     "output_type": "stream",
     "text": [
      "54\n",
      "[1, 1, 2, 3, 4, 5, 6, 7, 8, 9, 21, 33, 43]\n"
     ]
    }
   ],
   "source": [
    "num=[1,43,2,9,1,3,4,5,33,21,54,6,7,8]\n",
    "num.sort()\n",
    "first_largest_number = num.pop()\n",
    "print(first_largest_number)\n",
    "print(num)"
   ]
  },
  {
   "cell_type": "code",
   "execution_count": 37,
   "id": "21ae82b6",
   "metadata": {},
   "outputs": [
    {
     "name": "stdout",
     "output_type": "stream",
     "text": [
      "1 'st biggest number 54\n",
      "2 'nd biggest number 43\n",
      "3 'rd biggest number 33\n",
      "4 'th biggest number 21\n",
      "5 'th biggest number 9\n",
      "6 'th biggest number 8\n",
      "7 'th biggest number 7\n",
      "8 'th biggest number 6\n",
      "9 'th biggest number 5\n",
      "10 'th biggest number 4\n",
      "11 'th biggest number 3\n",
      "12 'th biggest number 2\n",
      "13 'th biggest number 1\n"
     ]
    }
   ],
   "source": [
    "num=[43,2,9,1,3,4,5,33,21,54,6,7,8]\n",
    "num.sort()\n",
    "for i in range(len(num)):\n",
    "    f=num.pop()\n",
    "    if(i==0):\n",
    "        print(i+1,\"'st biggest number\",f)\n",
    "    elif(i==1):\n",
    "        print(i+1,\"'nd biggest number\",f)\n",
    "    elif(i==2):\n",
    "        print(i+1,\"'rd biggest number\",f)\n",
    "    else:\n",
    "        print(i+1,\"'th biggest number\",f)"
   ]
  },
  {
   "cell_type": "code",
   "execution_count": null,
   "id": "a59f7b81",
   "metadata": {},
   "outputs": [],
   "source": []
  },
  {
   "cell_type": "markdown",
   "id": "7372ef44",
   "metadata": {},
   "source": [
    "### no=int(input(\"which one smalest number do you want : \"))\n",
    "num=[1,43,2,9,3,4,5,33,21,54,6,7,8]\n",
    "num.sort()\n",
    "print(num[no-1])"
   ]
  },
  {
   "cell_type": "code",
   "execution_count": 30,
   "id": "b4857fd4",
   "metadata": {},
   "outputs": [
    {
     "name": "stdout",
     "output_type": "stream",
     "text": [
      "Name\n"
     ]
    }
   ],
   "source": [
    "# key accessing in dictionary :-\n",
    "a={\n",
    "    \"Name\":1,\n",
    "    \"Age\":2,\n",
    "    \"Native\":3\n",
    "}\n",
    "r =min(a,key = a.get)\n",
    "print(r)"
   ]
  },
  {
   "cell_type": "markdown",
   "id": "47a3507b",
   "metadata": {},
   "source": [
    " "
   ]
  },
  {
   "cell_type": "code",
   "execution_count": 34,
   "id": "18ede3fc",
   "metadata": {},
   "outputs": [
    {
     "name": "stdout",
     "output_type": "stream",
     "text": [
      "0\n"
     ]
    }
   ],
   "source": [
    "# find \n",
    "a=[1,2,-3,4,-5,6,7,-8,9,-10]\n",
    "nv=0\n",
    "for i in a:\n",
    "    if(i==False):\n",
    "        nv+=1\n",
    "print(nv)"
   ]
  },
  {
   "cell_type": "code",
   "execution_count": 8,
   "id": "d786cd21",
   "metadata": {},
   "outputs": [
    {
     "name": "stdout",
     "output_type": "stream",
     "text": [
      "Enter the number : 4\n",
      "---------------------------------------------\n",
      "The number 4 is Not a Prime Number\n",
      "[]\n"
     ]
    }
   ],
   "source": [
    "Num=int(input(\"Enter the number : \"))\n",
    "print(\"---------------------------------------------\")\n",
    "cond=False\n",
    "l=[]\n",
    "if(Num==1 or Num==0 or Num<=-1):\n",
    "    print(\"The Number\",Num,\" is Not a Prime Number\")\n",
    "elif(Num>1):\n",
    "    for i in range(2,Num):\n",
    "        if(Num%i == 0):\n",
    "            cond=True\n",
    "            break\n",
    "    if cond:\n",
    "        print(\"The number\",Num,\"is Not a Prime Number\")\n",
    "    else:\n",
    "        l.append(Num)\n",
    "print(l)"
   ]
  },
  {
   "cell_type": "code",
   "execution_count": 18,
   "id": "38b75f8e",
   "metadata": {},
   "outputs": [
    {
     "ename": "SyntaxError",
     "evalue": "invalid syntax (66709779.py, line 1)",
     "output_type": "error",
     "traceback": [
      "\u001b[1;36m  Cell \u001b[1;32mIn[18], line 1\u001b[1;36m\u001b[0m\n\u001b[1;33m    Copy code\u001b[0m\n\u001b[1;37m         ^\u001b[0m\n\u001b[1;31mSyntaxError\u001b[0m\u001b[1;31m:\u001b[0m invalid syntax\n"
     ]
    }
   ],
   "source": [
    "Copy code\n",
    "def is_prime(num):\n",
    "    if num <= 1:\n",
    "        return False\n",
    "    if num <= 3:\n",
    "        return True\n",
    "    if num % 2 == 0 or num % 3 == 0:\n",
    "        return False\n",
    "    i = 5\n",
    "    while i * i <= num:\n",
    "        if num % i == 0 or num % (i + 2) == 0:\n",
    "            return False\n",
    "        i += 6\n",
    "    return True\n",
    "\n",
    "def get_nth_prime(n, start):\n",
    "    prime_count = 0\n",
    "    num = start\n",
    "    while prime_count < n:\n",
    "        if is_prime(num):\n",
    "            prime_count += 1\n",
    "        num += 1\n",
    "    return num - 1\n",
    "\n",
    "def print_prime_numbers(count, start, end):\n",
    "    primes_found = []\n",
    "    num = start\n",
    "    while len(primes_found) < count and num <= end:\n",
    "        if is_prime(num):\n",
    "            primes_found.append(num)\n",
    "        num += 1\n",
    "    return primes_found\n",
    "\n",
    "# Get user input for range\n",
    "start_range = int(input(\"Enter the start of the range: \"))\n",
    "end_range = int(input(\"Enter the end of the range: \"))\n",
    "prime_count = 50\n",
    "\n",
    "prime_numbers = print_prime_numbers(prime_count, start_range, end_range)\n",
    "\n",
    "if len(prime_numbers) == 0:\n",
    "    print(\"0\")\n",
    "else:\n",
    "    for prime in prime_numbers:\n",
    "        print(prime, end=\", \")\n",
    "    fifth_prime_after_10 = get_nth_prime(5, 11)\n",
    "    print(\"\\nThe fifth prime number after 10:\", fifth_prime_after_10)"
   ]
  },
  {
   "cell_type": "code",
   "execution_count": 14,
   "id": "2a5e8157",
   "metadata": {},
   "outputs": [
    {
     "name": "stdout",
     "output_type": "stream",
     "text": [
      "Enter the start of the range: 47\n",
      "Enter the end of the range: 250\n",
      "Prime numbers within the given range:\n",
      "0\n"
     ]
    }
   ],
   "source": [
    "def is_prime(num):\n",
    "    if num <= 1:\n",
    "        return False\n",
    "    if num <= 3:\n",
    "        return True\n",
    "    if num % 2 == 0 or num % 3 == 0:\n",
    "        return False\n",
    "    i = 5\n",
    "    while i * i <= num:\n",
    "        if num % i == 0 or num % (i + 2) == 0:\n",
    "            return False\n",
    "        i += 6\n",
    "    return True\n",
    "\n",
    "def print_prime_numbers(count, start, end):\n",
    "    primes_found = []\n",
    "    for num in range(start, end + 1):\n",
    "        if is_prime(num):\n",
    "            primes_found.append(num)\n",
    "            if len(primes_found) == count:\n",
    "                break\n",
    "    return primes_found\n",
    "\n",
    "# Get user input for range\n",
    "start_range = int(input(\"Enter the start of the range: \"))\n",
    "end_range = int(input(\"Enter the end of the range: \"))\n",
    "prime_count = 50\n",
    "\n",
    "prime_numbers = print_prime_numbers(prime_count, start_range, end_range)\n",
    "\n",
    "print(\"Prime numbers within the given range:\")\n",
    "if len(prime_numbers) >= prime_count:\n",
    "    for prime in prime_numbers:\n",
    "        print(prime, end=\", \")\n",
    "    print(\"\\nFive prime numbers from the list:\")\n",
    "    for i in range(5):\n",
    "        print(prime_numbers[i], end=\", \")\n",
    "else:\n",
    "    print(\"0\")"
   ]
  },
  {
   "cell_type": "code",
   "execution_count": 27,
   "id": "813bfb42",
   "metadata": {},
   "outputs": [
    {
     "name": "stdout",
     "output_type": "stream",
     "text": [
      "100\n",
      "200\n",
      "23\n"
     ]
    }
   ],
   "source": [
    "\n",
    "def is_prime(num):\n",
    "    if num <= 1:\n",
    "        return False\n",
    "    if num <= 3:\n",
    "        return True\n",
    "    if num % 2 == 0 or num % 3 == 0:\n",
    "        return False\n",
    "    i = 5\n",
    "    while i * i <= num:\n",
    "        if num % i == 0 or num % (i + 2) == 0:\n",
    "            return False\n",
    "        i += 6\n",
    "    return True\n",
    "\n",
    "def get_nth_prime(n, start):\n",
    "    prime_count = 0\n",
    "    num = start\n",
    "    while prime_count < n:\n",
    "        if is_prime(num):\n",
    "            prime_count += 1\n",
    "        num += 1\n",
    "    return num - 1\n",
    "\n",
    "def print_prime_numbers(count, start, end):\n",
    "    primes_found = []\n",
    "    num = start\n",
    "    while len(primes_found) < count and num <= end:\n",
    "        if is_prime(num):\n",
    "            primes_found.append(num)\n",
    "        num += 1\n",
    "    return primes_found\n",
    "\n",
    "# Get user input for range\n",
    "start_range = int(input())\n",
    "end_range = int(input())\n",
    "prime_count = 50\n",
    "\n",
    "prime_numbers = print_prime_numbers(prime_count, start_range, end_range)\n",
    "\n",
    "if len(prime_numbers) == 0:\n",
    "    print(\"0\")\n",
    "else:\n",
    "    print(fifth_prime_after_10)"
   ]
  },
  {
   "cell_type": "code",
   "execution_count": 61,
   "id": "fd996912",
   "metadata": {},
   "outputs": [
    {
     "name": "stdout",
     "output_type": "stream",
     "text": [
      "1\n",
      "10\n",
      "[1, 2, 4, 2, 6, 2, 3, 2]\n",
      "[2, 2]\n"
     ]
    }
   ],
   "source": [
    "a = int(input())\n",
    "b = int(input())\n",
    "cond = False\n",
    "n=[]\n",
    "y=[]\n",
    "for i in range(a,b+1):\n",
    "    if(i<=1):\n",
    "        n.append(i)\n",
    "    elif(i>=2):\n",
    "        for j in range(2,i):\n",
    "            if(i%j)==0:\n",
    "                cond=True\n",
    "                break\n",
    "        if cond:\n",
    "            n.append(j)\n",
    "        else:\n",
    "            y.append(j)\n",
    "            \n",
    "print(n)\n",
    "print(y)"
   ]
  },
  {
   "cell_type": "code",
   "execution_count": 51,
   "id": "3c34f914",
   "metadata": {},
   "outputs": [
    {
     "name": "stdout",
     "output_type": "stream",
     "text": [
      "no\n"
     ]
    }
   ],
   "source": [
    "\n",
    "a=123456\n",
    "cond=False\n",
    "if(a<=1):\n",
    "    print(\"no\")\n",
    "elif(a>=2):\n",
    "    for i in range(2,a):\n",
    "        if(a%i)==0:\n",
    "            cond=True\n",
    "            break\n",
    "    if cond:\n",
    "        print(\"no\")\n",
    "    else:\n",
    "        print(\"yes\")"
   ]
  },
  {
   "cell_type": "code",
   "execution_count": 64,
   "id": "5410228b",
   "metadata": {},
   "outputs": [
    {
     "name": "stdout",
     "output_type": "stream",
     "text": [
      "10\n",
      "50\n",
      "10,11,12,13,14,15,16,17,18,19,21,23,25,27,29,31,35,37,41,43,47,49,"
     ]
    }
   ],
   "source": [
    " # range function is not count last number (Ending number)\n",
    " # only 1 to 100 is counted\n",
    "a = int(input())\n",
    "b = int(input())\n",
    "for i in range(2,101): \n",
    "    for j in range(2,101):\n",
    "        if i%j == 0:\n",
    "            break\n",
    "    if i == j:\n",
    "        print(i,end=\",\")"
   ]
  },
  {
   "cell_type": "code",
   "execution_count": 40,
   "id": "5f0c612a",
   "metadata": {},
   "outputs": [
    {
     "name": "stdout",
     "output_type": "stream",
     "text": [
      "1\n",
      "20\n",
      "[2, 3, 5, 7, 11, 13, 17, 19]\n"
     ]
    }
   ],
   "source": [
    "start = int(input())\n",
    "stop = int(input())\n",
    "r=[]\n",
    "for val in range(start, stop+1):\n",
    "  if val > 1:\n",
    "    for i in range(2, val):\n",
    "      if (val % i) == 0:\n",
    "        break\n",
    "    else:\n",
    "        r.append(val)\n",
    "print(r)"
   ]
  },
  {
   "cell_type": "code",
   "execution_count": 50,
   "id": "08bc905a",
   "metadata": {},
   "outputs": [
    {
     "name": "stdout",
     "output_type": "stream",
     "text": [
      ";;; 1381\n",
      "Yes\n"
     ]
    }
   ],
   "source": [
    "a = int(input(\";;; \"))\n",
    "cond = False\n",
    "if a <=1 :\n",
    "    cond = True\n",
    "else:\n",
    "    for i in range(2,a):\n",
    "        if(a%i == 0):\n",
    "            cond = True\n",
    "            break\n",
    "if cond:\n",
    "    print(\"No\")\n",
    "else:\n",
    "    print(\"Yes\")"
   ]
  },
  {
   "cell_type": "code",
   "execution_count": 48,
   "id": "8bd89465",
   "metadata": {},
   "outputs": [
    {
     "name": "stdout",
     "output_type": "stream",
     "text": [
      "N0 1 : 1\n",
      "N0 2 : 10\n",
      "[2, 3, 5, 7]\n"
     ]
    }
   ],
   "source": [
    "inp1 = int(input(\"N0 1 : \"))\n",
    "inp2 = int(input(\"N0 2 : \"))\n",
    "\n",
    "r=[]\n",
    "for val in range(inp1,inp2+1):\n",
    "    if val>1:\n",
    "        for i in range(2,val):\n",
    "            if(val%i) == 0:\n",
    "                break\n",
    "        else:\n",
    "            r.append(val)\n",
    "print(r)             \n",
    "        "
   ]
  },
  {
   "cell_type": "code",
   "execution_count": 85,
   "id": "bccb6b87",
   "metadata": {},
   "outputs": [
    {
     "name": "stdout",
     "output_type": "stream",
     "text": [
      "Numbers in a given list :  [1, 2, 3, 4, 5, 6, 8, 9, 0]\n",
      "Letters in a given list :  ['a', 'b', 'c', 'd', 'e', 'f', 'g', 'h', 'I']\n"
     ]
    }
   ],
   "source": [
    "a = [[\"a\",1,\"b\",2,\"c\",3], [4,\"d\",5,\"e\",6,\"f\"], [8,\"g\",9,\"h\",0,'I']]\n",
    "l = []\n",
    "n = []\n",
    "for i in a:\n",
    "    for j in i:\n",
    "        if(isinstance(j,str)):\n",
    "            l.append(j)\n",
    "        else:\n",
    "            n.append(j)\n",
    "print(\"Numbers in a given list : \",n)\n",
    "print(\"Letters in a given list : \",l)"
   ]
  },
  {
   "cell_type": "code",
   "execution_count": 90,
   "id": "db212acd",
   "metadata": {},
   "outputs": [
    {
     "name": "stdout",
     "output_type": "stream",
     "text": [
      "yes\n"
     ]
    },
    {
     "ename": "ValueError",
     "evalue": "invalid literal for int() with base 10: 'a'",
     "output_type": "error",
     "traceback": [
      "\u001b[1;31m---------------------------------------------------------------------------\u001b[0m",
      "\u001b[1;31mValueError\u001b[0m                                Traceback (most recent call last)",
      "Cell \u001b[1;32mIn[90], line 3\u001b[0m\n\u001b[0;32m      1\u001b[0m a \u001b[38;5;241m=\u001b[39m \u001b[38;5;124m\"\u001b[39m\u001b[38;5;124m1asd12df234df54\u001b[39m\u001b[38;5;124m\"\u001b[39m\n\u001b[0;32m      2\u001b[0m \u001b[38;5;28;01mfor\u001b[39;00m i \u001b[38;5;129;01min\u001b[39;00m a:\n\u001b[1;32m----> 3\u001b[0m     v \u001b[38;5;241m=\u001b[39m \u001b[38;5;28;43mint\u001b[39;49m\u001b[43m(\u001b[49m\u001b[43mi\u001b[49m\u001b[43m)\u001b[49m\n\u001b[0;32m      4\u001b[0m     \u001b[38;5;28;01mif\u001b[39;00m(\u001b[38;5;28misinstance\u001b[39m(v,\u001b[38;5;28mint\u001b[39m)):\n\u001b[0;32m      5\u001b[0m         \u001b[38;5;28mprint\u001b[39m(\u001b[38;5;124m\"\u001b[39m\u001b[38;5;124myes\u001b[39m\u001b[38;5;124m\"\u001b[39m)\n",
      "\u001b[1;31mValueError\u001b[0m: invalid literal for int() with base 10: 'a'"
     ]
    }
   ],
   "source": [
    "a = \"1asd12df234df54\"\n",
    "for i in a:\n",
    "    v = int(i)\n",
    "    if(isinstance(v,int)):\n",
    "        print(\"yes\")\n",
    "    else:\n",
    "        print(\"No\")"
   ]
  },
  {
   "cell_type": "code",
   "execution_count": 93,
   "id": "d118e754",
   "metadata": {},
   "outputs": [
    {
     "name": "stdout",
     "output_type": "stream",
     "text": [
      "['1', '1', '2', '2', '3', '4', '5', '4']\n"
     ]
    }
   ],
   "source": [
    "import re\n",
    "a = \"1asd12df234df54\"\n",
    "x = re.findall(\"[0123456789]\", a)\n",
    "\n",
    "print(x)\n"
   ]
  },
  {
   "cell_type": "code",
   "execution_count": 31,
   "id": "da8eede7",
   "metadata": {},
   "outputs": [
    {
     "name": "stdout",
     "output_type": "stream",
     "text": [
      "which one biggest number do you want : 2\n",
      "123456\n",
      "[1, 1, 2, 3, 3, 4, 5, 6, 7, 8, 9, 21, 32, 33, 43, 43, 43, 54, 76, 78, 78, 98, 123, 123, 334, 456, 543, 543, 567, 765, 1234, 1234, 3456, 3456, 6543, 7654, 7654, 23456, 45678, 123456, 23457654]\n"
     ]
    }
   ],
   "source": [
    "no=int(input(\"which one biggest number do you want : \"))\n",
    "num=[1,43,2,9,1,3,4,5,33,21,54,6,7,8,123,123,1234,43,1234,543,123456,23457654,3,23456,6543,3456,7654,334,567,7654,32,3456,78,76,543,456,78,98,765,43,45678]\n",
    "num.sort()\n",
    "l = num[::1]\n",
    "for i in range(no):\n",
    "    f=num.pop()\n",
    "print(f)\n",
    "print(l)"
   ]
  },
  {
   "cell_type": "code",
   "execution_count": null,
   "id": "4117cdaf",
   "metadata": {},
   "outputs": [],
   "source": []
  },
  {
   "cell_type": "code",
   "execution_count": null,
   "id": "863f20cf",
   "metadata": {},
   "outputs": [],
   "source": []
  },
  {
   "cell_type": "code",
   "execution_count": null,
   "id": "c10a3907",
   "metadata": {},
   "outputs": [],
   "source": []
  },
  {
   "cell_type": "code",
   "execution_count": null,
   "id": "c622025c",
   "metadata": {},
   "outputs": [],
   "source": []
  },
  {
   "cell_type": "code",
   "execution_count": null,
   "id": "de9ef37b",
   "metadata": {},
   "outputs": [],
   "source": []
  },
  {
   "cell_type": "code",
   "execution_count": null,
   "id": "6fa9346d",
   "metadata": {},
   "outputs": [],
   "source": []
  },
  {
   "cell_type": "code",
   "execution_count": null,
   "id": "ccc72552",
   "metadata": {},
   "outputs": [],
   "source": []
  },
  {
   "cell_type": "code",
   "execution_count": null,
   "id": "1bbb5b71",
   "metadata": {},
   "outputs": [],
   "source": []
  },
  {
   "cell_type": "code",
   "execution_count": null,
   "id": "e23a8e19",
   "metadata": {},
   "outputs": [],
   "source": []
  },
  {
   "cell_type": "code",
   "execution_count": null,
   "id": "a9c7f79e",
   "metadata": {},
   "outputs": [],
   "source": []
  }
 ],
 "metadata": {
  "kernelspec": {
   "display_name": "Python 3 (ipykernel)",
   "language": "python",
   "name": "python3"
  },
  "language_info": {
   "codemirror_mode": {
    "name": "ipython",
    "version": 3
   },
   "file_extension": ".py",
   "mimetype": "text/x-python",
   "name": "python",
   "nbconvert_exporter": "python",
   "pygments_lexer": "ipython3",
   "version": "3.11.3"
  }
 },
 "nbformat": 4,
 "nbformat_minor": 5
}
