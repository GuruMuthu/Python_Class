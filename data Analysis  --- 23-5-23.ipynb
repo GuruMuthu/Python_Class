{
 "cells": [
  {
   "cell_type": "code",
   "execution_count": 14,
   "id": "1d60e71f",
   "metadata": {},
   "outputs": [],
   "source": [
    "import pandas as pd\n",
    "import plotly.express as px\n",
    "import plotly.graph_objects as go\n",
    "\n",
    "data=pd.read_csv(\"C:/Users/ELCOT/Downloads/transformed_data.csv\")\n",
    "data2=pd.read_csv(\"C:/Users/ELCOT/Downloads/raw_data.csv\")"
   ]
  },
  {
   "cell_type": "code",
   "execution_count": 15,
   "id": "2698d456",
   "metadata": {},
   "outputs": [
    {
     "name": "stdout",
     "output_type": "stream",
     "text": [
      "      CODE      COUNTRY        DATE    HDI    TC        TD       STI   \n",
      "0      AFG  Afghanistan  31-12-2019  0.498  0.00  0.000000  0.000000  \\\n",
      "1      AFG  Afghanistan  01-01-2020  0.498  0.00  0.000000  0.000000   \n",
      "2      AFG  Afghanistan  02-01-2020  0.498  0.00  0.000000  0.000000   \n",
      "3      AFG  Afghanistan  03-01-2020  0.498  0.00  0.000000  0.000000   \n",
      "4      AFG  Afghanistan  04-01-2020  0.498  0.00  0.000000  0.000000   \n",
      "...    ...          ...         ...    ...   ...       ...       ...   \n",
      "50413  ZWE     Zimbabwe  15-10-2020  0.535  8.99  5.442418  4.341855   \n",
      "50414  ZWE     Zimbabwe  16-10-2020  0.535  9.00  5.442418  4.341855   \n",
      "50415  ZWE     Zimbabwe  17-10-2020  0.535  9.00  5.442418  4.341855   \n",
      "50416  ZWE     Zimbabwe  18-10-2020  0.535  9.00  5.442418  4.341855   \n",
      "50417  ZWE     Zimbabwe  19-10-2020  0.535  9.01  5.442418  4.341855   \n",
      "\n",
      "             POP    GDPCAP  \n",
      "0      17.477233  7.497754  \n",
      "1      17.477233  7.497754  \n",
      "2      17.477233  7.497754  \n",
      "3      17.477233  7.497754  \n",
      "4      17.477233  7.497754  \n",
      "...          ...       ...  \n",
      "50413  16.514381  7.549491  \n",
      "50414  16.514381  7.549491  \n",
      "50415  16.514381  7.549491  \n",
      "50416  16.514381  7.549491  \n",
      "50417  16.514381  7.549491  \n",
      "\n",
      "[50418 rows x 9 columns]\n"
     ]
    }
   ],
   "source": [
    "print(data)"
   ]
  },
  {
   "cell_type": "code",
   "execution_count": 16,
   "id": "4c60ae0d",
   "metadata": {},
   "outputs": [
    {
     "name": "stdout",
     "output_type": "stream",
     "text": [
      "      iso_code     location        date  total_cases  total_deaths   \n",
      "0          AFG  Afghanistan  31-12-2019          0.0           0.0  \\\n",
      "1          AFG  Afghanistan  01-01-2020          0.0           0.0   \n",
      "2          AFG  Afghanistan  02-01-2020          0.0           0.0   \n",
      "3          AFG  Afghanistan  03-01-2020          0.0           0.0   \n",
      "4          AFG  Afghanistan  04-01-2020          0.0           0.0   \n",
      "...        ...          ...         ...          ...           ...   \n",
      "50413      ZWE     Zimbabwe  15-10-2020       8055.0         231.0   \n",
      "50414      ZWE     Zimbabwe  16-10-2020       8075.0         231.0   \n",
      "50415      ZWE     Zimbabwe  17-10-2020       8099.0         231.0   \n",
      "50416      ZWE     Zimbabwe  18-10-2020       8110.0         231.0   \n",
      "50417      ZWE     Zimbabwe  19-10-2020       8147.0         231.0   \n",
      "\n",
      "       stringency_index  population  gdp_per_capita  human_development_index   \n",
      "0                  0.00    38928341        1803.987                    0.498  \\\n",
      "1                  0.00    38928341        1803.987                    0.498   \n",
      "2                  0.00    38928341        1803.987                    0.498   \n",
      "3                  0.00    38928341        1803.987                    0.498   \n",
      "4                  0.00    38928341        1803.987                    0.498   \n",
      "...                 ...         ...             ...                      ...   \n",
      "50413             76.85    14862927        1899.775                    0.535   \n",
      "50414             76.85    14862927        1899.775                    0.535   \n",
      "50415             76.85    14862927        1899.775                    0.535   \n",
      "50416             76.85    14862927        1899.775                    0.535   \n",
      "50417             76.85    14862927        1899.775                    0.535   \n",
      "\n",
      "        Unnamed: 9  Unnamed: 10 Unnamed: 11  Unnamed: 12  Unnamed: 13  \n",
      "0            #NUM!        #NUM!       #NUM!    17.477233  7.497754494  \n",
      "1            #NUM!        #NUM!       #NUM!    17.477233  7.497754494  \n",
      "2            #NUM!        #NUM!       #NUM!    17.477233  7.497754494  \n",
      "3            #NUM!        #NUM!       #NUM!    17.477233  7.497754494  \n",
      "4            #NUM!        #NUM!       #NUM!    17.477233  7.497754494  \n",
      "...            ...          ...         ...          ...          ...  \n",
      "50413  8.994048296  5.442417711  4.34185547    16.514381  7.549490737  \n",
      "50414  8.996528148  5.442417711  4.34185547    16.514381  7.549490737  \n",
      "50415  8.999495876  5.442417711  4.34185547    16.514381  7.549490737  \n",
      "50416  9.000853147  5.442417711  4.34185547    16.514381  7.549490737  \n",
      "50417   9.00540504  5.442417711  4.34185547    16.514381  7.549490737  \n",
      "\n",
      "[50418 rows x 14 columns]\n"
     ]
    }
   ],
   "source": [
    "print(data2)"
   ]
  },
  {
   "cell_type": "code",
   "execution_count": 21,
   "id": "9adb117a",
   "metadata": {},
   "outputs": [
    {
     "name": "stdout",
     "output_type": "stream",
     "text": [
      "  CODE      COUNTRY        DATE    HDI   TC   TD  STI        POP    GDPCAP\n",
      "0  AFG  Afghanistan  31-12-2019  0.498  0.0  0.0  0.0  17.477233  7.497754\n",
      "1  AFG  Afghanistan  01-01-2020  0.498  0.0  0.0  0.0  17.477233  7.497754\n",
      "2  AFG  Afghanistan  02-01-2020  0.498  0.0  0.0  0.0  17.477233  7.497754\n",
      "3  AFG  Afghanistan  03-01-2020  0.498  0.0  0.0  0.0  17.477233  7.497754\n",
      "4  AFG  Afghanistan  04-01-2020  0.498  0.0  0.0  0.0  17.477233  7.497754\n",
      "5  AFG  Afghanistan  05-01-2020  0.498  0.0  0.0  0.0  17.477233  7.497754\n",
      "6  AFG  Afghanistan  06-01-2020  0.498  0.0  0.0  0.0  17.477233  7.497754\n",
      "7  AFG  Afghanistan  07-01-2020  0.498  0.0  0.0  0.0  17.477233  7.497754\n",
      "8  AFG  Afghanistan  08-01-2020  0.498  0.0  0.0  0.0  17.477233  7.497754\n",
      "9  AFG  Afghanistan  09-01-2020  0.498  0.0  0.0  0.0  17.477233  7.497754\n"
     ]
    }
   ],
   "source": [
    "print(data.head(10))"
   ]
  },
  {
   "cell_type": "code",
   "execution_count": 22,
   "id": "3f887d49",
   "metadata": {},
   "outputs": [
    {
     "name": "stdout",
     "output_type": "stream",
     "text": [
      "      CODE   COUNTRY        DATE    HDI    TC        TD       STI        POP   \n",
      "50413  ZWE  Zimbabwe  15-10-2020  0.535  8.99  5.442418  4.341855  16.514381  \\\n",
      "50414  ZWE  Zimbabwe  16-10-2020  0.535  9.00  5.442418  4.341855  16.514381   \n",
      "50415  ZWE  Zimbabwe  17-10-2020  0.535  9.00  5.442418  4.341855  16.514381   \n",
      "50416  ZWE  Zimbabwe  18-10-2020  0.535  9.00  5.442418  4.341855  16.514381   \n",
      "50417  ZWE  Zimbabwe  19-10-2020  0.535  9.01  5.442418  4.341855  16.514381   \n",
      "\n",
      "         GDPCAP  \n",
      "50413  7.549491  \n",
      "50414  7.549491  \n",
      "50415  7.549491  \n",
      "50416  7.549491  \n",
      "50417  7.549491  \n"
     ]
    }
   ],
   "source": [
    "print(data.tail())"
   ]
  },
  {
   "cell_type": "code",
   "execution_count": 23,
   "id": "96132be3",
   "metadata": {},
   "outputs": [
    {
     "name": "stdout",
     "output_type": "stream",
     "text": [
      "      CODE   COUNTRY        DATE    HDI    TC        TD       STI        POP   \n",
      "50408  ZWE  Zimbabwe  10-10-2020  0.535  8.99  5.433722  4.341855  16.514381  \\\n",
      "50409  ZWE  Zimbabwe  11-10-2020  0.535  8.99  5.438079  4.341855  16.514381   \n",
      "50410  ZWE  Zimbabwe  12-10-2020  0.535  8.99  5.438079  4.341855  16.514381   \n",
      "50411  ZWE  Zimbabwe  13-10-2020  0.535  8.99  5.438079  4.341855  16.514381   \n",
      "50412  ZWE  Zimbabwe  14-10-2020  0.535  8.99  5.438079  4.341855  16.514381   \n",
      "50413  ZWE  Zimbabwe  15-10-2020  0.535  8.99  5.442418  4.341855  16.514381   \n",
      "50414  ZWE  Zimbabwe  16-10-2020  0.535  9.00  5.442418  4.341855  16.514381   \n",
      "50415  ZWE  Zimbabwe  17-10-2020  0.535  9.00  5.442418  4.341855  16.514381   \n",
      "50416  ZWE  Zimbabwe  18-10-2020  0.535  9.00  5.442418  4.341855  16.514381   \n",
      "50417  ZWE  Zimbabwe  19-10-2020  0.535  9.01  5.442418  4.341855  16.514381   \n",
      "\n",
      "         GDPCAP  \n",
      "50408  7.549491  \n",
      "50409  7.549491  \n",
      "50410  7.549491  \n",
      "50411  7.549491  \n",
      "50412  7.549491  \n",
      "50413  7.549491  \n",
      "50414  7.549491  \n",
      "50415  7.549491  \n",
      "50416  7.549491  \n",
      "50417  7.549491  \n"
     ]
    }
   ],
   "source": [
    "print(data.tail(10))"
   ]
  },
  {
   "cell_type": "code",
   "execution_count": 24,
   "id": "741b0377",
   "metadata": {},
   "outputs": [
    {
     "data": {
      "text/plain": [
       "COUNTRY\n",
       "Afghanistan        294\n",
       "Indonesia          294\n",
       "Macedonia          294\n",
       "Luxembourg         294\n",
       "Lithuania          294\n",
       "                  ... \n",
       "Tajikistan         172\n",
       "Comoros            171\n",
       "Lesotho            158\n",
       "Hong Kong           51\n",
       "Solomon Islands      4\n",
       "Name: count, Length: 210, dtype: int64"
      ]
     },
     "execution_count": 24,
     "metadata": {},
     "output_type": "execute_result"
    }
   ],
   "source": [
    "data[\"COUNTRY\"].value_counts()"
   ]
  },
  {
   "cell_type": "code",
   "execution_count": 25,
   "id": "2204f65c",
   "metadata": {},
   "outputs": [
    {
     "data": {
      "text/plain": [
       "0    294\n",
       "Name: count, dtype: int64"
      ]
     },
     "execution_count": 25,
     "metadata": {},
     "output_type": "execute_result"
    }
   ],
   "source": [
    "data[\"COUNTRY\"].value_counts().mode()"
   ]
  },
  {
   "cell_type": "code",
   "execution_count": 26,
   "id": "271ebb20",
   "metadata": {},
   "outputs": [
    {
     "name": "stdout",
     "output_type": "stream",
     "text": [
      "[('muthu', 'py', 100), ('sankar', 'jav', 200), ('raj', 'jav', 300), ('surya', 'py', 90), ('kumar', 'py', 222)]\n"
     ]
    }
   ],
   "source": [
    "names=[\"muthu\",\"sankar\",\"raj\",\"surya\",\"kumar\"]\n",
    "lang=[\"py\",\"jav\",\"jav\",\"py\",\"py\"]\n",
    "marks=[100,200,300,90,222]\n",
    "\n",
    "val=list(zip(names,lang,marks))\n",
    "print(val)"
   ]
  },
  {
   "cell_type": "code",
   "execution_count": 33,
   "id": "f22904d9",
   "metadata": {},
   "outputs": [
    {
     "name": "stdout",
     "output_type": "stream",
     "text": [
      "     name lang  mark\n",
      "0   muthu   py   100\n",
      "1  sankar  jav   200\n",
      "2     raj  jav   300\n",
      "3   surya   py    90\n",
      "4   kumar   py   222\n"
     ]
    }
   ],
   "source": [
    "zip_data=pd.DataFrame(val,columns=[\"name\",\"lang\",\"mark\"])\n",
    "print(zip_data)"
   ]
  },
  {
   "cell_type": "code",
   "execution_count": 34,
   "id": "55ae0e1f",
   "metadata": {},
   "outputs": [
    {
     "name": "stdout",
     "output_type": "stream",
     "text": [
      "  Country Code      Country       HDI  Total Cases  Total Deaths   \n",
      "0          AFG  Afghanistan  0.498000    5126433.0      165875.0  \\\n",
      "1          ALB      Albania  0.600765    1071951.0       31056.0   \n",
      "2          DZA      Algeria  0.754000    4893999.0      206429.0   \n",
      "3          AND      Andorra  0.659551     223576.0        9850.0   \n",
      "4          AGO       Angola  0.418952     304005.0       11820.0   \n",
      "\n",
      "   Stringency Index  Population  \n",
      "0          3.049673   17.477233  \n",
      "1          3.005624   14.872537  \n",
      "2          3.195168   17.596309  \n",
      "3          2.677654   11.254996  \n",
      "4          2.965560   17.307957  \n"
     ]
    }
   ],
   "source": [
    "code = data[\"CODE\"].unique().tolist()\n",
    "country = data[\"COUNTRY\"].unique().tolist()\n",
    "hdi = []\n",
    "tc = []\n",
    "td = []\n",
    "sti = []\n",
    "population = data[\"POP\"].unique().tolist()\n",
    "gdp = []\n",
    "\n",
    "for i in country:\n",
    "    hdi.append((data.loc[data[\"COUNTRY\"] == i, \"HDI\"]).sum()/294)\n",
    "    tc.append((data2.loc[data2[\"location\"] == i, \"total_cases\"]).sum())\n",
    "    td.append((data2.loc[data2[\"location\"] == i, \"total_deaths\"]).sum())\n",
    "    sti.append((data.loc[data[\"COUNTRY\"] == i, \"STI\"]).sum()/294)\n",
    "    population.append((data2.loc[data2[\"location\"] == i, \"population\"]).sum()/294)\n",
    "\n",
    "aggregated_data = pd.DataFrame(list(zip(code, country, hdi, tc, td, sti, population)), \n",
    "                               columns = [\"Country Code\", \"Country\", \"HDI\", \n",
    "                                          \"Total Cases\", \"Total Deaths\", \n",
    "                                          \"Stringency Index\", \"Population\"])\n",
    "print(aggregated_data.head())"
   ]
  },
  {
   "cell_type": "code",
   "execution_count": 35,
   "id": "d4d8fdf3",
   "metadata": {},
   "outputs": [
    {
     "name": "stdout",
     "output_type": "stream",
     "text": [
      "    Country Code        Country      HDI  Total Cases  Total Deaths   \n",
      "200          USA  United States  0.92400  746014098.0    26477574.0  \\\n",
      "27           BRA         Brazil  0.75900  425704517.0    14340567.0   \n",
      "90           IND          India  0.64000  407771615.0     7247327.0   \n",
      "157          RUS         Russia  0.81600  132888951.0     2131571.0   \n",
      "150          PER           Peru  0.59949   74882695.0     3020038.0   \n",
      "\n",
      "     Stringency Index  Population  \n",
      "200          3.350949   19.617637  \n",
      "27           3.136028   19.174732  \n",
      "90           3.610552   21.045353  \n",
      "157          3.380088   18.798668  \n",
      "150          3.430126   17.311165  \n"
     ]
    }
   ],
   "source": [
    "data = aggregated_data.sort_values(by=[\"Total Cases\"], ascending=False)\n",
    "print(data.head())"
   ]
  },
  {
   "cell_type": "code",
   "execution_count": 36,
   "id": "33f10a68",
   "metadata": {},
   "outputs": [
    {
     "name": "stdout",
     "output_type": "stream",
     "text": [
      "    Country Code         Country       HDI  Total Cases  Total Deaths   \n",
      "200          USA   United States  0.924000  746014098.0    26477574.0  \\\n",
      "27           BRA          Brazil  0.759000  425704517.0    14340567.0   \n",
      "90           IND           India  0.640000  407771615.0     7247327.0   \n",
      "157          RUS          Russia  0.816000  132888951.0     2131571.0   \n",
      "150          PER            Peru  0.599490   74882695.0     3020038.0   \n",
      "125          MEX          Mexico  0.774000   74347548.0     7295850.0   \n",
      "178          ESP           Spain  0.887969   73717676.0     5510624.0   \n",
      "175          ZAF    South Africa  0.608653   63027659.0     1357682.0   \n",
      "42           COL        Colombia  0.581847   60543682.0     1936134.0   \n",
      "199          GBR  United Kingdom  0.922000   59475032.0     7249573.0   \n",
      "\n",
      "     Stringency Index  Population  \n",
      "200          3.350949   19.617637  \n",
      "27           3.136028   19.174732  \n",
      "90           3.610552   21.045353  \n",
      "157          3.380088   18.798668  \n",
      "150          3.430126   17.311165  \n",
      "125          3.019289   18.674802  \n",
      "178          3.393922   17.660427  \n",
      "175          3.364333   17.898266  \n",
      "42           3.357923   17.745037  \n",
      "199          3.353883   18.033340  \n"
     ]
    }
   ],
   "source": [
    "data=data.head(10)\n",
    "print(data)"
   ]
  },
  {
   "cell_type": "code",
   "execution_count": 37,
   "id": "e501b29e",
   "metadata": {},
   "outputs": [
    {
     "name": "stdout",
     "output_type": "stream",
     "text": [
      "    Country Code         Country       HDI  Total Cases  Total Deaths   \n",
      "200          USA   United States  0.924000  746014098.0    26477574.0  \\\n",
      "27           BRA          Brazil  0.759000  425704517.0    14340567.0   \n",
      "90           IND           India  0.640000  407771615.0     7247327.0   \n",
      "157          RUS          Russia  0.816000  132888951.0     2131571.0   \n",
      "150          PER            Peru  0.599490   74882695.0     3020038.0   \n",
      "125          MEX          Mexico  0.774000   74347548.0     7295850.0   \n",
      "178          ESP           Spain  0.887969   73717676.0     5510624.0   \n",
      "175          ZAF    South Africa  0.608653   63027659.0     1357682.0   \n",
      "42           COL        Colombia  0.581847   60543682.0     1936134.0   \n",
      "199          GBR  United Kingdom  0.922000   59475032.0     7249573.0   \n",
      "\n",
      "     Stringency Index  Population  GDP Before Covid  GDP During Covid  \n",
      "200          3.350949   19.617637          65279.53          63543.58  \n",
      "27           3.136028   19.174732           8897.49           6796.84  \n",
      "90           3.610552   21.045353           2100.75           1900.71  \n",
      "157          3.380088   18.798668          11497.65          10126.72  \n",
      "150          3.430126   17.311165           7027.61           6126.87  \n",
      "125          3.019289   18.674802           9946.03           8346.70  \n",
      "178          3.393922   17.660427          29564.74          27057.16  \n",
      "175          3.364333   17.898266           6001.40           5090.72  \n",
      "42           3.357923   17.745037           6424.98           5332.77  \n",
      "199          3.353883   18.033340          42354.41          40284.64  \n"
     ]
    }
   ],
   "source": [
    "data[\"GDP Before Covid\"] = [65279.53, 8897.49, 2100.75, \n",
    "                            11497.65, 7027.61, 9946.03, \n",
    "                            29564.74, 6001.40, 6424.98, 42354.41]\n",
    "data[\"GDP During Covid\"] = [63543.58, 6796.84, 1900.71, \n",
    "                            10126.72, 6126.87, 8346.70, \n",
    "                            27057.16, 5090.72, 5332.77, 40284.64]\n",
    "print(data)"
   ]
  },
  {
   "cell_type": "code",
   "execution_count": 38,
   "id": "97cb93c5",
   "metadata": {},
   "outputs": [
    {
     "name": "stdout",
     "output_type": "stream",
     "text": [
      "    Country Code         Country       HDI  Total Cases  Total Deaths   \n",
      "200          USA   United States  0.924000  746014098.0    26477574.0  \\\n",
      "27           BRA          Brazil  0.759000  425704517.0    14340567.0   \n",
      "90           IND           India  0.640000  407771615.0     7247327.0   \n",
      "157          RUS          Russia  0.816000  132888951.0     2131571.0   \n",
      "150          PER            Peru  0.599490   74882695.0     3020038.0   \n",
      "125          MEX          Mexico  0.774000   74347548.0     7295850.0   \n",
      "178          ESP           Spain  0.887969   73717676.0     5510624.0   \n",
      "175          ZAF    South Africa  0.608653   63027659.0     1357682.0   \n",
      "42           COL        Colombia  0.581847   60543682.0     1936134.0   \n",
      "199          GBR  United Kingdom  0.922000   59475032.0     7249573.0   \n",
      "\n",
      "     Stringency Index  Population  GDP Before Covid  GDP During Covid   \n",
      "200          3.350949   19.617637          65279.53          63543.58  \\\n",
      "27           3.136028   19.174732           8897.49           6796.84   \n",
      "90           3.610552   21.045353           2100.75           1900.71   \n",
      "157          3.380088   18.798668          11497.65          10126.72   \n",
      "150          3.430126   17.311165           7027.61           6126.87   \n",
      "125          3.019289   18.674802           9946.03           8346.70   \n",
      "178          3.393922   17.660427          29564.74          27057.16   \n",
      "175          3.364333   17.898266           6001.40           5090.72   \n",
      "42           3.357923   17.745037           6424.98           5332.77   \n",
      "199          3.353883   18.033340          42354.41          40284.64   \n",
      "\n",
      "      vaccination  \n",
      "200  1.234568e+07  \n",
      "27   8.897543e+07  \n",
      "90   2.102345e+07  \n",
      "157  1.123450e+07  \n",
      "150  7.027443e+06  \n",
      "125  9.942346e+06  \n",
      "178  2.952346e+07  \n",
      "175  6.034530e+07  \n",
      "42   6.423454e+08  \n",
      "199  4.232335e+08  \n"
     ]
    }
   ],
   "source": [
    "data[\"vaccination\"] = [12345676.53, 88975432.49, 21023450.75, \n",
    "                            11234497.65, 7027442.61, 9942346.03, \n",
    "                            29523464.74, 60345301.40, 642345424.98, 423233454.41]\n",
    "\n",
    "print(data)"
   ]
  },
  {
   "cell_type": "code",
   "execution_count": null,
   "id": "055dc50b",
   "metadata": {},
   "outputs": [],
   "source": []
  }
 ],
 "metadata": {
  "kernelspec": {
   "display_name": "Python 3 (ipykernel)",
   "language": "python",
   "name": "python3"
  },
  "language_info": {
   "codemirror_mode": {
    "name": "ipython",
    "version": 3
   },
   "file_extension": ".py",
   "mimetype": "text/x-python",
   "name": "python",
   "nbconvert_exporter": "python",
   "pygments_lexer": "ipython3",
   "version": "3.11.3"
  }
 },
 "nbformat": 4,
 "nbformat_minor": 5
}
