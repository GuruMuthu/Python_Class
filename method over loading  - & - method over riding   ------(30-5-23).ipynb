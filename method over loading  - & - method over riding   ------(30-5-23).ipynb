{
 "cells": [
  {
   "cell_type": "code",
   "execution_count": 2,
   "id": "f8dc67b6",
   "metadata": {},
   "outputs": [],
   "source": [
    "from multipledispatch import dispatch"
   ]
  },
  {
   "cell_type": "code",
   "execution_count": 10,
   "id": "36c53c68",
   "metadata": {},
   "outputs": [
    {
     "name": "stdout",
     "output_type": "stream",
     "text": [
      "5\n",
      "9\n",
      "6.9\n"
     ]
    }
   ],
   "source": [
    "# method over--loading :-\n",
    "\n",
    "@dispatch(int,int)\n",
    "def product(first,second):\n",
    "     print(first+second)\n",
    "    \n",
    "@dispatch(int,int,int)\n",
    "def product(first,second,third):\n",
    "     print(first+second+third)\n",
    "    \n",
    "@dispatch(float,float,float)\n",
    "def product(first,second,third):\n",
    "     print(first+second+third)\n",
    "    \n",
    "product(2,3)\n",
    "product(2,3,4)\n",
    "product(1.2,2.3,3.4)"
   ]
  },
  {
   "cell_type": "code",
   "execution_count": 12,
   "id": "8fd60b39",
   "metadata": {},
   "outputs": [
    {
     "name": "stdout",
     "output_type": "stream",
     "text": [
      "inside parent\n",
      "inside child\n"
     ]
    }
   ],
   "source": [
    "# method over--riding:-\n",
    "\n",
    "class parent():\n",
    "    \n",
    "    def __init__(self):\n",
    "        self.value = \"inside parent\"\n",
    "    \n",
    "    def show(self):\n",
    "        print(self.value)\n",
    "        \n",
    "\n",
    "class child(parent):\n",
    "    \n",
    "    def __init__(self):\n",
    "        self.value = \"inside child\"\n",
    "    \n",
    "    def show(self):\n",
    "        print(self.value)     \n",
    "        \n",
    "        \n",
    "o1=parent()\n",
    "o2=child()\n",
    "\n",
    "o1.show()\n",
    "o2.show()"
   ]
  },
  {
   "cell_type": "code",
   "execution_count": null,
   "id": "238eb09b",
   "metadata": {},
   "outputs": [],
   "source": []
  }
 ],
 "metadata": {
  "kernelspec": {
   "display_name": "Python 3 (ipykernel)",
   "language": "python",
   "name": "python3"
  },
  "language_info": {
   "codemirror_mode": {
    "name": "ipython",
    "version": 3
   },
   "file_extension": ".py",
   "mimetype": "text/x-python",
   "name": "python",
   "nbconvert_exporter": "python",
   "pygments_lexer": "ipython3",
   "version": "3.11.3"
  }
 },
 "nbformat": 4,
 "nbformat_minor": 5
}
